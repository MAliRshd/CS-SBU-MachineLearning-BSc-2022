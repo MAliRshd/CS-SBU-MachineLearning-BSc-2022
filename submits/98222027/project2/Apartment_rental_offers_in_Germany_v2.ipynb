{
  "nbformat": 4,
  "nbformat_minor": 0,
  "metadata": {
    "colab": {
      "name": "Apartment rental offers in Germany_v2.ipynb",
      "provenance": [],
      "collapsed_sections": [],
      "mount_file_id": "1dYs6WKavziOM2abVmIqGK_xO--yjc4wp",
      "authorship_tag": "ABX9TyNdiMvDrXGkL6pIk7JVXEPG"
    },
    "kernelspec": {
      "name": "python3",
      "display_name": "Python 3"
    },
    "language_info": {
      "name": "python"
    }
  },
  "cells": [
    {
      "cell_type": "markdown",
      "source": [
        "# Downloading dataset"
      ],
      "metadata": {
        "id": "hJlR3celQtM3"
      }
    },
    {
      "cell_type": "code",
      "execution_count": 1,
      "metadata": {
        "id": "P4pLAyhBP9FD"
      },
      "outputs": [],
      "source": [
        "!mkdir -p ~/.kaggle\n",
        "!cp /content/drive/MyDrive/kaggle.json ~/.kaggle/\n",
        "!chmod 600 ~/.kaggle/kaggle.json"
      ]
    },
    {
      "cell_type": "code",
      "source": [
        "!kaggle datasets download -d corrieaar/apartment-rental-offers-in-germany"
      ],
      "metadata": {
        "colab": {
          "base_uri": "https://localhost:8080/"
        },
        "id": "dz-FlC2wQ1k_",
        "outputId": "8839f4ae-1745-42ba-9b1b-a3536306ce8e"
      },
      "execution_count": 2,
      "outputs": [
        {
          "output_type": "stream",
          "name": "stdout",
          "text": [
            "Downloading apartment-rental-offers-in-germany.zip to /content\n",
            " 95% 88.0M/93.0M [00:04<00:00, 28.1MB/s]\n",
            "100% 93.0M/93.0M [00:04<00:00, 21.9MB/s]\n"
          ]
        }
      ]
    },
    {
      "cell_type": "code",
      "source": [
        "!unzip apartment-rental-offers-in-germany.zip"
      ],
      "metadata": {
        "colab": {
          "base_uri": "https://localhost:8080/"
        },
        "id": "QP1O49imQ31n",
        "outputId": "0aef4682-ac48-4434-f561-a4aa319abdd8"
      },
      "execution_count": 3,
      "outputs": [
        {
          "output_type": "stream",
          "name": "stdout",
          "text": [
            "Archive:  apartment-rental-offers-in-germany.zip\n",
            "  inflating: immo_data.csv           \n"
          ]
        }
      ]
    },
    {
      "cell_type": "markdown",
      "source": [
        "# Loading Dataset "
      ],
      "metadata": {
        "id": "4C4z3UHzRrqT"
      }
    },
    {
      "cell_type": "code",
      "source": [
        "import pandas as pd\n",
        "import numpy as np\n",
        "import matplotlib.pyplot as plt\n",
        "import seaborn as sns\n",
        "%matplotlib inline"
      ],
      "metadata": {
        "id": "uIDxuYVYQ5U9"
      },
      "execution_count": 4,
      "outputs": []
    },
    {
      "cell_type": "code",
      "source": [
        "dataset = pd.read_csv('immo_data.csv')"
      ],
      "metadata": {
        "id": "FX1bZWAmRvtO"
      },
      "execution_count": 5,
      "outputs": []
    },
    {
      "cell_type": "code",
      "source": [
        "dataset.head()"
      ],
      "metadata": {
        "colab": {
          "base_uri": "https://localhost:8080/",
          "height": 577
        },
        "id": "YfmS_J4lRxxZ",
        "outputId": "55fbb5aa-222d-4bc2-9c63-d8742b68ac80"
      },
      "execution_count": 6,
      "outputs": [
        {
          "output_type": "execute_result",
          "data": {
            "text/plain": [
              "                regio1  serviceCharge                     heatingType  \\\n",
              "0  Nordrhein_Westfalen         245.00                 central_heating   \n",
              "1      Rheinland_Pfalz         134.00  self_contained_central_heating   \n",
              "2              Sachsen         255.00                   floor_heating   \n",
              "3              Sachsen          58.15                district_heating   \n",
              "4               Bremen         138.00  self_contained_central_heating   \n",
              "\n",
              "  telekomTvOffer  telekomHybridUploadSpeed  newlyConst  balcony  picturecount  \\\n",
              "0  ONE_YEAR_FREE                       NaN       False    False             6   \n",
              "1  ONE_YEAR_FREE                       NaN       False     True             8   \n",
              "2  ONE_YEAR_FREE                      10.0        True     True             8   \n",
              "3  ONE_YEAR_FREE                       NaN       False     True             9   \n",
              "4            NaN                       NaN       False     True            19   \n",
              "\n",
              "   pricetrend  telekomUploadSpeed  ...               regio2  \\\n",
              "0        4.62                10.0  ...             Dortmund   \n",
              "1        3.47                10.0  ...    Rhein_Pfalz_Kreis   \n",
              "2        2.72                 2.4  ...              Dresden   \n",
              "3        1.53                40.0  ...  Mittelsachsen_Kreis   \n",
              "4        2.46                 NaN  ...               Bremen   \n",
              "\n",
              "                       regio3  \\\n",
              "0                     Schüren   \n",
              "1              Böhl_Iggelheim   \n",
              "2  Äußere_Neustadt_Antonstadt   \n",
              "3                    Freiberg   \n",
              "4           Neu_Schwachhausen   \n",
              "\n",
              "                                         description  \\\n",
              "0  Die ebenerdig zu erreichende Erdgeschosswohnun...   \n",
              "1  Alles neu macht der Mai – so kann es auch für ...   \n",
              "2  Der Neubau entsteht im Herzen der Dresdner Neu...   \n",
              "3  Abseits von Lärm und Abgasen in Ihre neue Wohn...   \n",
              "4  Es handelt sich hier um ein saniertes Mehrfami...   \n",
              "\n",
              "                                          facilities heatingCosts  \\\n",
              "0  Die Wohnung ist mit Laminat ausgelegt. Das Bad...          NaN   \n",
              "1                                                NaN          NaN   \n",
              "2  * 9 m² Balkon\\n* Bad mit bodengleicher Dusche,...          NaN   \n",
              "3                                                NaN        87.23   \n",
              "4  Diese Wohnung wurde neu saniert und ist wie fo...          NaN   \n",
              "\n",
              "   energyEfficiencyClass lastRefurbish  electricityBasePrice  \\\n",
              "0                    NaN           NaN                   NaN   \n",
              "1                    NaN        2019.0                   NaN   \n",
              "2                    NaN           NaN                   NaN   \n",
              "3                    NaN           NaN                   NaN   \n",
              "4                    NaN           NaN                   NaN   \n",
              "\n",
              "   electricityKwhPrice   date  \n",
              "0                  NaN  May19  \n",
              "1                  NaN  May19  \n",
              "2                  NaN  Oct19  \n",
              "3                  NaN  May19  \n",
              "4                  NaN  Feb20  \n",
              "\n",
              "[5 rows x 49 columns]"
            ],
            "text/html": [
              "\n",
              "  <div id=\"df-ea39310c-a290-417a-b35a-3f60d619dee5\">\n",
              "    <div class=\"colab-df-container\">\n",
              "      <div>\n",
              "<style scoped>\n",
              "    .dataframe tbody tr th:only-of-type {\n",
              "        vertical-align: middle;\n",
              "    }\n",
              "\n",
              "    .dataframe tbody tr th {\n",
              "        vertical-align: top;\n",
              "    }\n",
              "\n",
              "    .dataframe thead th {\n",
              "        text-align: right;\n",
              "    }\n",
              "</style>\n",
              "<table border=\"1\" class=\"dataframe\">\n",
              "  <thead>\n",
              "    <tr style=\"text-align: right;\">\n",
              "      <th></th>\n",
              "      <th>regio1</th>\n",
              "      <th>serviceCharge</th>\n",
              "      <th>heatingType</th>\n",
              "      <th>telekomTvOffer</th>\n",
              "      <th>telekomHybridUploadSpeed</th>\n",
              "      <th>newlyConst</th>\n",
              "      <th>balcony</th>\n",
              "      <th>picturecount</th>\n",
              "      <th>pricetrend</th>\n",
              "      <th>telekomUploadSpeed</th>\n",
              "      <th>...</th>\n",
              "      <th>regio2</th>\n",
              "      <th>regio3</th>\n",
              "      <th>description</th>\n",
              "      <th>facilities</th>\n",
              "      <th>heatingCosts</th>\n",
              "      <th>energyEfficiencyClass</th>\n",
              "      <th>lastRefurbish</th>\n",
              "      <th>electricityBasePrice</th>\n",
              "      <th>electricityKwhPrice</th>\n",
              "      <th>date</th>\n",
              "    </tr>\n",
              "  </thead>\n",
              "  <tbody>\n",
              "    <tr>\n",
              "      <th>0</th>\n",
              "      <td>Nordrhein_Westfalen</td>\n",
              "      <td>245.00</td>\n",
              "      <td>central_heating</td>\n",
              "      <td>ONE_YEAR_FREE</td>\n",
              "      <td>NaN</td>\n",
              "      <td>False</td>\n",
              "      <td>False</td>\n",
              "      <td>6</td>\n",
              "      <td>4.62</td>\n",
              "      <td>10.0</td>\n",
              "      <td>...</td>\n",
              "      <td>Dortmund</td>\n",
              "      <td>Schüren</td>\n",
              "      <td>Die ebenerdig zu erreichende Erdgeschosswohnun...</td>\n",
              "      <td>Die Wohnung ist mit Laminat ausgelegt. Das Bad...</td>\n",
              "      <td>NaN</td>\n",
              "      <td>NaN</td>\n",
              "      <td>NaN</td>\n",
              "      <td>NaN</td>\n",
              "      <td>NaN</td>\n",
              "      <td>May19</td>\n",
              "    </tr>\n",
              "    <tr>\n",
              "      <th>1</th>\n",
              "      <td>Rheinland_Pfalz</td>\n",
              "      <td>134.00</td>\n",
              "      <td>self_contained_central_heating</td>\n",
              "      <td>ONE_YEAR_FREE</td>\n",
              "      <td>NaN</td>\n",
              "      <td>False</td>\n",
              "      <td>True</td>\n",
              "      <td>8</td>\n",
              "      <td>3.47</td>\n",
              "      <td>10.0</td>\n",
              "      <td>...</td>\n",
              "      <td>Rhein_Pfalz_Kreis</td>\n",
              "      <td>Böhl_Iggelheim</td>\n",
              "      <td>Alles neu macht der Mai – so kann es auch für ...</td>\n",
              "      <td>NaN</td>\n",
              "      <td>NaN</td>\n",
              "      <td>NaN</td>\n",
              "      <td>2019.0</td>\n",
              "      <td>NaN</td>\n",
              "      <td>NaN</td>\n",
              "      <td>May19</td>\n",
              "    </tr>\n",
              "    <tr>\n",
              "      <th>2</th>\n",
              "      <td>Sachsen</td>\n",
              "      <td>255.00</td>\n",
              "      <td>floor_heating</td>\n",
              "      <td>ONE_YEAR_FREE</td>\n",
              "      <td>10.0</td>\n",
              "      <td>True</td>\n",
              "      <td>True</td>\n",
              "      <td>8</td>\n",
              "      <td>2.72</td>\n",
              "      <td>2.4</td>\n",
              "      <td>...</td>\n",
              "      <td>Dresden</td>\n",
              "      <td>Äußere_Neustadt_Antonstadt</td>\n",
              "      <td>Der Neubau entsteht im Herzen der Dresdner Neu...</td>\n",
              "      <td>* 9 m² Balkon\\n* Bad mit bodengleicher Dusche,...</td>\n",
              "      <td>NaN</td>\n",
              "      <td>NaN</td>\n",
              "      <td>NaN</td>\n",
              "      <td>NaN</td>\n",
              "      <td>NaN</td>\n",
              "      <td>Oct19</td>\n",
              "    </tr>\n",
              "    <tr>\n",
              "      <th>3</th>\n",
              "      <td>Sachsen</td>\n",
              "      <td>58.15</td>\n",
              "      <td>district_heating</td>\n",
              "      <td>ONE_YEAR_FREE</td>\n",
              "      <td>NaN</td>\n",
              "      <td>False</td>\n",
              "      <td>True</td>\n",
              "      <td>9</td>\n",
              "      <td>1.53</td>\n",
              "      <td>40.0</td>\n",
              "      <td>...</td>\n",
              "      <td>Mittelsachsen_Kreis</td>\n",
              "      <td>Freiberg</td>\n",
              "      <td>Abseits von Lärm und Abgasen in Ihre neue Wohn...</td>\n",
              "      <td>NaN</td>\n",
              "      <td>87.23</td>\n",
              "      <td>NaN</td>\n",
              "      <td>NaN</td>\n",
              "      <td>NaN</td>\n",
              "      <td>NaN</td>\n",
              "      <td>May19</td>\n",
              "    </tr>\n",
              "    <tr>\n",
              "      <th>4</th>\n",
              "      <td>Bremen</td>\n",
              "      <td>138.00</td>\n",
              "      <td>self_contained_central_heating</td>\n",
              "      <td>NaN</td>\n",
              "      <td>NaN</td>\n",
              "      <td>False</td>\n",
              "      <td>True</td>\n",
              "      <td>19</td>\n",
              "      <td>2.46</td>\n",
              "      <td>NaN</td>\n",
              "      <td>...</td>\n",
              "      <td>Bremen</td>\n",
              "      <td>Neu_Schwachhausen</td>\n",
              "      <td>Es handelt sich hier um ein saniertes Mehrfami...</td>\n",
              "      <td>Diese Wohnung wurde neu saniert und ist wie fo...</td>\n",
              "      <td>NaN</td>\n",
              "      <td>NaN</td>\n",
              "      <td>NaN</td>\n",
              "      <td>NaN</td>\n",
              "      <td>NaN</td>\n",
              "      <td>Feb20</td>\n",
              "    </tr>\n",
              "  </tbody>\n",
              "</table>\n",
              "<p>5 rows × 49 columns</p>\n",
              "</div>\n",
              "      <button class=\"colab-df-convert\" onclick=\"convertToInteractive('df-ea39310c-a290-417a-b35a-3f60d619dee5')\"\n",
              "              title=\"Convert this dataframe to an interactive table.\"\n",
              "              style=\"display:none;\">\n",
              "        \n",
              "  <svg xmlns=\"http://www.w3.org/2000/svg\" height=\"24px\"viewBox=\"0 0 24 24\"\n",
              "       width=\"24px\">\n",
              "    <path d=\"M0 0h24v24H0V0z\" fill=\"none\"/>\n",
              "    <path d=\"M18.56 5.44l.94 2.06.94-2.06 2.06-.94-2.06-.94-.94-2.06-.94 2.06-2.06.94zm-11 1L8.5 8.5l.94-2.06 2.06-.94-2.06-.94L8.5 2.5l-.94 2.06-2.06.94zm10 10l.94 2.06.94-2.06 2.06-.94-2.06-.94-.94-2.06-.94 2.06-2.06.94z\"/><path d=\"M17.41 7.96l-1.37-1.37c-.4-.4-.92-.59-1.43-.59-.52 0-1.04.2-1.43.59L10.3 9.45l-7.72 7.72c-.78.78-.78 2.05 0 2.83L4 21.41c.39.39.9.59 1.41.59.51 0 1.02-.2 1.41-.59l7.78-7.78 2.81-2.81c.8-.78.8-2.07 0-2.86zM5.41 20L4 18.59l7.72-7.72 1.47 1.35L5.41 20z\"/>\n",
              "  </svg>\n",
              "      </button>\n",
              "      \n",
              "  <style>\n",
              "    .colab-df-container {\n",
              "      display:flex;\n",
              "      flex-wrap:wrap;\n",
              "      gap: 12px;\n",
              "    }\n",
              "\n",
              "    .colab-df-convert {\n",
              "      background-color: #E8F0FE;\n",
              "      border: none;\n",
              "      border-radius: 50%;\n",
              "      cursor: pointer;\n",
              "      display: none;\n",
              "      fill: #1967D2;\n",
              "      height: 32px;\n",
              "      padding: 0 0 0 0;\n",
              "      width: 32px;\n",
              "    }\n",
              "\n",
              "    .colab-df-convert:hover {\n",
              "      background-color: #E2EBFA;\n",
              "      box-shadow: 0px 1px 2px rgba(60, 64, 67, 0.3), 0px 1px 3px 1px rgba(60, 64, 67, 0.15);\n",
              "      fill: #174EA6;\n",
              "    }\n",
              "\n",
              "    [theme=dark] .colab-df-convert {\n",
              "      background-color: #3B4455;\n",
              "      fill: #D2E3FC;\n",
              "    }\n",
              "\n",
              "    [theme=dark] .colab-df-convert:hover {\n",
              "      background-color: #434B5C;\n",
              "      box-shadow: 0px 1px 3px 1px rgba(0, 0, 0, 0.15);\n",
              "      filter: drop-shadow(0px 1px 2px rgba(0, 0, 0, 0.3));\n",
              "      fill: #FFFFFF;\n",
              "    }\n",
              "  </style>\n",
              "\n",
              "      <script>\n",
              "        const buttonEl =\n",
              "          document.querySelector('#df-ea39310c-a290-417a-b35a-3f60d619dee5 button.colab-df-convert');\n",
              "        buttonEl.style.display =\n",
              "          google.colab.kernel.accessAllowed ? 'block' : 'none';\n",
              "\n",
              "        async function convertToInteractive(key) {\n",
              "          const element = document.querySelector('#df-ea39310c-a290-417a-b35a-3f60d619dee5');\n",
              "          const dataTable =\n",
              "            await google.colab.kernel.invokeFunction('convertToInteractive',\n",
              "                                                     [key], {});\n",
              "          if (!dataTable) return;\n",
              "\n",
              "          const docLinkHtml = 'Like what you see? Visit the ' +\n",
              "            '<a target=\"_blank\" href=https://colab.research.google.com/notebooks/data_table.ipynb>data table notebook</a>'\n",
              "            + ' to learn more about interactive tables.';\n",
              "          element.innerHTML = '';\n",
              "          dataTable['output_type'] = 'display_data';\n",
              "          await google.colab.output.renderOutput(dataTable, element);\n",
              "          const docLink = document.createElement('div');\n",
              "          docLink.innerHTML = docLinkHtml;\n",
              "          element.appendChild(docLink);\n",
              "        }\n",
              "      </script>\n",
              "    </div>\n",
              "  </div>\n",
              "  "
            ]
          },
          "metadata": {},
          "execution_count": 6
        }
      ]
    },
    {
      "cell_type": "code",
      "source": [
        "dataset.info()"
      ],
      "metadata": {
        "colab": {
          "base_uri": "https://localhost:8080/"
        },
        "id": "JbhRMhc9Rz6Q",
        "outputId": "cffec0fa-11f4-4e84-c11b-513f039b9c09"
      },
      "execution_count": 7,
      "outputs": [
        {
          "output_type": "stream",
          "name": "stdout",
          "text": [
            "<class 'pandas.core.frame.DataFrame'>\n",
            "RangeIndex: 268850 entries, 0 to 268849\n",
            "Data columns (total 49 columns):\n",
            " #   Column                    Non-Null Count   Dtype  \n",
            "---  ------                    --------------   -----  \n",
            " 0   regio1                    268850 non-null  object \n",
            " 1   serviceCharge             261941 non-null  float64\n",
            " 2   heatingType               223994 non-null  object \n",
            " 3   telekomTvOffer            236231 non-null  object \n",
            " 4   telekomHybridUploadSpeed  45020 non-null   float64\n",
            " 5   newlyConst                268850 non-null  bool   \n",
            " 6   balcony                   268850 non-null  bool   \n",
            " 7   picturecount              268850 non-null  int64  \n",
            " 8   pricetrend                267018 non-null  float64\n",
            " 9   telekomUploadSpeed        235492 non-null  float64\n",
            " 10  totalRent                 228333 non-null  float64\n",
            " 11  yearConstructed           211805 non-null  float64\n",
            " 12  scoutId                   268850 non-null  int64  \n",
            " 13  noParkSpaces              93052 non-null   float64\n",
            " 14  firingTypes               211886 non-null  object \n",
            " 15  hasKitchen                268850 non-null  bool   \n",
            " 16  geo_bln                   268850 non-null  object \n",
            " 17  cellar                    268850 non-null  bool   \n",
            " 18  yearConstructedRange      211805 non-null  float64\n",
            " 19  baseRent                  268850 non-null  float64\n",
            " 20  houseNumber               197832 non-null  object \n",
            " 21  livingSpace               268850 non-null  float64\n",
            " 22  geo_krs                   268850 non-null  object \n",
            " 23  condition                 200361 non-null  object \n",
            " 24  interiorQual              156185 non-null  object \n",
            " 25  petsAllowed               154277 non-null  object \n",
            " 26  street                    268850 non-null  object \n",
            " 27  streetPlain               197837 non-null  object \n",
            " 28  lift                      268850 non-null  bool   \n",
            " 29  baseRentRange             268850 non-null  int64  \n",
            " 30  typeOfFlat                232236 non-null  object \n",
            " 31  geo_plz                   268850 non-null  int64  \n",
            " 32  noRooms                   268850 non-null  float64\n",
            " 33  thermalChar               162344 non-null  float64\n",
            " 34  floor                     217541 non-null  float64\n",
            " 35  numberOfFloors            171118 non-null  float64\n",
            " 36  noRoomsRange              268850 non-null  int64  \n",
            " 37  garden                    268850 non-null  bool   \n",
            " 38  livingSpaceRange          268850 non-null  int64  \n",
            " 39  regio2                    268850 non-null  object \n",
            " 40  regio3                    268850 non-null  object \n",
            " 41  description               249103 non-null  object \n",
            " 42  facilities                215926 non-null  object \n",
            " 43  heatingCosts              85518 non-null   float64\n",
            " 44  energyEfficiencyClass     77787 non-null   object \n",
            " 45  lastRefurbish             80711 non-null   float64\n",
            " 46  electricityBasePrice      46846 non-null   float64\n",
            " 47  electricityKwhPrice       46846 non-null   float64\n",
            " 48  date                      268850 non-null  object \n",
            "dtypes: bool(6), float64(18), int64(6), object(19)\n",
            "memory usage: 89.7+ MB\n"
          ]
        }
      ]
    },
    {
      "cell_type": "markdown",
      "source": [
        "#Preprocessing"
      ],
      "metadata": {
        "id": "VkmKR_u_SFQW"
      }
    },
    {
      "cell_type": "markdown",
      "source": [
        "We use preprocessing steps from previous assignment"
      ],
      "metadata": {
        "id": "X2G201uLhEC5"
      }
    },
    {
      "cell_type": "code",
      "source": [
        "dataset.isnull().sum()/len(dataset)"
      ],
      "metadata": {
        "colab": {
          "base_uri": "https://localhost:8080/"
        },
        "id": "XnRcNxYpR-Fc",
        "outputId": "e39eeeab-b88f-49c2-88da-6d07a3d14da4"
      },
      "execution_count": 8,
      "outputs": [
        {
          "output_type": "execute_result",
          "data": {
            "text/plain": [
              "regio1                      0.000000\n",
              "serviceCharge               0.025698\n",
              "heatingType                 0.166844\n",
              "telekomTvOffer              0.121328\n",
              "telekomHybridUploadSpeed    0.832546\n",
              "newlyConst                  0.000000\n",
              "balcony                     0.000000\n",
              "picturecount                0.000000\n",
              "pricetrend                  0.006814\n",
              "telekomUploadSpeed          0.124077\n",
              "totalRent                   0.150705\n",
              "yearConstructed             0.212182\n",
              "scoutId                     0.000000\n",
              "noParkSpaces                0.653889\n",
              "firingTypes                 0.211880\n",
              "hasKitchen                  0.000000\n",
              "geo_bln                     0.000000\n",
              "cellar                      0.000000\n",
              "yearConstructedRange        0.212182\n",
              "baseRent                    0.000000\n",
              "houseNumber                 0.264155\n",
              "livingSpace                 0.000000\n",
              "geo_krs                     0.000000\n",
              "condition                   0.254748\n",
              "interiorQual                0.419063\n",
              "petsAllowed                 0.426160\n",
              "street                      0.000000\n",
              "streetPlain                 0.264136\n",
              "lift                        0.000000\n",
              "baseRentRange               0.000000\n",
              "typeOfFlat                  0.136187\n",
              "geo_plz                     0.000000\n",
              "noRooms                     0.000000\n",
              "thermalChar                 0.396154\n",
              "floor                       0.190846\n",
              "numberOfFloors              0.363519\n",
              "noRoomsRange                0.000000\n",
              "garden                      0.000000\n",
              "livingSpaceRange            0.000000\n",
              "regio2                      0.000000\n",
              "regio3                      0.000000\n",
              "description                 0.073450\n",
              "facilities                  0.196853\n",
              "heatingCosts                0.681912\n",
              "energyEfficiencyClass       0.710668\n",
              "lastRefurbish               0.699792\n",
              "electricityBasePrice        0.825754\n",
              "electricityKwhPrice         0.825754\n",
              "date                        0.000000\n",
              "dtype: float64"
            ]
          },
          "metadata": {},
          "execution_count": 8
        }
      ]
    },
    {
      "cell_type": "code",
      "source": [
        "bad_cols = dataset.columns[dataset.isnull().sum()/len(dataset) > 0.5]"
      ],
      "metadata": {
        "id": "HSkpStltSIT-"
      },
      "execution_count": 9,
      "outputs": []
    },
    {
      "cell_type": "code",
      "source": [
        "dataset.drop(columns=bad_cols,inplace=True)"
      ],
      "metadata": {
        "id": "2BLye6e7SMs8"
      },
      "execution_count": 10,
      "outputs": []
    },
    {
      "cell_type": "code",
      "source": [
        "unuseful_cols = ['date','description','scoutId','picturecount',\"facilities\",'houseNumber',\n",
        "                  'livingSpaceRange','yearConstructedRange','baseRentRange','noRoomsRange']\n",
        "dataset.drop(columns=unuseful_cols,inplace=True)"
      ],
      "metadata": {
        "id": "Bh2cgcu0dsgO"
      },
      "execution_count": 11,
      "outputs": []
    },
    {
      "cell_type": "code",
      "source": [
        "dataset.drop(['street','streetPlain'],axis=1,inplace=True)"
      ],
      "metadata": {
        "id": "ofJtubEVdv8l"
      },
      "execution_count": 12,
      "outputs": []
    },
    {
      "cell_type": "code",
      "source": [
        "dataset.drop_duplicates(keep='last',inplace=True)"
      ],
      "metadata": {
        "id": "LwjNPs95d0S1"
      },
      "execution_count": 13,
      "outputs": []
    },
    {
      "cell_type": "code",
      "source": [
        "dataset.duplicated().sum()"
      ],
      "metadata": {
        "colab": {
          "base_uri": "https://localhost:8080/"
        },
        "id": "ftkKXoPXd15X",
        "outputId": "4811d625-a5ac-4a2c-bae3-977ebe28d2c6"
      },
      "execution_count": 14,
      "outputs": [
        {
          "output_type": "execute_result",
          "data": {
            "text/plain": [
              "0"
            ]
          },
          "metadata": {},
          "execution_count": 14
        }
      ]
    },
    {
      "cell_type": "code",
      "source": [
        "dataset.totalRent.fillna(dataset.totalRent.median(),inplace=True)"
      ],
      "metadata": {
        "id": "dYIhayWVd3kV"
      },
      "execution_count": 15,
      "outputs": []
    },
    {
      "cell_type": "code",
      "source": [
        "dataset.drop(dataset[dataset.baseRent >= dataset.totalRent].index,inplace=True)"
      ],
      "metadata": {
        "id": "8aaQ3XJyd7Fw"
      },
      "execution_count": 16,
      "outputs": []
    },
    {
      "cell_type": "code",
      "source": [
        "dataset.drop(dataset[dataset.totalRent == 0 ].index,inplace=True)"
      ],
      "metadata": {
        "id": "9jex5gigd-Jc"
      },
      "execution_count": 17,
      "outputs": []
    },
    {
      "cell_type": "code",
      "source": [
        "dataset.drop(dataset[dataset['totalRent']>10000].index,inplace=True)"
      ],
      "metadata": {
        "id": "uyPc0dK7d_l5"
      },
      "execution_count": 18,
      "outputs": []
    },
    {
      "cell_type": "code",
      "source": [
        "dataset.drop(dataset[dataset['livingSpace'] == 0].index,inplace=True)"
      ],
      "metadata": {
        "id": "B1ZakTwveBIF"
      },
      "execution_count": 19,
      "outputs": []
    },
    {
      "cell_type": "code",
      "source": [
        "numerical_cols = dataset.select_dtypes(exclude=['bool','object'])"
      ],
      "metadata": {
        "id": "TcUMp1IheC2F"
      },
      "execution_count": 20,
      "outputs": []
    },
    {
      "cell_type": "code",
      "source": [
        "dataset.fillna(numerical_cols.mean(),inplace=True)"
      ],
      "metadata": {
        "id": "FBQsHIDneFeO"
      },
      "execution_count": 21,
      "outputs": []
    },
    {
      "cell_type": "code",
      "source": [
        "categorical_cols = dataset.select_dtypes(include=['bool','object'])"
      ],
      "metadata": {
        "id": "ROetvHfleG8i"
      },
      "execution_count": 22,
      "outputs": []
    },
    {
      "cell_type": "code",
      "source": [
        "dataset.fillna(categorical_cols.mode().iloc[0],inplace= True)"
      ],
      "metadata": {
        "id": "MqkvO7gsedMf"
      },
      "execution_count": 23,
      "outputs": []
    },
    {
      "cell_type": "code",
      "source": [
        "def detect_outlier(df,col_name):\n",
        "  \"\"\"\n",
        "  Find indexes of outliers by computing z-score\n",
        "\n",
        "  Parameters\n",
        "  ----------\n",
        "  df : pd.DataFrame\n",
        "       dataframe of dataset \n",
        "  col_name : str\n",
        "             name of column you want to find outliers in\n",
        "  Returns\n",
        "  -------\n",
        "  indexes : pd.Index\n",
        "            indexes of outliers\n",
        "  \"\"\"\n",
        "\n",
        "  upper = df[col_name].mean() + 3 * df[col_name].std()\n",
        "  lower = df[col_name].mean() - 3 * df[col_name].std()\n",
        "\n",
        "  indexes = df[(df[col_name] > upper) | (df[col_name] < lower)].index\n",
        "  return indexes"
      ],
      "metadata": {
        "id": "w4MNo20Iefa6"
      },
      "execution_count": 24,
      "outputs": []
    },
    {
      "cell_type": "code",
      "source": [
        "for col in dataset.columns:\n",
        "  if dataset[col].dtype == 'int64' or dataset[col].dtype == 'float64':\n",
        "    outlier_indexes = detect_outlier(dataset,col)\n",
        "    dataset.drop(outlier_indexes,inplace=True)"
      ],
      "metadata": {
        "id": "6OoZF1FhejH9"
      },
      "execution_count": 25,
      "outputs": []
    },
    {
      "cell_type": "code",
      "source": [
        "dataset.drop(columns=['firingTypes','geo_krs','regio2','regio3','geo_bln'],inplace=True)"
      ],
      "metadata": {
        "id": "3mB_P8Jlelz2"
      },
      "execution_count": 26,
      "outputs": []
    },
    {
      "cell_type": "code",
      "source": [
        "def new_label_regio1(col):\n",
        "  \"\"\"\n",
        "  Return new label of regio1 column for instance\n",
        "\n",
        "  Parameters\n",
        "  ----------\n",
        "  col : pd.Series\n",
        "        regio1 column of dataset\n",
        "  \n",
        "  Returns\n",
        "  -------\n",
        "  int\n",
        "      return other if regio1  of instance is one of selected names otherwise col\n",
        "  \"\"\"\n",
        "  if col in ['Berlin','Brandenburg','Mecklenburg_Vorpommern',\n",
        "             'Schleswig_Holstein','Hamburg','Bremen','Saarland']:\n",
        "    return 'other'\n",
        "  else:\n",
        "    return col\n",
        "\n",
        "dataset['new_regio1'] = dataset.regio1.apply(new_label_regio1)\n",
        "dataset.drop('regio1',axis=1,inplace=True)"
      ],
      "metadata": {
        "id": "4GOkrjECeqX4"
      },
      "execution_count": 27,
      "outputs": []
    },
    {
      "cell_type": "code",
      "source": [
        "def new_label_heatingType(col):\n",
        "  \"\"\"\n",
        "  Return new label of heatingType column for instance\n",
        "\n",
        "  Parameters\n",
        "  ----------\n",
        "  col : pd.Series\n",
        "        heatingType column of dataset\n",
        "  \n",
        "  Returns\n",
        "  -------\n",
        "  int\n",
        "      return other if heatingType of instance is not one of selected names otherwise col\n",
        "  \"\"\"\n",
        "  if col not in ['central_heating','district_heating','gas_heating','self_contained_central_heating','floor_heating','oil_heating']:\n",
        "    return 'other'\n",
        "  else:\n",
        "    return col\n",
        "\n",
        "\n",
        "dataset['new_heatingType'] = dataset.heatingType.apply(new_label_heatingType)\n",
        "dataset.drop(columns='heatingType',inplace=True)"
      ],
      "metadata": {
        "id": "xwyfZkASetzw"
      },
      "execution_count": 28,
      "outputs": []
    },
    {
      "cell_type": "code",
      "source": [
        "def new_label_condition(col):\n",
        "  \"\"\"\n",
        "  Return new label of condition column for instance\n",
        "\n",
        "  Parameters\n",
        "  ----------\n",
        "  col : pd.Series\n",
        "        condition column of dataset\n",
        "  \n",
        "  Returns\n",
        "  -------\n",
        "  int\n",
        "      return other if condition of instance is one of selected names otherwise col\n",
        "  \"\"\"\n",
        "  if col in ['negotiable','need_of_renovation','ripe_for_demolition']:\n",
        "    return 'other'\n",
        "  else:\n",
        "    return col\n",
        "\n",
        "dataset['new_condition'] = dataset.condition.apply(new_label_condition)\n",
        "dataset.drop(columns='condition',inplace=True)"
      ],
      "metadata": {
        "id": "7sVzhr_pewv6"
      },
      "execution_count": 29,
      "outputs": []
    },
    {
      "cell_type": "code",
      "source": [
        "def new_label_typeOfFlat(col):\n",
        "  \"\"\"\n",
        "  Return new label of typeOfFlat column for instance\n",
        "\n",
        "  Parameters\n",
        "  ----------\n",
        "  col : pd.Series\n",
        "        typeOfFlat column of dataset\n",
        "  \n",
        "  Returns\n",
        "  -------\n",
        "  int\n",
        "      return other if typeOfFlat of instance is one of selected names otherwise col\n",
        "  \"\"\"\n",
        "  if col  in ['penthouse','half_basement','loft']:\n",
        "    return 'other'\n",
        "  else:\n",
        "    return col\n",
        "dataset['new_typeOfFlat'] = dataset.typeOfFlat.apply(new_label_typeOfFlat)\n",
        "dataset.drop(columns='typeOfFlat',inplace=True)"
      ],
      "metadata": {
        "id": "t0MLg8bUezdP"
      },
      "execution_count": 30,
      "outputs": []
    },
    {
      "cell_type": "code",
      "source": [
        "dataset.info()"
      ],
      "metadata": {
        "colab": {
          "base_uri": "https://localhost:8080/"
        },
        "id": "1dWUf_XAe2YM",
        "outputId": "dd57c3aa-fed0-4fb2-e2af-0c33c74c7cc9"
      },
      "execution_count": 31,
      "outputs": [
        {
          "output_type": "stream",
          "name": "stdout",
          "text": [
            "<class 'pandas.core.frame.DataFrame'>\n",
            "Int64Index: 230510 entries, 0 to 268848\n",
            "Data columns (total 25 columns):\n",
            " #   Column              Non-Null Count   Dtype  \n",
            "---  ------              --------------   -----  \n",
            " 0   serviceCharge       230510 non-null  float64\n",
            " 1   telekomTvOffer      230510 non-null  object \n",
            " 2   newlyConst          230510 non-null  bool   \n",
            " 3   balcony             230510 non-null  bool   \n",
            " 4   pricetrend          230510 non-null  float64\n",
            " 5   telekomUploadSpeed  230510 non-null  float64\n",
            " 6   totalRent           230510 non-null  float64\n",
            " 7   yearConstructed     230510 non-null  float64\n",
            " 8   hasKitchen          230510 non-null  bool   \n",
            " 9   cellar              230510 non-null  bool   \n",
            " 10  baseRent            230510 non-null  float64\n",
            " 11  livingSpace         230510 non-null  float64\n",
            " 12  interiorQual        230510 non-null  object \n",
            " 13  petsAllowed         230510 non-null  object \n",
            " 14  lift                230510 non-null  bool   \n",
            " 15  geo_plz             230510 non-null  int64  \n",
            " 16  noRooms             230510 non-null  float64\n",
            " 17  thermalChar         230510 non-null  float64\n",
            " 18  floor               230510 non-null  float64\n",
            " 19  numberOfFloors      230510 non-null  float64\n",
            " 20  garden              230510 non-null  bool   \n",
            " 21  new_regio1          230510 non-null  object \n",
            " 22  new_heatingType     230510 non-null  object \n",
            " 23  new_condition       230510 non-null  object \n",
            " 24  new_typeOfFlat      230510 non-null  object \n",
            "dtypes: bool(6), float64(11), int64(1), object(7)\n",
            "memory usage: 36.5+ MB\n"
          ]
        }
      ]
    },
    {
      "cell_type": "markdown",
      "source": [
        "# Linear Regression"
      ],
      "metadata": {
        "id": "8dJfwUy1gbl5"
      }
    },
    {
      "cell_type": "code",
      "source": [
        "class LinearRegression():\n",
        "  \"\"\"\n",
        "    Linear Regression model with mean squared error cost function\n",
        "\n",
        "    Parameters\n",
        "    ----------\n",
        "\n",
        "    learning_rate : float\n",
        "                    learning rate of gradient descent algorithm\n",
        "    n_iter : int\n",
        "             number of iterations or epoch of gradient descent algorithm\n",
        "    Attributes\n",
        "    ----------\n",
        "    lr : float\n",
        "         learning rate of gradient descent algorithm\n",
        "    n_iter : int\n",
        "             number of iterations or epoch of gradient descent algorithm\n",
        "    weights : numpy.array\n",
        "              weights of our model are initialized with random numbers in [0,1]  \n",
        "    bias : float\n",
        "           bias of our model which is initialized with 0\n",
        "\n",
        "\n",
        "    Methods\n",
        "    -------\n",
        "    fit(X,y)\n",
        "        training the weights with regards to dataset (X and y)\n",
        "    predict(X)\n",
        "            predict target values corresponding to X\n",
        "    _compute_gradient(X,y_true,y_predicted)\n",
        "                      computing gradients of mse cost function\n",
        "\n",
        "  \"\"\"\n",
        "\n",
        "  def __init__(self,learning_rate = 0.01,n_iter=2000):\n",
        "    self.lr = learning_rate\n",
        "    self.n_iter = n_iter\n",
        "    self.weights = None\n",
        "    self.bias = None\n",
        "  # computing gradients of mse cost function\n",
        "  def _compute_gradient(self,X,y_true,y_predicted):\n",
        "    n = X.shape[0]\n",
        "    dw = (1/n) * np.dot(X.T,(y_predicted-y_true))\n",
        "    db = (1/n) * np.sum(y_predicted-y_true)\n",
        "    return dw , db\n",
        "\n",
        "  def predict(self,X):\n",
        "    return np.dot(X,self.weights) + self.bias\n",
        "\n",
        "  def fit(self,X,y):\n",
        "    # initializing weights and bias\n",
        "    self.weights = np.random.rand(X.shape[1])\n",
        "    \n",
        "    self.bias = 0 \n",
        "\n",
        "    for _ in range(self.n_iter):\n",
        "\n",
        "      y_predicted = self.predict(X)\n",
        "\n",
        "      dw , db = self._compute_gradient(X,y,y_predicted)\n",
        "      # updating weights and bias\n",
        "      self.weights -= self.lr * dw\n",
        "      self.bias -= self.lr * db\n",
        "\n",
        "    "
      ],
      "metadata": {
        "id": "y4IiU5x1e7Rk"
      },
      "execution_count": 55,
      "outputs": []
    },
    {
      "cell_type": "markdown",
      "source": [
        "Train-test split"
      ],
      "metadata": {
        "id": "9nXnQt3pSA4Z"
      }
    },
    {
      "cell_type": "code",
      "source": [
        "from sklearn.preprocessing import StandardScaler\n",
        "from sklearn.model_selection import train_test_split\n",
        "scaler = StandardScaler()\n",
        "my_lr = LinearRegression(n_iter=2500)\n",
        "data = dataset.loc[:,['serviceCharge',\"telekomUploadSpeed\",'new_heatingType']]\n",
        "target = dataset['totalRent']\n",
        "\n",
        "data_train, data_test, target_train, target_test = train_test_split(data,target,test_size=0.2,random_state=42)\n",
        "\n",
        "train_cat_feature = pd.get_dummies(data_train[['new_heatingType']])\n",
        "train_numeric_features = scaler.fit_transform(data_train[['serviceCharge',\"telekomUploadSpeed\"]])\n",
        "train_numeric_features = pd.DataFrame(train_numeric_features,columns=['serviceCharge',\"telekomUploadSpeed\"],index= data_train.index)\n",
        "data_train  = pd.concat([train_numeric_features,train_cat_feature],axis=1)\n",
        "\n",
        "my_lr.fit(data_train,target_train)"
      ],
      "metadata": {
        "id": "t4ABB8VNwehw"
      },
      "execution_count": 33,
      "outputs": []
    },
    {
      "cell_type": "code",
      "source": [
        "test_cat_feature = pd.get_dummies(data_test[['new_heatingType']])\n",
        "test_numeric_features = scaler.transform(data_test[['serviceCharge',\"telekomUploadSpeed\"]])\n",
        "test_numeric_features = pd.DataFrame(test_numeric_features,columns=['serviceCharge',\"telekomUploadSpeed\"],index= data_test.index)\n",
        "data_test  = pd.concat([test_numeric_features,test_cat_feature],axis=1)\n"
      ],
      "metadata": {
        "id": "ee9ww5Gy9YE_"
      },
      "execution_count": 34,
      "outputs": []
    },
    {
      "cell_type": "code",
      "source": [
        "from sklearn.metrics import mean_squared_error, mean_absolute_error\n",
        "y_predicted = my_lr.predict(data_test)\n",
        "\n",
        "my_mse = mean_squared_error(target_test,y_predicted)\n",
        "\n",
        "print('MSE of my Linear Regression:',my_mse)"
      ],
      "metadata": {
        "colab": {
          "base_uri": "https://localhost:8080/"
        },
        "id": "gmK6y83N-QPY",
        "outputId": "d360f561-6e92-4d8e-aaa1-c8d996055612"
      },
      "execution_count": 35,
      "outputs": [
        {
          "output_type": "stream",
          "name": "stdout",
          "text": [
            "MSE of my Linear Regression: 56289.23199168802\n"
          ]
        }
      ]
    },
    {
      "cell_type": "code",
      "source": [
        "from sklearn.linear_model import LinearRegression\n",
        "\n",
        "sklearn_lr = LinearRegression()\n",
        "sklearn_lr.fit(data_train,target_train)"
      ],
      "metadata": {
        "colab": {
          "base_uri": "https://localhost:8080/"
        },
        "id": "DfmJKS3CxwYA",
        "outputId": "6ad2ce8e-beda-463e-dccd-0479162f17d2"
      },
      "execution_count": 36,
      "outputs": [
        {
          "output_type": "execute_result",
          "data": {
            "text/plain": [
              "LinearRegression()"
            ]
          },
          "metadata": {},
          "execution_count": 36
        }
      ]
    },
    {
      "cell_type": "code",
      "source": [
        "y_predicted_sklearn = sklearn_lr.predict(data_test)\n",
        "sklearn_mse = mean_squared_error(target_test,y_predicted_sklearn)\n",
        "print('MSE of sklearn Linear Regression:',sklearn_mse)"
      ],
      "metadata": {
        "colab": {
          "base_uri": "https://localhost:8080/"
        },
        "id": "Z_rrWV4j7SY3",
        "outputId": "9e5234bc-e379-4af0-a766-47ffc849f3ae"
      },
      "execution_count": 37,
      "outputs": [
        {
          "output_type": "stream",
          "name": "stdout",
          "text": [
            "MSE of sklearn Linear Regression: 56007.67574790318\n"
          ]
        }
      ]
    },
    {
      "cell_type": "code",
      "source": [
        "y_predicted_sklearn = sklearn_lr.predict(data_test)\n",
        "sklearn_mae = mean_absolute_error(target_test,y_predicted_sklearn)\n",
        "print('MAE of sklearn Linear Regression:',sklearn_mae)"
      ],
      "metadata": {
        "colab": {
          "base_uri": "https://localhost:8080/"
        },
        "id": "8NAQJ1i3w5b4",
        "outputId": "f6835d02-758a-4bb6-b74c-5b1a43ff0157"
      },
      "execution_count": 38,
      "outputs": [
        {
          "output_type": "stream",
          "name": "stdout",
          "text": [
            "MAE of sklearn Linear Regression: 180.5081399105849\n"
          ]
        }
      ]
    },
    {
      "cell_type": "markdown",
      "source": [
        "# Lasso and Ridge"
      ],
      "metadata": {
        "id": "k1GS8fLVyVzR"
      }
    },
    {
      "cell_type": "markdown",
      "source": [
        "We train Ridge and Lasso with previous selected features"
      ],
      "metadata": {
        "id": "prNjEi-vkaMN"
      }
    },
    {
      "cell_type": "code",
      "source": [
        "from sklearn.linear_model import Ridge,Lasso\n",
        "from sklearn.compose import ColumnTransformer,make_column_selector\n",
        "from sklearn.pipeline import Pipeline,make_pipeline\n",
        "from sklearn.model_selection import GridSearchCV\n",
        "from sklearn.preprocessing import OneHotEncoder\n",
        "\n",
        "data = dataset[['serviceCharge',\"telekomUploadSpeed\",'new_heatingType']]\n",
        "target = dataset['totalRent']\n",
        "\n",
        "data_train, data_test, target_train, target_test = train_test_split(data,target,test_size=0.2,random_state=42)\n",
        "cat_selector = make_column_selector(dtype_include=['bool','object'])\n",
        "num_selector = make_column_selector(dtype_exclude=['bool','object'])\n",
        "cat_cols = cat_selector(data_train)\n",
        "numeric_cols = num_selector(data_train)\n",
        "preprocessor  = ColumnTransformer([('cat_preprocessor',OneHotEncoder(),cat_cols),\n",
        "                                   ('num_preprocessor',StandardScaler(),numeric_cols)])\n"
      ],
      "metadata": {
        "id": "U2YQUH_qyVb9"
      },
      "execution_count": 39,
      "outputs": []
    },
    {
      "cell_type": "code",
      "source": [
        "ridge = Pipeline([('preprocessor',preprocessor), ('ridge',Ridge())])\n",
        "param_grid = {\n",
        "    'ridge__alpha' : [0.001,0.01,0.1,0,1,10,100,1000]\n",
        "}\n",
        "grid_search = GridSearchCV(ridge,param_grid= param_grid,cv=5,n_jobs=-1,scoring = 'neg_mean_squared_error')\n",
        "grid_search.fit(data_train,target_train)"
      ],
      "metadata": {
        "colab": {
          "base_uri": "https://localhost:8080/"
        },
        "id": "LwUVe3ev0VnJ",
        "outputId": "b1e28896-8227-4b4b-d899-b92d66a68a12"
      },
      "execution_count": 40,
      "outputs": [
        {
          "output_type": "execute_result",
          "data": {
            "text/plain": [
              "GridSearchCV(cv=5,\n",
              "             estimator=Pipeline(steps=[('preprocessor',\n",
              "                                        ColumnTransformer(transformers=[('cat_preprocessor',\n",
              "                                                                         OneHotEncoder(),\n",
              "                                                                         ['new_heatingType']),\n",
              "                                                                        ('num_preprocessor',\n",
              "                                                                         StandardScaler(),\n",
              "                                                                         ['serviceCharge',\n",
              "                                                                          'telekomUploadSpeed'])])),\n",
              "                                       ('ridge', Ridge())]),\n",
              "             n_jobs=-1,\n",
              "             param_grid={'ridge__alpha': [0.001, 0.01, 0.1, 0, 1, 10, 100,\n",
              "                                          1000]},\n",
              "             scoring='neg_mean_squared_error')"
            ]
          },
          "metadata": {},
          "execution_count": 40
        }
      ]
    },
    {
      "cell_type": "code",
      "source": [
        "cv_res = pd.DataFrame(grid_search.cv_results_)\n",
        "cv_res = cv_res[['mean_fit_time','mean_score_time','param_ridge__alpha', 'params','mean_test_score', 'std_test_score',\n",
        "       'rank_test_score']]\n",
        "cv_res.loc[:,'mean_test_score'] = -cv_res['mean_test_score']\n",
        "cv_res.sort_values('rank_test_score')"
      ],
      "metadata": {
        "colab": {
          "base_uri": "https://localhost:8080/",
          "height": 300
        },
        "id": "L20DPT8X081b",
        "outputId": "1fc29924-c1a6-4b39-d629-0da85e8e18d6"
      },
      "execution_count": 41,
      "outputs": [
        {
          "output_type": "execute_result",
          "data": {
            "text/plain": [
              "   mean_fit_time  mean_score_time param_ridge__alpha                   params  \\\n",
              "5       0.162869         0.030336                 10     {'ridge__alpha': 10}   \n",
              "4       0.152851         0.032580                  1      {'ridge__alpha': 1}   \n",
              "2       0.152358         0.028897                0.1    {'ridge__alpha': 0.1}   \n",
              "1       0.164439         0.029428               0.01   {'ridge__alpha': 0.01}   \n",
              "0       0.184107         0.031259              0.001  {'ridge__alpha': 0.001}   \n",
              "3       0.160194         0.029816                  0      {'ridge__alpha': 0}   \n",
              "6       0.154461         0.030451                100    {'ridge__alpha': 100}   \n",
              "7       0.155313         0.027861               1000   {'ridge__alpha': 1000}   \n",
              "\n",
              "   mean_test_score  std_test_score  rank_test_score  \n",
              "5     56464.231923      455.784461                1  \n",
              "4     56464.234478      455.952778                2  \n",
              "2     56464.235144      455.969668                3  \n",
              "1     56464.235215      455.971357                4  \n",
              "0     56464.235222      455.971526                5  \n",
              "3     56464.235223      455.971545                6  \n",
              "6     56464.603710      454.157089                7  \n",
              "7     56497.956724      442.132535                8  "
            ],
            "text/html": [
              "\n",
              "  <div id=\"df-dd73cf7c-4522-469b-b9cb-380e55c6ed55\">\n",
              "    <div class=\"colab-df-container\">\n",
              "      <div>\n",
              "<style scoped>\n",
              "    .dataframe tbody tr th:only-of-type {\n",
              "        vertical-align: middle;\n",
              "    }\n",
              "\n",
              "    .dataframe tbody tr th {\n",
              "        vertical-align: top;\n",
              "    }\n",
              "\n",
              "    .dataframe thead th {\n",
              "        text-align: right;\n",
              "    }\n",
              "</style>\n",
              "<table border=\"1\" class=\"dataframe\">\n",
              "  <thead>\n",
              "    <tr style=\"text-align: right;\">\n",
              "      <th></th>\n",
              "      <th>mean_fit_time</th>\n",
              "      <th>mean_score_time</th>\n",
              "      <th>param_ridge__alpha</th>\n",
              "      <th>params</th>\n",
              "      <th>mean_test_score</th>\n",
              "      <th>std_test_score</th>\n",
              "      <th>rank_test_score</th>\n",
              "    </tr>\n",
              "  </thead>\n",
              "  <tbody>\n",
              "    <tr>\n",
              "      <th>5</th>\n",
              "      <td>0.162869</td>\n",
              "      <td>0.030336</td>\n",
              "      <td>10</td>\n",
              "      <td>{'ridge__alpha': 10}</td>\n",
              "      <td>56464.231923</td>\n",
              "      <td>455.784461</td>\n",
              "      <td>1</td>\n",
              "    </tr>\n",
              "    <tr>\n",
              "      <th>4</th>\n",
              "      <td>0.152851</td>\n",
              "      <td>0.032580</td>\n",
              "      <td>1</td>\n",
              "      <td>{'ridge__alpha': 1}</td>\n",
              "      <td>56464.234478</td>\n",
              "      <td>455.952778</td>\n",
              "      <td>2</td>\n",
              "    </tr>\n",
              "    <tr>\n",
              "      <th>2</th>\n",
              "      <td>0.152358</td>\n",
              "      <td>0.028897</td>\n",
              "      <td>0.1</td>\n",
              "      <td>{'ridge__alpha': 0.1}</td>\n",
              "      <td>56464.235144</td>\n",
              "      <td>455.969668</td>\n",
              "      <td>3</td>\n",
              "    </tr>\n",
              "    <tr>\n",
              "      <th>1</th>\n",
              "      <td>0.164439</td>\n",
              "      <td>0.029428</td>\n",
              "      <td>0.01</td>\n",
              "      <td>{'ridge__alpha': 0.01}</td>\n",
              "      <td>56464.235215</td>\n",
              "      <td>455.971357</td>\n",
              "      <td>4</td>\n",
              "    </tr>\n",
              "    <tr>\n",
              "      <th>0</th>\n",
              "      <td>0.184107</td>\n",
              "      <td>0.031259</td>\n",
              "      <td>0.001</td>\n",
              "      <td>{'ridge__alpha': 0.001}</td>\n",
              "      <td>56464.235222</td>\n",
              "      <td>455.971526</td>\n",
              "      <td>5</td>\n",
              "    </tr>\n",
              "    <tr>\n",
              "      <th>3</th>\n",
              "      <td>0.160194</td>\n",
              "      <td>0.029816</td>\n",
              "      <td>0</td>\n",
              "      <td>{'ridge__alpha': 0}</td>\n",
              "      <td>56464.235223</td>\n",
              "      <td>455.971545</td>\n",
              "      <td>6</td>\n",
              "    </tr>\n",
              "    <tr>\n",
              "      <th>6</th>\n",
              "      <td>0.154461</td>\n",
              "      <td>0.030451</td>\n",
              "      <td>100</td>\n",
              "      <td>{'ridge__alpha': 100}</td>\n",
              "      <td>56464.603710</td>\n",
              "      <td>454.157089</td>\n",
              "      <td>7</td>\n",
              "    </tr>\n",
              "    <tr>\n",
              "      <th>7</th>\n",
              "      <td>0.155313</td>\n",
              "      <td>0.027861</td>\n",
              "      <td>1000</td>\n",
              "      <td>{'ridge__alpha': 1000}</td>\n",
              "      <td>56497.956724</td>\n",
              "      <td>442.132535</td>\n",
              "      <td>8</td>\n",
              "    </tr>\n",
              "  </tbody>\n",
              "</table>\n",
              "</div>\n",
              "      <button class=\"colab-df-convert\" onclick=\"convertToInteractive('df-dd73cf7c-4522-469b-b9cb-380e55c6ed55')\"\n",
              "              title=\"Convert this dataframe to an interactive table.\"\n",
              "              style=\"display:none;\">\n",
              "        \n",
              "  <svg xmlns=\"http://www.w3.org/2000/svg\" height=\"24px\"viewBox=\"0 0 24 24\"\n",
              "       width=\"24px\">\n",
              "    <path d=\"M0 0h24v24H0V0z\" fill=\"none\"/>\n",
              "    <path d=\"M18.56 5.44l.94 2.06.94-2.06 2.06-.94-2.06-.94-.94-2.06-.94 2.06-2.06.94zm-11 1L8.5 8.5l.94-2.06 2.06-.94-2.06-.94L8.5 2.5l-.94 2.06-2.06.94zm10 10l.94 2.06.94-2.06 2.06-.94-2.06-.94-.94-2.06-.94 2.06-2.06.94z\"/><path d=\"M17.41 7.96l-1.37-1.37c-.4-.4-.92-.59-1.43-.59-.52 0-1.04.2-1.43.59L10.3 9.45l-7.72 7.72c-.78.78-.78 2.05 0 2.83L4 21.41c.39.39.9.59 1.41.59.51 0 1.02-.2 1.41-.59l7.78-7.78 2.81-2.81c.8-.78.8-2.07 0-2.86zM5.41 20L4 18.59l7.72-7.72 1.47 1.35L5.41 20z\"/>\n",
              "  </svg>\n",
              "      </button>\n",
              "      \n",
              "  <style>\n",
              "    .colab-df-container {\n",
              "      display:flex;\n",
              "      flex-wrap:wrap;\n",
              "      gap: 12px;\n",
              "    }\n",
              "\n",
              "    .colab-df-convert {\n",
              "      background-color: #E8F0FE;\n",
              "      border: none;\n",
              "      border-radius: 50%;\n",
              "      cursor: pointer;\n",
              "      display: none;\n",
              "      fill: #1967D2;\n",
              "      height: 32px;\n",
              "      padding: 0 0 0 0;\n",
              "      width: 32px;\n",
              "    }\n",
              "\n",
              "    .colab-df-convert:hover {\n",
              "      background-color: #E2EBFA;\n",
              "      box-shadow: 0px 1px 2px rgba(60, 64, 67, 0.3), 0px 1px 3px 1px rgba(60, 64, 67, 0.15);\n",
              "      fill: #174EA6;\n",
              "    }\n",
              "\n",
              "    [theme=dark] .colab-df-convert {\n",
              "      background-color: #3B4455;\n",
              "      fill: #D2E3FC;\n",
              "    }\n",
              "\n",
              "    [theme=dark] .colab-df-convert:hover {\n",
              "      background-color: #434B5C;\n",
              "      box-shadow: 0px 1px 3px 1px rgba(0, 0, 0, 0.15);\n",
              "      filter: drop-shadow(0px 1px 2px rgba(0, 0, 0, 0.3));\n",
              "      fill: #FFFFFF;\n",
              "    }\n",
              "  </style>\n",
              "\n",
              "      <script>\n",
              "        const buttonEl =\n",
              "          document.querySelector('#df-dd73cf7c-4522-469b-b9cb-380e55c6ed55 button.colab-df-convert');\n",
              "        buttonEl.style.display =\n",
              "          google.colab.kernel.accessAllowed ? 'block' : 'none';\n",
              "\n",
              "        async function convertToInteractive(key) {\n",
              "          const element = document.querySelector('#df-dd73cf7c-4522-469b-b9cb-380e55c6ed55');\n",
              "          const dataTable =\n",
              "            await google.colab.kernel.invokeFunction('convertToInteractive',\n",
              "                                                     [key], {});\n",
              "          if (!dataTable) return;\n",
              "\n",
              "          const docLinkHtml = 'Like what you see? Visit the ' +\n",
              "            '<a target=\"_blank\" href=https://colab.research.google.com/notebooks/data_table.ipynb>data table notebook</a>'\n",
              "            + ' to learn more about interactive tables.';\n",
              "          element.innerHTML = '';\n",
              "          dataTable['output_type'] = 'display_data';\n",
              "          await google.colab.output.renderOutput(dataTable, element);\n",
              "          const docLink = document.createElement('div');\n",
              "          docLink.innerHTML = docLinkHtml;\n",
              "          element.appendChild(docLink);\n",
              "        }\n",
              "      </script>\n",
              "    </div>\n",
              "  </div>\n",
              "  "
            ]
          },
          "metadata": {},
          "execution_count": 41
        }
      ]
    },
    {
      "cell_type": "code",
      "source": [
        "ridge = Pipeline([('preprocessor',preprocessor), ('ridge',Ridge(alpha=10))])\n",
        "ridge.fit(data_train,target_train)\n",
        "predicted = ridge.predict(data_test)\n",
        "\n",
        "mse = mean_squared_error(predicted,target_test)\n",
        "print('MSE of Ridge Regression:', mse)"
      ],
      "metadata": {
        "colab": {
          "base_uri": "https://localhost:8080/"
        },
        "id": "u9_x08wkHobT",
        "outputId": "28d2fb68-6599-4c28-f3e0-d51645675a48"
      },
      "execution_count": 42,
      "outputs": [
        {
          "output_type": "stream",
          "name": "stdout",
          "text": [
            "MSE of Ridge Regression: 56007.82104130895\n"
          ]
        }
      ]
    },
    {
      "cell_type": "code",
      "source": [
        "lasso = ridge = Pipeline([('preprocessor',preprocessor), ('lasso',Lasso())])\n",
        "param_grid = {\n",
        "    'lasso__alpha' : [0.001,0.01,0.1,0,1,10,100,1000]\n",
        "}\n",
        "grid_search = GridSearchCV(lasso,param_grid= param_grid,cv=5,n_jobs=-1,scoring = 'neg_mean_squared_error')\n",
        "grid_search.fit(data_train,target_train)"
      ],
      "metadata": {
        "colab": {
          "base_uri": "https://localhost:8080/"
        },
        "id": "u0Tpzsfz85OA",
        "outputId": "d08c4a5a-e98e-49f3-a105-614a0eca7d5b"
      },
      "execution_count": 43,
      "outputs": [
        {
          "output_type": "stream",
          "name": "stderr",
          "text": [
            "/usr/local/lib/python3.7/dist-packages/sklearn/linear_model/_coordinate_descent.py:648: ConvergenceWarning: Objective did not converge. You might want to increase the number of iterations, check the scale of the features or consider increasing regularisation. Duality gap: 5.367e+08, tolerance: 2.121e+06\n",
            "  coef_, l1_reg, l2_reg, X, y, max_iter, tol, rng, random, positive\n"
          ]
        },
        {
          "output_type": "execute_result",
          "data": {
            "text/plain": [
              "GridSearchCV(cv=5,\n",
              "             estimator=Pipeline(steps=[('preprocessor',\n",
              "                                        ColumnTransformer(transformers=[('cat_preprocessor',\n",
              "                                                                         OneHotEncoder(),\n",
              "                                                                         ['new_heatingType']),\n",
              "                                                                        ('num_preprocessor',\n",
              "                                                                         StandardScaler(),\n",
              "                                                                         ['serviceCharge',\n",
              "                                                                          'telekomUploadSpeed'])])),\n",
              "                                       ('lasso', Lasso())]),\n",
              "             n_jobs=-1,\n",
              "             param_grid={'lasso__alpha': [0.001, 0.01, 0.1, 0, 1, 10, 100,\n",
              "                                          1000]},\n",
              "             scoring='neg_mean_squared_error')"
            ]
          },
          "metadata": {},
          "execution_count": 43
        }
      ]
    },
    {
      "cell_type": "code",
      "source": [
        "cv_res_lasso = pd.DataFrame(grid_search.cv_results_)\n",
        "cv_res_lasso = cv_res_lasso[['mean_fit_time','mean_score_time','param_lasso__alpha', 'params','mean_test_score', 'std_test_score',\n",
        "       'rank_test_score']]\n",
        "cv_res_lasso.loc[:,'mean_test_score'] = -cv_res_lasso['mean_test_score']\n",
        "cv_res_lasso.sort_values('rank_test_score')"
      ],
      "metadata": {
        "colab": {
          "base_uri": "https://localhost:8080/",
          "height": 300
        },
        "id": "DOfmXe6X9k_8",
        "outputId": "de87b1f7-2a79-432e-d002-03ae0e7be923"
      },
      "execution_count": 44,
      "outputs": [
        {
          "output_type": "execute_result",
          "data": {
            "text/plain": [
              "   mean_fit_time  mean_score_time param_lasso__alpha                   params  \\\n",
              "0       8.662095         0.035639              0.001  {'lasso__alpha': 0.001}   \n",
              "3       7.859488         0.036539                  0      {'lasso__alpha': 0}   \n",
              "1       6.535426         0.050592               0.01   {'lasso__alpha': 0.01}   \n",
              "2       1.001757         0.046152                0.1    {'lasso__alpha': 0.1}   \n",
              "4       0.299431         0.037512                  1      {'lasso__alpha': 1}   \n",
              "5       0.207455         0.037382                 10     {'lasso__alpha': 10}   \n",
              "6       0.182432         0.036785                100    {'lasso__alpha': 100}   \n",
              "7       0.149584         0.027895               1000   {'lasso__alpha': 1000}   \n",
              "\n",
              "   mean_test_score  std_test_score  rank_test_score  \n",
              "0     56464.235080      455.937331                1  \n",
              "3     56464.235223      455.971545                2  \n",
              "1     56464.245811      455.573732                3  \n",
              "2     56465.499217      452.483500                4  \n",
              "4     56554.185449      427.207615                5  \n",
              "5     58985.136201      409.204724                6  \n",
              "6     70523.161455      629.770646                7  \n",
              "7    115019.344260      801.192882                8  "
            ],
            "text/html": [
              "\n",
              "  <div id=\"df-f87bdbc2-54d4-4338-a626-2227875466dc\">\n",
              "    <div class=\"colab-df-container\">\n",
              "      <div>\n",
              "<style scoped>\n",
              "    .dataframe tbody tr th:only-of-type {\n",
              "        vertical-align: middle;\n",
              "    }\n",
              "\n",
              "    .dataframe tbody tr th {\n",
              "        vertical-align: top;\n",
              "    }\n",
              "\n",
              "    .dataframe thead th {\n",
              "        text-align: right;\n",
              "    }\n",
              "</style>\n",
              "<table border=\"1\" class=\"dataframe\">\n",
              "  <thead>\n",
              "    <tr style=\"text-align: right;\">\n",
              "      <th></th>\n",
              "      <th>mean_fit_time</th>\n",
              "      <th>mean_score_time</th>\n",
              "      <th>param_lasso__alpha</th>\n",
              "      <th>params</th>\n",
              "      <th>mean_test_score</th>\n",
              "      <th>std_test_score</th>\n",
              "      <th>rank_test_score</th>\n",
              "    </tr>\n",
              "  </thead>\n",
              "  <tbody>\n",
              "    <tr>\n",
              "      <th>0</th>\n",
              "      <td>8.662095</td>\n",
              "      <td>0.035639</td>\n",
              "      <td>0.001</td>\n",
              "      <td>{'lasso__alpha': 0.001}</td>\n",
              "      <td>56464.235080</td>\n",
              "      <td>455.937331</td>\n",
              "      <td>1</td>\n",
              "    </tr>\n",
              "    <tr>\n",
              "      <th>3</th>\n",
              "      <td>7.859488</td>\n",
              "      <td>0.036539</td>\n",
              "      <td>0</td>\n",
              "      <td>{'lasso__alpha': 0}</td>\n",
              "      <td>56464.235223</td>\n",
              "      <td>455.971545</td>\n",
              "      <td>2</td>\n",
              "    </tr>\n",
              "    <tr>\n",
              "      <th>1</th>\n",
              "      <td>6.535426</td>\n",
              "      <td>0.050592</td>\n",
              "      <td>0.01</td>\n",
              "      <td>{'lasso__alpha': 0.01}</td>\n",
              "      <td>56464.245811</td>\n",
              "      <td>455.573732</td>\n",
              "      <td>3</td>\n",
              "    </tr>\n",
              "    <tr>\n",
              "      <th>2</th>\n",
              "      <td>1.001757</td>\n",
              "      <td>0.046152</td>\n",
              "      <td>0.1</td>\n",
              "      <td>{'lasso__alpha': 0.1}</td>\n",
              "      <td>56465.499217</td>\n",
              "      <td>452.483500</td>\n",
              "      <td>4</td>\n",
              "    </tr>\n",
              "    <tr>\n",
              "      <th>4</th>\n",
              "      <td>0.299431</td>\n",
              "      <td>0.037512</td>\n",
              "      <td>1</td>\n",
              "      <td>{'lasso__alpha': 1}</td>\n",
              "      <td>56554.185449</td>\n",
              "      <td>427.207615</td>\n",
              "      <td>5</td>\n",
              "    </tr>\n",
              "    <tr>\n",
              "      <th>5</th>\n",
              "      <td>0.207455</td>\n",
              "      <td>0.037382</td>\n",
              "      <td>10</td>\n",
              "      <td>{'lasso__alpha': 10}</td>\n",
              "      <td>58985.136201</td>\n",
              "      <td>409.204724</td>\n",
              "      <td>6</td>\n",
              "    </tr>\n",
              "    <tr>\n",
              "      <th>6</th>\n",
              "      <td>0.182432</td>\n",
              "      <td>0.036785</td>\n",
              "      <td>100</td>\n",
              "      <td>{'lasso__alpha': 100}</td>\n",
              "      <td>70523.161455</td>\n",
              "      <td>629.770646</td>\n",
              "      <td>7</td>\n",
              "    </tr>\n",
              "    <tr>\n",
              "      <th>7</th>\n",
              "      <td>0.149584</td>\n",
              "      <td>0.027895</td>\n",
              "      <td>1000</td>\n",
              "      <td>{'lasso__alpha': 1000}</td>\n",
              "      <td>115019.344260</td>\n",
              "      <td>801.192882</td>\n",
              "      <td>8</td>\n",
              "    </tr>\n",
              "  </tbody>\n",
              "</table>\n",
              "</div>\n",
              "      <button class=\"colab-df-convert\" onclick=\"convertToInteractive('df-f87bdbc2-54d4-4338-a626-2227875466dc')\"\n",
              "              title=\"Convert this dataframe to an interactive table.\"\n",
              "              style=\"display:none;\">\n",
              "        \n",
              "  <svg xmlns=\"http://www.w3.org/2000/svg\" height=\"24px\"viewBox=\"0 0 24 24\"\n",
              "       width=\"24px\">\n",
              "    <path d=\"M0 0h24v24H0V0z\" fill=\"none\"/>\n",
              "    <path d=\"M18.56 5.44l.94 2.06.94-2.06 2.06-.94-2.06-.94-.94-2.06-.94 2.06-2.06.94zm-11 1L8.5 8.5l.94-2.06 2.06-.94-2.06-.94L8.5 2.5l-.94 2.06-2.06.94zm10 10l.94 2.06.94-2.06 2.06-.94-2.06-.94-.94-2.06-.94 2.06-2.06.94z\"/><path d=\"M17.41 7.96l-1.37-1.37c-.4-.4-.92-.59-1.43-.59-.52 0-1.04.2-1.43.59L10.3 9.45l-7.72 7.72c-.78.78-.78 2.05 0 2.83L4 21.41c.39.39.9.59 1.41.59.51 0 1.02-.2 1.41-.59l7.78-7.78 2.81-2.81c.8-.78.8-2.07 0-2.86zM5.41 20L4 18.59l7.72-7.72 1.47 1.35L5.41 20z\"/>\n",
              "  </svg>\n",
              "      </button>\n",
              "      \n",
              "  <style>\n",
              "    .colab-df-container {\n",
              "      display:flex;\n",
              "      flex-wrap:wrap;\n",
              "      gap: 12px;\n",
              "    }\n",
              "\n",
              "    .colab-df-convert {\n",
              "      background-color: #E8F0FE;\n",
              "      border: none;\n",
              "      border-radius: 50%;\n",
              "      cursor: pointer;\n",
              "      display: none;\n",
              "      fill: #1967D2;\n",
              "      height: 32px;\n",
              "      padding: 0 0 0 0;\n",
              "      width: 32px;\n",
              "    }\n",
              "\n",
              "    .colab-df-convert:hover {\n",
              "      background-color: #E2EBFA;\n",
              "      box-shadow: 0px 1px 2px rgba(60, 64, 67, 0.3), 0px 1px 3px 1px rgba(60, 64, 67, 0.15);\n",
              "      fill: #174EA6;\n",
              "    }\n",
              "\n",
              "    [theme=dark] .colab-df-convert {\n",
              "      background-color: #3B4455;\n",
              "      fill: #D2E3FC;\n",
              "    }\n",
              "\n",
              "    [theme=dark] .colab-df-convert:hover {\n",
              "      background-color: #434B5C;\n",
              "      box-shadow: 0px 1px 3px 1px rgba(0, 0, 0, 0.15);\n",
              "      filter: drop-shadow(0px 1px 2px rgba(0, 0, 0, 0.3));\n",
              "      fill: #FFFFFF;\n",
              "    }\n",
              "  </style>\n",
              "\n",
              "      <script>\n",
              "        const buttonEl =\n",
              "          document.querySelector('#df-f87bdbc2-54d4-4338-a626-2227875466dc button.colab-df-convert');\n",
              "        buttonEl.style.display =\n",
              "          google.colab.kernel.accessAllowed ? 'block' : 'none';\n",
              "\n",
              "        async function convertToInteractive(key) {\n",
              "          const element = document.querySelector('#df-f87bdbc2-54d4-4338-a626-2227875466dc');\n",
              "          const dataTable =\n",
              "            await google.colab.kernel.invokeFunction('convertToInteractive',\n",
              "                                                     [key], {});\n",
              "          if (!dataTable) return;\n",
              "\n",
              "          const docLinkHtml = 'Like what you see? Visit the ' +\n",
              "            '<a target=\"_blank\" href=https://colab.research.google.com/notebooks/data_table.ipynb>data table notebook</a>'\n",
              "            + ' to learn more about interactive tables.';\n",
              "          element.innerHTML = '';\n",
              "          dataTable['output_type'] = 'display_data';\n",
              "          await google.colab.output.renderOutput(dataTable, element);\n",
              "          const docLink = document.createElement('div');\n",
              "          docLink.innerHTML = docLinkHtml;\n",
              "          element.appendChild(docLink);\n",
              "        }\n",
              "      </script>\n",
              "    </div>\n",
              "  </div>\n",
              "  "
            ]
          },
          "metadata": {},
          "execution_count": 44
        }
      ]
    },
    {
      "cell_type": "code",
      "source": [
        "lasso = Pipeline([('preprocessor',preprocessor), ('lasso',Lasso(alpha=0.001))])\n",
        "lasso.fit(data_train,target_train)\n",
        "predicted = lasso.predict(data_test)\n",
        "\n",
        "mse = mean_squared_error(predicted,target_test)\n",
        "print('MSE of Lasso Regression:', mse)"
      ],
      "metadata": {
        "colab": {
          "base_uri": "https://localhost:8080/"
        },
        "id": "hbVvt1_PIwK6",
        "outputId": "f20e4597-ba22-41fd-90ae-6bfc28a9ed60"
      },
      "execution_count": 45,
      "outputs": [
        {
          "output_type": "stream",
          "name": "stdout",
          "text": [
            "MSE of Lasso Regression: 56007.67331458834\n"
          ]
        },
        {
          "output_type": "stream",
          "name": "stderr",
          "text": [
            "/usr/local/lib/python3.7/dist-packages/sklearn/linear_model/_coordinate_descent.py:648: ConvergenceWarning: Objective did not converge. You might want to increase the number of iterations, check the scale of the features or consider increasing regularisation. Duality gap: 5.367e+08, tolerance: 2.121e+06\n",
            "  coef_, l1_reg, l2_reg, X, y, max_iter, tol, rng, random, positive\n"
          ]
        }
      ]
    },
    {
      "cell_type": "markdown",
      "source": [
        "# Feature selection using RFE method"
      ],
      "metadata": {
        "id": "HY725d0_nCpb"
      }
    },
    {
      "cell_type": "code",
      "source": [
        "data = dataset.drop('totalRent',axis=1)\n",
        "target = dataset['totalRent']\n",
        "\n",
        "data_train, data_test, target_train, target_test = train_test_split(data,target,test_size=0.2,random_state=42)\n",
        "cat_selector = make_column_selector(dtype_include=['bool','object'])\n",
        "num_selector = make_column_selector(dtype_exclude=['bool','object'])\n",
        "cat_cols = cat_selector(data_train)\n",
        "numeric_cols = num_selector(data_train)\n",
        "preprocessor  = ColumnTransformer([('cat_preprocessor',OneHotEncoder(),cat_cols),\n",
        "                                   ('num_preprocessor',StandardScaler(),numeric_cols)])"
      ],
      "metadata": {
        "id": "ZLrIRTysnMv_"
      },
      "execution_count": 46,
      "outputs": []
    },
    {
      "cell_type": "code",
      "source": [
        "from sklearn.feature_selection import RFE\n",
        "ridge = Ridge(alpha=10)\n",
        "rfe = RFE(ridge,n_features_to_select=10)\n",
        "data_train_tr = preprocessor.fit_transform(data_train)\n",
        "rfe.fit(data_train_tr,target_train)\n"
      ],
      "metadata": {
        "colab": {
          "base_uri": "https://localhost:8080/"
        },
        "id": "w97YvMZc1wff",
        "outputId": "3229c0ac-4894-46d1-c5fb-1e3c8a945bb9"
      },
      "execution_count": 47,
      "outputs": [
        {
          "output_type": "execute_result",
          "data": {
            "text/plain": [
              "RFE(estimator=Ridge(alpha=10), n_features_to_select=10)"
            ]
          },
          "metadata": {},
          "execution_count": 47
        }
      ]
    },
    {
      "cell_type": "code",
      "source": [
        "data_test_tr = preprocessor.transform(data_test)\n",
        "predicted = rfe.predict(data_test_tr)\n",
        "mse_rfe = mean_squared_error(predicted,target_test)"
      ],
      "metadata": {
        "id": "_a3ltISS42Vg"
      },
      "execution_count": 48,
      "outputs": []
    },
    {
      "cell_type": "code",
      "source": [
        "print('MSE of Ridge model with 10 selected features:',mse_rfe)"
      ],
      "metadata": {
        "colab": {
          "base_uri": "https://localhost:8080/"
        },
        "id": "xsiatH8DJvBo",
        "outputId": "ac585000-a241-46bd-c76d-c41ad25352c0"
      },
      "execution_count": 49,
      "outputs": [
        {
          "output_type": "stream",
          "name": "stdout",
          "text": [
            "MSE of Ridge model with 10 selected features: 4390.583933806413\n"
          ]
        }
      ]
    },
    {
      "cell_type": "code",
      "source": [
        "lasso = Lasso(alpha=0.001)\n",
        "rfe_lasso = RFE(lasso ,n_features_to_select=10)\n",
        "data_train_tr = preprocessor.fit_transform(data_train)\n",
        "rfe_lasso.fit(data_train_tr,target_train)\n"
      ],
      "metadata": {
        "colab": {
          "base_uri": "https://localhost:8080/"
        },
        "id": "-iRpodLLLbjI",
        "outputId": "2015a7dd-050e-4a07-d89a-6f0eaac13747"
      },
      "execution_count": 50,
      "outputs": [
        {
          "output_type": "execute_result",
          "data": {
            "text/plain": [
              "RFE(estimator=Lasso(alpha=0.001), n_features_to_select=10)"
            ]
          },
          "metadata": {},
          "execution_count": 50
        }
      ]
    },
    {
      "cell_type": "code",
      "source": [
        "data_test_tr = preprocessor.transform(data_test)\n",
        "predicted = rfe_lasso.predict(data_test_tr)\n",
        "mse_rfe_lasso = mean_squared_error(predicted,target_test)\n",
        "print('MSE of Lasso model with 10 selected features:',mse_rfe_lasso)"
      ],
      "metadata": {
        "colab": {
          "base_uri": "https://localhost:8080/"
        },
        "id": "4VHwRHERL0D6",
        "outputId": "93e85465-1173-4314-fe15-b58ed9c7fffd"
      },
      "execution_count": 51,
      "outputs": [
        {
          "output_type": "stream",
          "name": "stdout",
          "text": [
            "MSE of Lasso model with 10 selected features: 4404.404262522767\n"
          ]
        }
      ]
    },
    {
      "cell_type": "markdown",
      "source": [
        "#EXTRA"
      ],
      "metadata": {
        "id": "Inkv322gQFLo"
      }
    },
    {
      "cell_type": "code",
      "source": [
        "class LinearRegression_MAE():\n",
        "  \"\"\"\n",
        "    Linear Regression model with mean absolute error cost function\n",
        "\n",
        "    Parameters\n",
        "    ----------\n",
        "\n",
        "    learning_rate : float\n",
        "                    learning rate of gradient descent algorithm\n",
        "    n_iter : int\n",
        "             number of iterations or epoch of gradient descent algorithm\n",
        "    Attributes\n",
        "    ----------\n",
        "    lr : float\n",
        "         learning rate of gradient descent algorithm\n",
        "    n_iter : int\n",
        "             number of iterations or epoch of gradient descent algorithm\n",
        "    weights : numpy.array\n",
        "              weights of our model are initialized with random numbers in [0,1]  \n",
        "    bias : float\n",
        "           bias of our model which is initialized with 0\n",
        "\n",
        "\n",
        "    Methods\n",
        "    -------\n",
        "    fit(X,y)\n",
        "        training the weights with regards to dataset (X and y)\n",
        "    predict(X)\n",
        "            predict target values corresponding to X\n",
        "    _compute_gradient(X,y_true,y_predicted)\n",
        "                      computing gradients of mae cost function\n",
        "\n",
        "  \"\"\"\n",
        "\n",
        "  def __init__(self,learning_rate = 1,n_iter=5000):\n",
        "    self.lr = learning_rate\n",
        "    self.n_iter = n_iter\n",
        "    self.weights = None\n",
        "    self.bias = None\n",
        "    \n",
        "  #computing gradients of mae cost function\n",
        "  def _compute_gradient(self,X,y_true,y_predicted):\n",
        "    n = X.shape[0]\n",
        "    signs = np.array(np.sign(y_predicted-y_true)).reshape(-1,1)\n",
        "    dw = (1/n) * np.sum(X * signs, axis=0)\n",
        "    \n",
        "    db = (1/n) * np.sum(np.sign(y_predicted-y_true))\n",
        "    \n",
        "    return dw , db\n",
        "\n",
        "  def predict(self,X):\n",
        "    return np.dot(X,self.weights) + self.bias\n",
        "\n",
        "  def fit(self,X,y):\n",
        "    # initializing weights and bias\n",
        "    self.weights = np.random.rand(X.shape[1])\n",
        "    \n",
        "    self.bias = 0 \n",
        "\n",
        "    for _ in range(self.n_iter):\n",
        "\n",
        "      y_predicted = self.predict(X)\n",
        "\n",
        "      dw , db = self._compute_gradient(X,y,y_predicted)\n",
        "      \n",
        "      # updating weights and bias\n",
        "      self.weights -= self.lr * dw\n",
        "      self.bias -= self.lr * db\n",
        "      # print(self.weights,self.bias)\n"
      ],
      "metadata": {
        "id": "w2aPh6rO-yhq"
      },
      "execution_count": 56,
      "outputs": []
    },
    {
      "cell_type": "code",
      "source": [
        "mae_lr  = LinearRegression_MAE()\n",
        "from sklearn.preprocessing import StandardScaler\n",
        "from sklearn.model_selection import train_test_split\n",
        "scaler = StandardScaler()\n",
        "data = dataset.loc[:,['serviceCharge',\"telekomUploadSpeed\",'new_heatingType']]\n",
        "target = dataset['totalRent']\n",
        "\n",
        "data_train, data_test, target_train, target_test = train_test_split(data,target,test_size=0.2,random_state=42)\n",
        "\n",
        "train_cat_feature = pd.get_dummies(data_train[['new_heatingType']])\n",
        "train_numeric_features = scaler.fit_transform(data_train[['serviceCharge',\"telekomUploadSpeed\"]])\n",
        "train_numeric_features = pd.DataFrame(train_numeric_features,columns=['serviceCharge',\"telekomUploadSpeed\"],index= data_train.index)\n",
        "data_train  = pd.concat([train_numeric_features,train_cat_feature],axis=1)\n",
        "mae_lr.fit(data_train,target_train)"
      ],
      "metadata": {
        "id": "iqfLuMrZSd7V"
      },
      "execution_count": 53,
      "outputs": []
    },
    {
      "cell_type": "code",
      "source": [
        "from sklearn.metrics import mean_absolute_error\n",
        "test_cat_feature = pd.get_dummies(data_test[['new_heatingType']])\n",
        "test_numeric_features = scaler.transform(data_test[['serviceCharge',\"telekomUploadSpeed\"]])\n",
        "test_numeric_features = pd.DataFrame(test_numeric_features,columns=['serviceCharge',\"telekomUploadSpeed\"],index= data_test.index)\n",
        "data_test  = pd.concat([test_numeric_features,test_cat_feature],axis=1)\n",
        "\n",
        "predicted =mae_lr.predict(data_test)\n",
        "mae = mean_absolute_error(predicted,target_test)\n",
        "print('MAE of MY Linear Regression:',mae)"
      ],
      "metadata": {
        "id": "Hxk14IeDjeIj",
        "colab": {
          "base_uri": "https://localhost:8080/"
        },
        "outputId": "186bf5c2-18bd-450f-b3cb-4f29f0c5ab00"
      },
      "execution_count": 54,
      "outputs": [
        {
          "output_type": "stream",
          "name": "stdout",
          "text": [
            "MAE of MY Linear Regression: 180.07788212291203\n"
          ]
        }
      ]
    }
  ]
}