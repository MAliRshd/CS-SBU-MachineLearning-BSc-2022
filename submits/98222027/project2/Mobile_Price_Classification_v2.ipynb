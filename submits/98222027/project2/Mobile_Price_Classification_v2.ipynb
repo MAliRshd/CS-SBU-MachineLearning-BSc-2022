{
  "nbformat": 4,
  "nbformat_minor": 0,
  "metadata": {
    "colab": {
      "name": "Mobile Price Classification_v2.ipynb",
      "provenance": [],
      "collapsed_sections": [],
      "mount_file_id": "1V_5Tu0RVX8_AJEGaTUEVN-vTsWhfwGdT",
      "authorship_tag": "ABX9TyNs4IPluqFVJO7CvC3aUeZq"
    },
    "kernelspec": {
      "name": "python3",
      "display_name": "Python 3"
    },
    "language_info": {
      "name": "python"
    }
  },
  "cells": [
    {
      "cell_type": "markdown",
      "source": [
        "# Downloading dataset"
      ],
      "metadata": {
        "id": "J9ghL0eNRNgM"
      }
    },
    {
      "cell_type": "code",
      "execution_count": null,
      "metadata": {
        "id": "55zfxD_Z2Izq"
      },
      "outputs": [],
      "source": [
        "!mkdir -p ~/.kaggle\n",
        "!cp /content/drive/MyDrive/kaggle.json ~/.kaggle/\n",
        "!chmod 600 ~/.kaggle/kaggle.json"
      ]
    },
    {
      "cell_type": "code",
      "source": [
        "!kaggle datasets download -d iabhishekofficial/mobile-price-classification"
      ],
      "metadata": {
        "colab": {
          "base_uri": "https://localhost:8080/"
        },
        "id": "fChlUosxWwvW",
        "outputId": "c3b482cb-7dae-4253-a057-a3b4a9d53ee4"
      },
      "execution_count": null,
      "outputs": [
        {
          "output_type": "stream",
          "name": "stdout",
          "text": [
            "Downloading mobile-price-classification.zip to /content\n",
            "\r  0% 0.00/70.6k [00:00<?, ?B/s]\n",
            "\r100% 70.6k/70.6k [00:00<00:00, 37.4MB/s]\n"
          ]
        }
      ]
    },
    {
      "cell_type": "code",
      "source": [
        "!unzip mobile-price-classification.zip"
      ],
      "metadata": {
        "colab": {
          "base_uri": "https://localhost:8080/"
        },
        "id": "KnShUDF0W4D5",
        "outputId": "df5edf39-4c34-4c9c-d3b7-25d4fd7aedc7"
      },
      "execution_count": null,
      "outputs": [
        {
          "output_type": "stream",
          "name": "stdout",
          "text": [
            "Archive:  mobile-price-classification.zip\n",
            "  inflating: test.csv                \n",
            "  inflating: train.csv               \n"
          ]
        }
      ]
    },
    {
      "cell_type": "markdown",
      "source": [
        "# Loading dataset"
      ],
      "metadata": {
        "id": "HpZl9pbunFFg"
      }
    },
    {
      "cell_type": "code",
      "source": [
        "import pandas as pd\n",
        "import numpy as np\n",
        "import seaborn as sns\n",
        "import matplotlib.pyplot as plt\n",
        "%matplotlib inline"
      ],
      "metadata": {
        "id": "zzliyDKjXFWs"
      },
      "execution_count": null,
      "outputs": []
    },
    {
      "cell_type": "code",
      "source": [
        "dataset = pd.read_csv('train.csv')"
      ],
      "metadata": {
        "id": "gwC0D2YRXQ4P"
      },
      "execution_count": null,
      "outputs": []
    },
    {
      "cell_type": "code",
      "source": [
        "dataset.head()"
      ],
      "metadata": {
        "colab": {
          "base_uri": "https://localhost:8080/",
          "height": 300
        },
        "id": "72f-mPI-XVTX",
        "outputId": "956fe26e-ece7-4325-e2d0-6e9fa6bddb29"
      },
      "execution_count": null,
      "outputs": [
        {
          "output_type": "execute_result",
          "data": {
            "text/plain": [
              "   battery_power  blue  clock_speed  dual_sim  fc  four_g  int_memory  m_dep  \\\n",
              "0            842     0          2.2         0   1       0           7    0.6   \n",
              "1           1021     1          0.5         1   0       1          53    0.7   \n",
              "2            563     1          0.5         1   2       1          41    0.9   \n",
              "3            615     1          2.5         0   0       0          10    0.8   \n",
              "4           1821     1          1.2         0  13       1          44    0.6   \n",
              "\n",
              "   mobile_wt  n_cores  ...  px_height  px_width   ram  sc_h  sc_w  talk_time  \\\n",
              "0        188        2  ...         20       756  2549     9     7         19   \n",
              "1        136        3  ...        905      1988  2631    17     3          7   \n",
              "2        145        5  ...       1263      1716  2603    11     2          9   \n",
              "3        131        6  ...       1216      1786  2769    16     8         11   \n",
              "4        141        2  ...       1208      1212  1411     8     2         15   \n",
              "\n",
              "   three_g  touch_screen  wifi  price_range  \n",
              "0        0             0     1            1  \n",
              "1        1             1     0            2  \n",
              "2        1             1     0            2  \n",
              "3        1             0     0            2  \n",
              "4        1             1     0            1  \n",
              "\n",
              "[5 rows x 21 columns]"
            ],
            "text/html": [
              "\n",
              "  <div id=\"df-b5f2bba9-f242-4adb-b00b-8e5d1288b9c7\">\n",
              "    <div class=\"colab-df-container\">\n",
              "      <div>\n",
              "<style scoped>\n",
              "    .dataframe tbody tr th:only-of-type {\n",
              "        vertical-align: middle;\n",
              "    }\n",
              "\n",
              "    .dataframe tbody tr th {\n",
              "        vertical-align: top;\n",
              "    }\n",
              "\n",
              "    .dataframe thead th {\n",
              "        text-align: right;\n",
              "    }\n",
              "</style>\n",
              "<table border=\"1\" class=\"dataframe\">\n",
              "  <thead>\n",
              "    <tr style=\"text-align: right;\">\n",
              "      <th></th>\n",
              "      <th>battery_power</th>\n",
              "      <th>blue</th>\n",
              "      <th>clock_speed</th>\n",
              "      <th>dual_sim</th>\n",
              "      <th>fc</th>\n",
              "      <th>four_g</th>\n",
              "      <th>int_memory</th>\n",
              "      <th>m_dep</th>\n",
              "      <th>mobile_wt</th>\n",
              "      <th>n_cores</th>\n",
              "      <th>...</th>\n",
              "      <th>px_height</th>\n",
              "      <th>px_width</th>\n",
              "      <th>ram</th>\n",
              "      <th>sc_h</th>\n",
              "      <th>sc_w</th>\n",
              "      <th>talk_time</th>\n",
              "      <th>three_g</th>\n",
              "      <th>touch_screen</th>\n",
              "      <th>wifi</th>\n",
              "      <th>price_range</th>\n",
              "    </tr>\n",
              "  </thead>\n",
              "  <tbody>\n",
              "    <tr>\n",
              "      <th>0</th>\n",
              "      <td>842</td>\n",
              "      <td>0</td>\n",
              "      <td>2.2</td>\n",
              "      <td>0</td>\n",
              "      <td>1</td>\n",
              "      <td>0</td>\n",
              "      <td>7</td>\n",
              "      <td>0.6</td>\n",
              "      <td>188</td>\n",
              "      <td>2</td>\n",
              "      <td>...</td>\n",
              "      <td>20</td>\n",
              "      <td>756</td>\n",
              "      <td>2549</td>\n",
              "      <td>9</td>\n",
              "      <td>7</td>\n",
              "      <td>19</td>\n",
              "      <td>0</td>\n",
              "      <td>0</td>\n",
              "      <td>1</td>\n",
              "      <td>1</td>\n",
              "    </tr>\n",
              "    <tr>\n",
              "      <th>1</th>\n",
              "      <td>1021</td>\n",
              "      <td>1</td>\n",
              "      <td>0.5</td>\n",
              "      <td>1</td>\n",
              "      <td>0</td>\n",
              "      <td>1</td>\n",
              "      <td>53</td>\n",
              "      <td>0.7</td>\n",
              "      <td>136</td>\n",
              "      <td>3</td>\n",
              "      <td>...</td>\n",
              "      <td>905</td>\n",
              "      <td>1988</td>\n",
              "      <td>2631</td>\n",
              "      <td>17</td>\n",
              "      <td>3</td>\n",
              "      <td>7</td>\n",
              "      <td>1</td>\n",
              "      <td>1</td>\n",
              "      <td>0</td>\n",
              "      <td>2</td>\n",
              "    </tr>\n",
              "    <tr>\n",
              "      <th>2</th>\n",
              "      <td>563</td>\n",
              "      <td>1</td>\n",
              "      <td>0.5</td>\n",
              "      <td>1</td>\n",
              "      <td>2</td>\n",
              "      <td>1</td>\n",
              "      <td>41</td>\n",
              "      <td>0.9</td>\n",
              "      <td>145</td>\n",
              "      <td>5</td>\n",
              "      <td>...</td>\n",
              "      <td>1263</td>\n",
              "      <td>1716</td>\n",
              "      <td>2603</td>\n",
              "      <td>11</td>\n",
              "      <td>2</td>\n",
              "      <td>9</td>\n",
              "      <td>1</td>\n",
              "      <td>1</td>\n",
              "      <td>0</td>\n",
              "      <td>2</td>\n",
              "    </tr>\n",
              "    <tr>\n",
              "      <th>3</th>\n",
              "      <td>615</td>\n",
              "      <td>1</td>\n",
              "      <td>2.5</td>\n",
              "      <td>0</td>\n",
              "      <td>0</td>\n",
              "      <td>0</td>\n",
              "      <td>10</td>\n",
              "      <td>0.8</td>\n",
              "      <td>131</td>\n",
              "      <td>6</td>\n",
              "      <td>...</td>\n",
              "      <td>1216</td>\n",
              "      <td>1786</td>\n",
              "      <td>2769</td>\n",
              "      <td>16</td>\n",
              "      <td>8</td>\n",
              "      <td>11</td>\n",
              "      <td>1</td>\n",
              "      <td>0</td>\n",
              "      <td>0</td>\n",
              "      <td>2</td>\n",
              "    </tr>\n",
              "    <tr>\n",
              "      <th>4</th>\n",
              "      <td>1821</td>\n",
              "      <td>1</td>\n",
              "      <td>1.2</td>\n",
              "      <td>0</td>\n",
              "      <td>13</td>\n",
              "      <td>1</td>\n",
              "      <td>44</td>\n",
              "      <td>0.6</td>\n",
              "      <td>141</td>\n",
              "      <td>2</td>\n",
              "      <td>...</td>\n",
              "      <td>1208</td>\n",
              "      <td>1212</td>\n",
              "      <td>1411</td>\n",
              "      <td>8</td>\n",
              "      <td>2</td>\n",
              "      <td>15</td>\n",
              "      <td>1</td>\n",
              "      <td>1</td>\n",
              "      <td>0</td>\n",
              "      <td>1</td>\n",
              "    </tr>\n",
              "  </tbody>\n",
              "</table>\n",
              "<p>5 rows × 21 columns</p>\n",
              "</div>\n",
              "      <button class=\"colab-df-convert\" onclick=\"convertToInteractive('df-b5f2bba9-f242-4adb-b00b-8e5d1288b9c7')\"\n",
              "              title=\"Convert this dataframe to an interactive table.\"\n",
              "              style=\"display:none;\">\n",
              "        \n",
              "  <svg xmlns=\"http://www.w3.org/2000/svg\" height=\"24px\"viewBox=\"0 0 24 24\"\n",
              "       width=\"24px\">\n",
              "    <path d=\"M0 0h24v24H0V0z\" fill=\"none\"/>\n",
              "    <path d=\"M18.56 5.44l.94 2.06.94-2.06 2.06-.94-2.06-.94-.94-2.06-.94 2.06-2.06.94zm-11 1L8.5 8.5l.94-2.06 2.06-.94-2.06-.94L8.5 2.5l-.94 2.06-2.06.94zm10 10l.94 2.06.94-2.06 2.06-.94-2.06-.94-.94-2.06-.94 2.06-2.06.94z\"/><path d=\"M17.41 7.96l-1.37-1.37c-.4-.4-.92-.59-1.43-.59-.52 0-1.04.2-1.43.59L10.3 9.45l-7.72 7.72c-.78.78-.78 2.05 0 2.83L4 21.41c.39.39.9.59 1.41.59.51 0 1.02-.2 1.41-.59l7.78-7.78 2.81-2.81c.8-.78.8-2.07 0-2.86zM5.41 20L4 18.59l7.72-7.72 1.47 1.35L5.41 20z\"/>\n",
              "  </svg>\n",
              "      </button>\n",
              "      \n",
              "  <style>\n",
              "    .colab-df-container {\n",
              "      display:flex;\n",
              "      flex-wrap:wrap;\n",
              "      gap: 12px;\n",
              "    }\n",
              "\n",
              "    .colab-df-convert {\n",
              "      background-color: #E8F0FE;\n",
              "      border: none;\n",
              "      border-radius: 50%;\n",
              "      cursor: pointer;\n",
              "      display: none;\n",
              "      fill: #1967D2;\n",
              "      height: 32px;\n",
              "      padding: 0 0 0 0;\n",
              "      width: 32px;\n",
              "    }\n",
              "\n",
              "    .colab-df-convert:hover {\n",
              "      background-color: #E2EBFA;\n",
              "      box-shadow: 0px 1px 2px rgba(60, 64, 67, 0.3), 0px 1px 3px 1px rgba(60, 64, 67, 0.15);\n",
              "      fill: #174EA6;\n",
              "    }\n",
              "\n",
              "    [theme=dark] .colab-df-convert {\n",
              "      background-color: #3B4455;\n",
              "      fill: #D2E3FC;\n",
              "    }\n",
              "\n",
              "    [theme=dark] .colab-df-convert:hover {\n",
              "      background-color: #434B5C;\n",
              "      box-shadow: 0px 1px 3px 1px rgba(0, 0, 0, 0.15);\n",
              "      filter: drop-shadow(0px 1px 2px rgba(0, 0, 0, 0.3));\n",
              "      fill: #FFFFFF;\n",
              "    }\n",
              "  </style>\n",
              "\n",
              "      <script>\n",
              "        const buttonEl =\n",
              "          document.querySelector('#df-b5f2bba9-f242-4adb-b00b-8e5d1288b9c7 button.colab-df-convert');\n",
              "        buttonEl.style.display =\n",
              "          google.colab.kernel.accessAllowed ? 'block' : 'none';\n",
              "\n",
              "        async function convertToInteractive(key) {\n",
              "          const element = document.querySelector('#df-b5f2bba9-f242-4adb-b00b-8e5d1288b9c7');\n",
              "          const dataTable =\n",
              "            await google.colab.kernel.invokeFunction('convertToInteractive',\n",
              "                                                     [key], {});\n",
              "          if (!dataTable) return;\n",
              "\n",
              "          const docLinkHtml = 'Like what you see? Visit the ' +\n",
              "            '<a target=\"_blank\" href=https://colab.research.google.com/notebooks/data_table.ipynb>data table notebook</a>'\n",
              "            + ' to learn more about interactive tables.';\n",
              "          element.innerHTML = '';\n",
              "          dataTable['output_type'] = 'display_data';\n",
              "          await google.colab.output.renderOutput(dataTable, element);\n",
              "          const docLink = document.createElement('div');\n",
              "          docLink.innerHTML = docLinkHtml;\n",
              "          element.appendChild(docLink);\n",
              "        }\n",
              "      </script>\n",
              "    </div>\n",
              "  </div>\n",
              "  "
            ]
          },
          "metadata": {},
          "execution_count": 6
        }
      ]
    },
    {
      "cell_type": "markdown",
      "source": [
        "#Preprocessing"
      ],
      "metadata": {
        "id": "cjrg9pr-XigV"
      }
    },
    {
      "cell_type": "markdown",
      "source": [
        "Null values"
      ],
      "metadata": {
        "id": "sjO1MytxnOE_"
      }
    },
    {
      "cell_type": "code",
      "source": [
        "dataset.isna().sum()"
      ],
      "metadata": {
        "colab": {
          "base_uri": "https://localhost:8080/"
        },
        "id": "8MFn3iWXXXSo",
        "outputId": "5d3cba52-71f2-4552-92ef-ac72e2ee1726"
      },
      "execution_count": null,
      "outputs": [
        {
          "output_type": "execute_result",
          "data": {
            "text/plain": [
              "battery_power    0\n",
              "blue             0\n",
              "clock_speed      0\n",
              "dual_sim         0\n",
              "fc               0\n",
              "four_g           0\n",
              "int_memory       0\n",
              "m_dep            0\n",
              "mobile_wt        0\n",
              "n_cores          0\n",
              "pc               0\n",
              "px_height        0\n",
              "px_width         0\n",
              "ram              0\n",
              "sc_h             0\n",
              "sc_w             0\n",
              "talk_time        0\n",
              "three_g          0\n",
              "touch_screen     0\n",
              "wifi             0\n",
              "price_range      0\n",
              "dtype: int64"
            ]
          },
          "metadata": {},
          "execution_count": 7
        }
      ]
    },
    {
      "cell_type": "markdown",
      "source": [
        "Dealing with outliers"
      ],
      "metadata": {
        "id": "u88j5M5inSA4"
      }
    },
    {
      "cell_type": "code",
      "source": [
        "def detect_outlier(df,col_name):\n",
        "  \"\"\"\n",
        "  Find indexes of outliers by computing IQR score\n",
        "\n",
        "  Parameters\n",
        "  ----------\n",
        "  df : pd.DataFrame\n",
        "       dataframe of dataset \n",
        "  col_name : str\n",
        "             name of column you want to find outliers in\n",
        "  Returns\n",
        "  -------\n",
        "  indexes : pd.Index\n",
        "            indexes of outliers\n",
        "  \"\"\"\n",
        "\n",
        "  q1 = np.percentile(df[col_name],25)\n",
        "  q3 = np.percentile(df[col_name],75)\n",
        "  iqr = q3 - q1\n",
        "  lower = q1 - 1.5 * iqr\n",
        "  upper = q3 + 1.5 * iqr\n",
        "  indexes = df[(df[col_name] > upper) | (df[col_name] < lower)].index\n",
        "  return indexes"
      ],
      "metadata": {
        "id": "DSUB21pmXnBD"
      },
      "execution_count": null,
      "outputs": []
    },
    {
      "cell_type": "code",
      "source": [
        "dataset.shape"
      ],
      "metadata": {
        "colab": {
          "base_uri": "https://localhost:8080/"
        },
        "id": "zfiDMw41ZU4F",
        "outputId": "c7274a6d-b2c4-4c76-8cac-2511e8f42d84"
      },
      "execution_count": null,
      "outputs": [
        {
          "output_type": "execute_result",
          "data": {
            "text/plain": [
              "(2000, 21)"
            ]
          },
          "metadata": {},
          "execution_count": 9
        }
      ]
    },
    {
      "cell_type": "code",
      "source": [
        "for col in ['battery_power','clock_speed','fc','int_memory','m_dep','mobile_wt','n_cores','pc','px_height',\n",
        "            'px_width','ram','sc_h','sc_w','talk_time',]:\n",
        "  if dataset[col].dtype == 'int64' or dataset[col].dtype == 'float64':\n",
        "    outlier_indexes = detect_outlier(dataset,col)\n",
        "    print(len(outlier_indexes),col)\n",
        "    dataset.drop(outlier_indexes,inplace=True)"
      ],
      "metadata": {
        "colab": {
          "base_uri": "https://localhost:8080/"
        },
        "id": "-9a95teoZXI6",
        "outputId": "38f217e9-86ce-4d5f-bbe8-5ed2e4bf6b50"
      },
      "execution_count": null,
      "outputs": [
        {
          "output_type": "stream",
          "name": "stdout",
          "text": [
            "0 battery_power\n",
            "0 clock_speed\n",
            "18 fc\n",
            "0 int_memory\n",
            "0 m_dep\n",
            "0 mobile_wt\n",
            "0 n_cores\n",
            "0 pc\n",
            "2 px_height\n",
            "0 px_width\n",
            "0 ram\n",
            "0 sc_h\n",
            "0 sc_w\n",
            "0 talk_time\n"
          ]
        }
      ]
    },
    {
      "cell_type": "code",
      "source": [
        "dataset.shape"
      ],
      "metadata": {
        "colab": {
          "base_uri": "https://localhost:8080/"
        },
        "id": "V2VcAQg_ZeXf",
        "outputId": "3427360f-a668-454f-f290-6ec8968ea73c"
      },
      "execution_count": null,
      "outputs": [
        {
          "output_type": "execute_result",
          "data": {
            "text/plain": [
              "(1980, 21)"
            ]
          },
          "metadata": {},
          "execution_count": 11
        }
      ]
    },
    {
      "cell_type": "markdown",
      "source": [
        "#Feature Selection\n"
      ],
      "metadata": {
        "id": "chBZvs0uWHOu"
      }
    },
    {
      "cell_type": "markdown",
      "source": [
        "Forward Selection"
      ],
      "metadata": {
        "id": "PzmOPPXCWSBy"
      }
    },
    {
      "cell_type": "code",
      "source": [
        "from sklearn.linear_model import LogisticRegression\n",
        "from sklearn.metrics import roc_auc_score\n",
        "from sklearn.model_selection import train_test_split\n",
        "from sklearn.pipeline import make_pipeline\n",
        "from sklearn.preprocessing import StandardScaler"
      ],
      "metadata": {
        "id": "XJaqUiVXb1MW"
      },
      "execution_count": null,
      "outputs": []
    },
    {
      "cell_type": "code",
      "source": [
        "def new_price(price):\n",
        "  \"\"\"\n",
        "  Labeling 0 and 1 class of mobiles as low and 2 and 3 class of mobiles as high\n",
        "\n",
        "  Parameters\n",
        "  ----------\n",
        "  price : int\n",
        "          price range of mobile which can be 0, 1, 2, 3\n",
        "  Returns\n",
        "  -------\n",
        "  indexes : str\n",
        "            new label of instance\n",
        "  \"\"\"\n",
        "  if price in [0,1]:\n",
        "    return 'low'\n",
        "  else:\n",
        "    return 'high'\n",
        "\n",
        "dataset['new_price'] = dataset.price_range.apply(new_price) \n",
        "dataset.drop('price_range',axis=1,inplace=True)"
      ],
      "metadata": {
        "id": "ETQf3beVdBO5"
      },
      "execution_count": null,
      "outputs": []
    },
    {
      "cell_type": "code",
      "source": [
        "data = dataset.drop('new_price',axis=1)\n",
        "target = dataset['new_price']\n",
        "data_train, data_test, target_train, target_test = train_test_split(data,target,test_size=0.2,random_state=42)\n",
        "data_train, data_val, target_train, target_val = train_test_split(data_train,target_train,test_size=0.25,random_state=42)"
      ],
      "metadata": {
        "id": "2IsShOHSdM9l"
      },
      "execution_count": null,
      "outputs": []
    },
    {
      "cell_type": "code",
      "source": [
        "def forward_selection(data_train,target_train,data_val,target_val,n_features):\n",
        "  \"\"\"\n",
        "  Forward feature selection\n",
        "  At each step is added a feature to features list and computing corresponding auc score with features are selected so far and it is added to features_scores \n",
        "\n",
        "  Parameters\n",
        "  ----------\n",
        "  data_train : pd.DataFrame\n",
        "               train dataset\n",
        "  target_train : pd.Series\n",
        "                 target of train dataset\n",
        "  data_val : pd.DataFrame\n",
        "             validation dataset\n",
        "  target_val : pd.Series\n",
        "               target of validation dataset\n",
        "  n_features : int\n",
        "                 number of features we want to select\n",
        "  Returns\n",
        "  -------\n",
        "  features : list\n",
        "             list of selected features\n",
        "  features_scores : list\n",
        "                    list of auc scores corresponding to model with selected features\n",
        "  \"\"\"\n",
        "  features = []\n",
        "  features_scores = []\n",
        "  for _ in range(n_features):\n",
        "    scores = []\n",
        "    model = make_pipeline(StandardScaler(), LogisticRegression(max_iter=10000))\n",
        "    for feature in data_train.columns:\n",
        "      if feature not in features:\n",
        "        copy_features = features.copy()\n",
        "        copy_features.append(feature)\n",
        "        model.fit(data_train[copy_features],target_train)\n",
        "        scores.append((feature,evaluate_model(model,data_val[copy_features],target_val)))\n",
        "    \n",
        "    scores.sort(key=lambda x:x[1],reverse =True)\n",
        "    features.append(scores[0][0])\n",
        "    features_scores.append(scores[0][1])\n",
        "  return features, features_scores\n"
      ],
      "metadata": {
        "id": "77IlwgFcdj7I"
      },
      "execution_count": null,
      "outputs": []
    },
    {
      "cell_type": "code",
      "source": [
        "def evaluate_model(model,x_val,y_val):\n",
        "  \"\"\"\n",
        "  compute auc score on validation set\n",
        "\n",
        "  Parameters\n",
        "  ----------\n",
        "  model: sklearn.estimator\n",
        "         model which we want to measure auc score of \n",
        "  x_val : pd.DataFrame\n",
        "          validation set\n",
        "  y_val : pd.Series\n",
        "          target of validation set\n",
        "  Returns\n",
        "  -------\n",
        "  auc_score : float\n",
        "            auc score of model on validation set\n",
        "  \"\"\"\n",
        "  predicted_proba = model.predict_proba(x_val)\n",
        "  auc_score = roc_auc_score(y_val,predicted_proba[:,1])\n",
        "  return auc_score"
      ],
      "metadata": {
        "id": "8q1LxKGbl5ql"
      },
      "execution_count": null,
      "outputs": []
    },
    {
      "cell_type": "markdown",
      "source": [
        "select all features and compute their scores"
      ],
      "metadata": {
        "id": "P9fl1KI4rFOy"
      }
    },
    {
      "cell_type": "code",
      "source": [
        "selected_features, scores = forward_selection(data_train,target_train,data_val,target_val,20)"
      ],
      "metadata": {
        "id": "cr_1ZVecnKhT"
      },
      "execution_count": null,
      "outputs": []
    },
    {
      "cell_type": "code",
      "source": [
        "selected_features"
      ],
      "metadata": {
        "colab": {
          "base_uri": "https://localhost:8080/"
        },
        "id": "B9_nEW9cndPN",
        "outputId": "b48df55f-ca1a-42f5-c2a3-c437ff00722b"
      },
      "execution_count": null,
      "outputs": [
        {
          "output_type": "execute_result",
          "data": {
            "text/plain": [
              "['ram',\n",
              " 'battery_power',\n",
              " 'px_width',\n",
              " 'px_height',\n",
              " 'wifi',\n",
              " 'm_dep',\n",
              " 'int_memory',\n",
              " 'fc',\n",
              " 'blue',\n",
              " 'clock_speed',\n",
              " 'n_cores',\n",
              " 'pc',\n",
              " 'touch_screen',\n",
              " 'talk_time',\n",
              " 'four_g',\n",
              " 'sc_w',\n",
              " 'dual_sim',\n",
              " 'sc_h',\n",
              " 'three_g',\n",
              " 'mobile_wt']"
            ]
          },
          "metadata": {},
          "execution_count": 18
        }
      ]
    },
    {
      "cell_type": "code",
      "source": [
        "scores"
      ],
      "metadata": {
        "colab": {
          "base_uri": "https://localhost:8080/"
        },
        "id": "NLaxxbB91Lub",
        "outputId": "6eaff3d4-961f-4683-f159-358f8bf77237"
      },
      "execution_count": null,
      "outputs": [
        {
          "output_type": "execute_result",
          "data": {
            "text/plain": [
              "[0.9808633277827591,\n",
              " 0.9908031254002818,\n",
              " 0.9973101063148456,\n",
              " 0.9995132573331625,\n",
              " 0.9995644934033561,\n",
              " 0.9996413475086461,\n",
              " 0.9996925835788395,\n",
              " 0.9997182016139362,\n",
              " 0.9997182016139362,\n",
              " 0.9997182016139362,\n",
              " 0.9997182016139362,\n",
              " 0.9997694376841296,\n",
              " 0.999820673754323,\n",
              " 0.999820673754323,\n",
              " 0.999820673754323,\n",
              " 0.9997438196490329,\n",
              " 0.9996669655437428,\n",
              " 0.9995901114384527,\n",
              " 0.9993595491225823,\n",
              " 0.9985653900345843]"
            ]
          },
          "metadata": {},
          "execution_count": 19
        }
      ]
    },
    {
      "cell_type": "code",
      "source": [
        "best_features = selected_features[:4]\n",
        "best_features"
      ],
      "metadata": {
        "colab": {
          "base_uri": "https://localhost:8080/"
        },
        "id": "Re-WpTUyrcCl",
        "outputId": "aad94b18-c418-4431-a439-90f2c93f4642"
      },
      "execution_count": null,
      "outputs": [
        {
          "output_type": "execute_result",
          "data": {
            "text/plain": [
              "['ram', 'battery_power', 'px_width', 'px_height']"
            ]
          },
          "metadata": {},
          "execution_count": 20
        }
      ]
    },
    {
      "cell_type": "code",
      "source": [
        "logistic_reg = make_pipeline(StandardScaler(),LogisticRegression())\n",
        "logistic_reg.fit(data_train[best_features],target_train)\n",
        "acc = logistic_reg.score(data_test[best_features],target_test)\n",
        "print('accuracy of model:',acc)"
      ],
      "metadata": {
        "colab": {
          "base_uri": "https://localhost:8080/"
        },
        "id": "w9Sd3cgVsq_g",
        "outputId": "fa077f44-b89e-4785-f2ef-d1871e24cc7f"
      },
      "execution_count": null,
      "outputs": [
        {
          "output_type": "stream",
          "name": "stdout",
          "text": [
            "accuracy of model: 0.9848484848484849\n"
          ]
        }
      ]
    },
    {
      "cell_type": "code",
      "source": [
        "from sklearn.metrics import classification_report\n",
        "predicted = logistic_reg.predict(data_test[best_features])\n",
        "cr = classification_report(target_test,predicted,target_names=['high','low'])\n",
        "\n",
        "print(cr)"
      ],
      "metadata": {
        "colab": {
          "base_uri": "https://localhost:8080/"
        },
        "id": "nmVHZWkC13Eh",
        "outputId": "c73496bc-1ba1-4747-9eba-145423ee1ae1"
      },
      "execution_count": null,
      "outputs": [
        {
          "output_type": "stream",
          "name": "stdout",
          "text": [
            "              precision    recall  f1-score   support\n",
            "\n",
            "        high       0.99      0.97      0.98       192\n",
            "         low       0.98      1.00      0.99       204\n",
            "\n",
            "    accuracy                           0.98       396\n",
            "   macro avg       0.99      0.98      0.98       396\n",
            "weighted avg       0.99      0.98      0.98       396\n",
            "\n"
          ]
        }
      ]
    },
    {
      "cell_type": "markdown",
      "source": [
        "#PCA"
      ],
      "metadata": {
        "id": "CYeyCrwwrqmy"
      }
    },
    {
      "cell_type": "code",
      "source": [
        "from sklearn.decomposition import PCA\n",
        "\n",
        "pca = PCA(n_components=4)\n",
        "data = dataset.drop('new_price',axis=1)\n",
        "target = dataset['new_price']\n",
        "data_train, data_test, target_train, target_test = train_test_split(data,target,test_size=0.2,random_state=42)\n",
        "\n",
        "data_train_transformed = pca.fit_transform(data_train)\n",
        "data_test_transformed = pca.transform(data_test)"
      ],
      "metadata": {
        "id": "VpF7cGt925gd"
      },
      "execution_count": null,
      "outputs": []
    },
    {
      "cell_type": "code",
      "source": [
        "logistic_reg= LogisticRegression(max_iter=10000)\n",
        "logistic_reg.fit(data_train_transformed,target_train)\n",
        "acc_pca = logistic_reg.score(data_test_transformed,target_test)\n",
        "print('accuracy of model:',acc_pca)"
      ],
      "metadata": {
        "colab": {
          "base_uri": "https://localhost:8080/"
        },
        "id": "-YEw5ZpYF0wx",
        "outputId": "8f3602cc-479a-45c3-dcd9-eaab602b7899"
      },
      "execution_count": null,
      "outputs": [
        {
          "output_type": "stream",
          "name": "stdout",
          "text": [
            "accuracy of model: 0.98989898989899\n"
          ]
        }
      ]
    },
    {
      "cell_type": "code",
      "source": [
        "predicted = logistic_reg.predict(data_test_transformed)\n",
        "cr = classification_report(target_test,predicted,target_names=['high','low'])\n",
        "print(cr)"
      ],
      "metadata": {
        "colab": {
          "base_uri": "https://localhost:8080/"
        },
        "id": "6mH75XM9GNKG",
        "outputId": "a533fe8a-9f91-470f-e546-3825a37a85dc"
      },
      "execution_count": null,
      "outputs": [
        {
          "output_type": "stream",
          "name": "stdout",
          "text": [
            "              precision    recall  f1-score   support\n",
            "\n",
            "        high       0.99      0.99      0.99       192\n",
            "         low       0.99      0.99      0.99       204\n",
            "\n",
            "    accuracy                           0.99       396\n",
            "   macro avg       0.99      0.99      0.99       396\n",
            "weighted avg       0.99      0.99      0.99       396\n",
            "\n"
          ]
        }
      ]
    },
    {
      "cell_type": "markdown",
      "source": [
        "#Feature Engineering"
      ],
      "metadata": {
        "id": "VNPez7OisW4u"
      }
    },
    {
      "cell_type": "markdown",
      "source": [
        "##Binning"
      ],
      "metadata": {
        "id": "QfqmXoUgm6E_"
      }
    },
    {
      "cell_type": "code",
      "source": [
        "min = dataset['battery_power'].min()\n",
        "max = dataset['battery_power'].max()\n",
        "\n",
        "bins = np.linspace(min,max,4)\n",
        "bins"
      ],
      "metadata": {
        "colab": {
          "base_uri": "https://localhost:8080/"
        },
        "id": "xPP5gETNF7Os",
        "outputId": "90ccac79-2575-498d-e5eb-71b7f9e27242"
      },
      "execution_count": null,
      "outputs": [
        {
          "output_type": "execute_result",
          "data": {
            "text/plain": [
              "array([ 501., 1000., 1499., 1998.])"
            ]
          },
          "metadata": {},
          "execution_count": 26
        }
      ]
    },
    {
      "cell_type": "code",
      "source": [
        "data = dataset.drop('new_price',axis=1)\n",
        "target = dataset['new_price']\n",
        "\n",
        "labels = ['low','mid','high']\n",
        "\n",
        "data['battery_power'] = pd.cut(data['battery_power'],bins=bins,labels=labels,include_lowest=True)\n",
        "data.battery_power.hist(bins=3)"
      ],
      "metadata": {
        "colab": {
          "base_uri": "https://localhost:8080/",
          "height": 282
        },
        "id": "6hM1ysxypN9q",
        "outputId": "edd4c674-0f60-4f6f-b46e-6f13d89a55eb"
      },
      "execution_count": null,
      "outputs": [
        {
          "output_type": "execute_result",
          "data": {
            "text/plain": [
              "<matplotlib.axes._subplots.AxesSubplot at 0x7ff732061310>"
            ]
          },
          "metadata": {},
          "execution_count": 27
        },
        {
          "output_type": "display_data",
          "data": {
            "text/plain": [
              "<Figure size 432x288 with 1 Axes>"
            ],
            "image/png": "[encoded data removed]"
          },
          "metadata": {
            "needs_background": "light"
          }
        }
      ]
    },
    {
      "cell_type": "code",
      "source": [
        "data = dataset.drop('new_price',axis=1)\n",
        "target = dataset['new_price']\n",
        "\n",
        "labels = ['low','mid','high']\n",
        "bins = [0,666,1333,2000]\n",
        "data['battery_power'] = pd.cut(data['battery_power'],bins=bins,labels=labels,include_lowest=True)\n",
        "data.battery_power.hist(bins=3)"
      ],
      "metadata": {
        "colab": {
          "base_uri": "https://localhost:8080/",
          "height": 282
        },
        "id": "MMnHNqWcratB",
        "outputId": "ed09b8ba-3138-4f92-e205-b9d929d96c1e"
      },
      "execution_count": null,
      "outputs": [
        {
          "output_type": "execute_result",
          "data": {
            "text/plain": [
              "<matplotlib.axes._subplots.AxesSubplot at 0x7ff731faec10>"
            ]
          },
          "metadata": {},
          "execution_count": 28
        },
        {
          "output_type": "display_data",
          "data": {
            "text/plain": [
              "<Figure size 432x288 with 1 Axes>"
            ],
            "image/png": "[encoded data removed]"
          },
          "metadata": {
            "needs_background": "light"
          }
        }
      ]
    },
    {
      "cell_type": "code",
      "source": [
        "data = dataset.drop('new_price',axis=1)\n",
        "target = dataset['new_price']\n",
        "\n",
        "labels = ['low','mid','high']\n",
        "bins = [0,1000,1600,2000]\n",
        "data['battery_power'] = pd.cut(data['battery_power'],bins=bins,labels=labels,include_lowest=True)\n",
        "data.battery_power.hist(bins=3)"
      ],
      "metadata": {
        "colab": {
          "base_uri": "https://localhost:8080/",
          "height": 283
        },
        "id": "qeM3rozzsNZc",
        "outputId": "079de383-7c1e-4993-9778-b22027bef097"
      },
      "execution_count": null,
      "outputs": [
        {
          "output_type": "execute_result",
          "data": {
            "text/plain": [
              "<matplotlib.axes._subplots.AxesSubplot at 0x7ff731fb9cd0>"
            ]
          },
          "metadata": {},
          "execution_count": 29
        },
        {
          "output_type": "display_data",
          "data": {
            "text/plain": [
              "<Figure size 432x288 with 1 Axes>"
            ],
            "image/png": "[encoded data removed]"
          },
          "metadata": {
            "needs_background": "light"
          }
        }
      ]
    },
    {
      "cell_type": "markdown",
      "source": [
        "##One-hot encoding"
      ],
      "metadata": {
        "id": "RVxEB07ns7mq"
      }
    },
    {
      "cell_type": "code",
      "source": [
        "data = dataset.drop('new_price',axis=1)\n",
        "target = dataset['new_price']\n",
        "\n",
        "labels = ['low','mid','high']\n",
        "bins = np.linspace(min,max,4)\n",
        "data['battery_power'] = pd.cut(data['battery_power'],bins=bins,labels=labels,include_lowest=True)"
      ],
      "metadata": {
        "id": "o7UigAXSs7Tv"
      },
      "execution_count": null,
      "outputs": []
    },
    {
      "cell_type": "code",
      "source": [
        "onehot = pd.get_dummies(data['battery_power'],prefix = 'battery_power')\n",
        "data = pd.concat([data,onehot],axis=1)\n",
        "data.drop('battery_power',axis=1,inplace=True)"
      ],
      "metadata": {
        "id": "Q1mrtpFmsllY"
      },
      "execution_count": null,
      "outputs": []
    },
    {
      "cell_type": "code",
      "source": [
        "data.head()"
      ],
      "metadata": {
        "colab": {
          "base_uri": "https://localhost:8080/",
          "height": 300
        },
        "id": "rNOFocjkt4IV",
        "outputId": "5125d4d9-e0dc-4b22-d1e3-03b70ca49900"
      },
      "execution_count": null,
      "outputs": [
        {
          "output_type": "execute_result",
          "data": {
            "text/plain": [
              "   blue  clock_speed  dual_sim  fc  four_g  int_memory  m_dep  mobile_wt  \\\n",
              "0     0          2.2         0   1       0           7    0.6        188   \n",
              "1     1          0.5         1   0       1          53    0.7        136   \n",
              "2     1          0.5         1   2       1          41    0.9        145   \n",
              "3     1          2.5         0   0       0          10    0.8        131   \n",
              "4     1          1.2         0  13       1          44    0.6        141   \n",
              "\n",
              "   n_cores  pc  ...   ram  sc_h  sc_w  talk_time  three_g  touch_screen  wifi  \\\n",
              "0        2   2  ...  2549     9     7         19        0             0     1   \n",
              "1        3   6  ...  2631    17     3          7        1             1     0   \n",
              "2        5   6  ...  2603    11     2          9        1             1     0   \n",
              "3        6   9  ...  2769    16     8         11        1             0     0   \n",
              "4        2  14  ...  1411     8     2         15        1             1     0   \n",
              "\n",
              "   battery_power_low  battery_power_mid  battery_power_high  \n",
              "0                  1                  0                   0  \n",
              "1                  0                  1                   0  \n",
              "2                  1                  0                   0  \n",
              "3                  1                  0                   0  \n",
              "4                  0                  0                   1  \n",
              "\n",
              "[5 rows x 22 columns]"
            ],
            "text/html": [
              "\n",
              "  <div id=\"df-cc2509c9-954f-4c68-a8fb-e49629d60fcd\">\n",
              "    <div class=\"colab-df-container\">\n",
              "      <div>\n",
              "<style scoped>\n",
              "    .dataframe tbody tr th:only-of-type {\n",
              "        vertical-align: middle;\n",
              "    }\n",
              "\n",
              "    .dataframe tbody tr th {\n",
              "        vertical-align: top;\n",
              "    }\n",
              "\n",
              "    .dataframe thead th {\n",
              "        text-align: right;\n",
              "    }\n",
              "</style>\n",
              "<table border=\"1\" class=\"dataframe\">\n",
              "  <thead>\n",
              "    <tr style=\"text-align: right;\">\n",
              "      <th></th>\n",
              "      <th>blue</th>\n",
              "      <th>clock_speed</th>\n",
              "      <th>dual_sim</th>\n",
              "      <th>fc</th>\n",
              "      <th>four_g</th>\n",
              "      <th>int_memory</th>\n",
              "      <th>m_dep</th>\n",
              "      <th>mobile_wt</th>\n",
              "      <th>n_cores</th>\n",
              "      <th>pc</th>\n",
              "      <th>...</th>\n",
              "      <th>ram</th>\n",
              "      <th>sc_h</th>\n",
              "      <th>sc_w</th>\n",
              "      <th>talk_time</th>\n",
              "      <th>three_g</th>\n",
              "      <th>touch_screen</th>\n",
              "      <th>wifi</th>\n",
              "      <th>battery_power_low</th>\n",
              "      <th>battery_power_mid</th>\n",
              "      <th>battery_power_high</th>\n",
              "    </tr>\n",
              "  </thead>\n",
              "  <tbody>\n",
              "    <tr>\n",
              "      <th>0</th>\n",
              "      <td>0</td>\n",
              "      <td>2.2</td>\n",
              "      <td>0</td>\n",
              "      <td>1</td>\n",
              "      <td>0</td>\n",
              "      <td>7</td>\n",
              "      <td>0.6</td>\n",
              "      <td>188</td>\n",
              "      <td>2</td>\n",
              "      <td>2</td>\n",
              "      <td>...</td>\n",
              "      <td>2549</td>\n",
              "      <td>9</td>\n",
              "      <td>7</td>\n",
              "      <td>19</td>\n",
              "      <td>0</td>\n",
              "      <td>0</td>\n",
              "      <td>1</td>\n",
              "      <td>1</td>\n",
              "      <td>0</td>\n",
              "      <td>0</td>\n",
              "    </tr>\n",
              "    <tr>\n",
              "      <th>1</th>\n",
              "      <td>1</td>\n",
              "      <td>0.5</td>\n",
              "      <td>1</td>\n",
              "      <td>0</td>\n",
              "      <td>1</td>\n",
              "      <td>53</td>\n",
              "      <td>0.7</td>\n",
              "      <td>136</td>\n",
              "      <td>3</td>\n",
              "      <td>6</td>\n",
              "      <td>...</td>\n",
              "      <td>2631</td>\n",
              "      <td>17</td>\n",
              "      <td>3</td>\n",
              "      <td>7</td>\n",
              "      <td>1</td>\n",
              "      <td>1</td>\n",
              "      <td>0</td>\n",
              "      <td>0</td>\n",
              "      <td>1</td>\n",
              "      <td>0</td>\n",
              "    </tr>\n",
              "    <tr>\n",
              "      <th>2</th>\n",
              "      <td>1</td>\n",
              "      <td>0.5</td>\n",
              "      <td>1</td>\n",
              "      <td>2</td>\n",
              "      <td>1</td>\n",
              "      <td>41</td>\n",
              "      <td>0.9</td>\n",
              "      <td>145</td>\n",
              "      <td>5</td>\n",
              "      <td>6</td>\n",
              "      <td>...</td>\n",
              "      <td>2603</td>\n",
              "      <td>11</td>\n",
              "      <td>2</td>\n",
              "      <td>9</td>\n",
              "      <td>1</td>\n",
              "      <td>1</td>\n",
              "      <td>0</td>\n",
              "      <td>1</td>\n",
              "      <td>0</td>\n",
              "      <td>0</td>\n",
              "    </tr>\n",
              "    <tr>\n",
              "      <th>3</th>\n",
              "      <td>1</td>\n",
              "      <td>2.5</td>\n",
              "      <td>0</td>\n",
              "      <td>0</td>\n",
              "      <td>0</td>\n",
              "      <td>10</td>\n",
              "      <td>0.8</td>\n",
              "      <td>131</td>\n",
              "      <td>6</td>\n",
              "      <td>9</td>\n",
              "      <td>...</td>\n",
              "      <td>2769</td>\n",
              "      <td>16</td>\n",
              "      <td>8</td>\n",
              "      <td>11</td>\n",
              "      <td>1</td>\n",
              "      <td>0</td>\n",
              "      <td>0</td>\n",
              "      <td>1</td>\n",
              "      <td>0</td>\n",
              "      <td>0</td>\n",
              "    </tr>\n",
              "    <tr>\n",
              "      <th>4</th>\n",
              "      <td>1</td>\n",
              "      <td>1.2</td>\n",
              "      <td>0</td>\n",
              "      <td>13</td>\n",
              "      <td>1</td>\n",
              "      <td>44</td>\n",
              "      <td>0.6</td>\n",
              "      <td>141</td>\n",
              "      <td>2</td>\n",
              "      <td>14</td>\n",
              "      <td>...</td>\n",
              "      <td>1411</td>\n",
              "      <td>8</td>\n",
              "      <td>2</td>\n",
              "      <td>15</td>\n",
              "      <td>1</td>\n",
              "      <td>1</td>\n",
              "      <td>0</td>\n",
              "      <td>0</td>\n",
              "      <td>0</td>\n",
              "      <td>1</td>\n",
              "    </tr>\n",
              "  </tbody>\n",
              "</table>\n",
              "<p>5 rows × 22 columns</p>\n",
              "</div>\n",
              "      <button class=\"colab-df-convert\" onclick=\"convertToInteractive('df-cc2509c9-954f-4c68-a8fb-e49629d60fcd')\"\n",
              "              title=\"Convert this dataframe to an interactive table.\"\n",
              "              style=\"display:none;\">\n",
              "        \n",
              "  <svg xmlns=\"http://www.w3.org/2000/svg\" height=\"24px\"viewBox=\"0 0 24 24\"\n",
              "       width=\"24px\">\n",
              "    <path d=\"M0 0h24v24H0V0z\" fill=\"none\"/>\n",
              "    <path d=\"M18.56 5.44l.94 2.06.94-2.06 2.06-.94-2.06-.94-.94-2.06-.94 2.06-2.06.94zm-11 1L8.5 8.5l.94-2.06 2.06-.94-2.06-.94L8.5 2.5l-.94 2.06-2.06.94zm10 10l.94 2.06.94-2.06 2.06-.94-2.06-.94-.94-2.06-.94 2.06-2.06.94z\"/><path d=\"M17.41 7.96l-1.37-1.37c-.4-.4-.92-.59-1.43-.59-.52 0-1.04.2-1.43.59L10.3 9.45l-7.72 7.72c-.78.78-.78 2.05 0 2.83L4 21.41c.39.39.9.59 1.41.59.51 0 1.02-.2 1.41-.59l7.78-7.78 2.81-2.81c.8-.78.8-2.07 0-2.86zM5.41 20L4 18.59l7.72-7.72 1.47 1.35L5.41 20z\"/>\n",
              "  </svg>\n",
              "      </button>\n",
              "      \n",
              "  <style>\n",
              "    .colab-df-container {\n",
              "      display:flex;\n",
              "      flex-wrap:wrap;\n",
              "      gap: 12px;\n",
              "    }\n",
              "\n",
              "    .colab-df-convert {\n",
              "      background-color: #E8F0FE;\n",
              "      border: none;\n",
              "      border-radius: 50%;\n",
              "      cursor: pointer;\n",
              "      display: none;\n",
              "      fill: #1967D2;\n",
              "      height: 32px;\n",
              "      padding: 0 0 0 0;\n",
              "      width: 32px;\n",
              "    }\n",
              "\n",
              "    .colab-df-convert:hover {\n",
              "      background-color: #E2EBFA;\n",
              "      box-shadow: 0px 1px 2px rgba(60, 64, 67, 0.3), 0px 1px 3px 1px rgba(60, 64, 67, 0.15);\n",
              "      fill: #174EA6;\n",
              "    }\n",
              "\n",
              "    [theme=dark] .colab-df-convert {\n",
              "      background-color: #3B4455;\n",
              "      fill: #D2E3FC;\n",
              "    }\n",
              "\n",
              "    [theme=dark] .colab-df-convert:hover {\n",
              "      background-color: #434B5C;\n",
              "      box-shadow: 0px 1px 3px 1px rgba(0, 0, 0, 0.15);\n",
              "      filter: drop-shadow(0px 1px 2px rgba(0, 0, 0, 0.3));\n",
              "      fill: #FFFFFF;\n",
              "    }\n",
              "  </style>\n",
              "\n",
              "      <script>\n",
              "        const buttonEl =\n",
              "          document.querySelector('#df-cc2509c9-954f-4c68-a8fb-e49629d60fcd button.colab-df-convert');\n",
              "        buttonEl.style.display =\n",
              "          google.colab.kernel.accessAllowed ? 'block' : 'none';\n",
              "\n",
              "        async function convertToInteractive(key) {\n",
              "          const element = document.querySelector('#df-cc2509c9-954f-4c68-a8fb-e49629d60fcd');\n",
              "          const dataTable =\n",
              "            await google.colab.kernel.invokeFunction('convertToInteractive',\n",
              "                                                     [key], {});\n",
              "          if (!dataTable) return;\n",
              "\n",
              "          const docLinkHtml = 'Like what you see? Visit the ' +\n",
              "            '<a target=\"_blank\" href=https://colab.research.google.com/notebooks/data_table.ipynb>data table notebook</a>'\n",
              "            + ' to learn more about interactive tables.';\n",
              "          element.innerHTML = '';\n",
              "          dataTable['output_type'] = 'display_data';\n",
              "          await google.colab.output.renderOutput(dataTable, element);\n",
              "          const docLink = document.createElement('div');\n",
              "          docLink.innerHTML = docLinkHtml;\n",
              "          element.appendChild(docLink);\n",
              "        }\n",
              "      </script>\n",
              "    </div>\n",
              "  </div>\n",
              "  "
            ]
          },
          "metadata": {},
          "execution_count": 32
        }
      ]
    },
    {
      "cell_type": "markdown",
      "source": [
        "train a svm model and measuring its performance by cross validation"
      ],
      "metadata": {
        "id": "DbZbBdkXtH0v"
      }
    },
    {
      "cell_type": "code",
      "source": [
        "from sklearn.svm import SVC\n",
        "from sklearn.model_selection import cross_validate\n",
        "\n",
        "svm = SVC()\n",
        "cv_result = cross_validate(svm,data,target,cv=5,n_jobs=-1)"
      ],
      "metadata": {
        "id": "LSgClTmZunxq"
      },
      "execution_count": null,
      "outputs": []
    },
    {
      "cell_type": "code",
      "source": [
        "mean_acc = cv_result['test_score'].mean()\n",
        "print(f'Mean accuracy of model: {mean_acc:.3f} ')"
      ],
      "metadata": {
        "colab": {
          "base_uri": "https://localhost:8080/"
        },
        "id": "ZI-ah65fy7Qs",
        "outputId": "35241dfd-b37d-491e-eaf5-1ae80380471c"
      },
      "execution_count": null,
      "outputs": [
        {
          "output_type": "stream",
          "name": "stdout",
          "text": [
            "Mean accuracy of model: 0.929 \n"
          ]
        }
      ]
    },
    {
      "cell_type": "markdown",
      "source": [
        "## Transformation"
      ],
      "metadata": {
        "id": "923zTAOh05fY"
      }
    },
    {
      "cell_type": "code",
      "source": [
        "_ = dataset[['battery_power','clock_speed','fc','int_memory','m_dep','mobile_wt','n_cores','pc','px_height',\n",
        "            'px_width','ram','sc_h','sc_w','talk_time',]].hist(figsize=(10,10),bins=20)\n"
      ],
      "metadata": {
        "colab": {
          "base_uri": "https://localhost:8080/",
          "height": 607
        },
        "id": "4ko68NhWzBP4",
        "outputId": "bfe49a3b-5e28-4156-97ac-eef788ee7846"
      },
      "execution_count": null,
      "outputs": [
        {
          "output_type": "display_data",
          "data": {
            "text/plain": [
              "<Figure size 720x720 with 16 Axes>"
            ],
            "image/png": "[encoded data removed]"
          },
          "metadata": {
            "needs_background": "light"
          }
        }
      ]
    },
    {
      "cell_type": "code",
      "source": [
        "from sklearn.preprocessing import StandardScaler,QuantileTransformer\n",
        "from sklearn.preprocessing import PowerTransformer\n",
        "np.seterr(divide = 'ignore')\n",
        "\n",
        "data = dataset.drop('new_price',axis=1)\n",
        "target = dataset['new_price']\n",
        "\n",
        "transformed_data = data.copy()\n",
        "transformed_data['fc'] = np.log(transformed_data['fc']+1)\n",
        "transformed_data['clock_speed'] = QuantileTransformer().fit_transform(transformed_data[['clock_speed']])"
      ],
      "metadata": {
        "id": "P2_9bLPf1EON"
      },
      "execution_count": null,
      "outputs": []
    },
    {
      "cell_type": "code",
      "source": [
        "transformed_data['px_height'] = QuantileTransformer().fit_transform(transformed_data[['px_height']])\n",
        "transformed_data['sc_w'] = QuantileTransformer().fit_transform(transformed_data[['sc_w']])"
      ],
      "metadata": {
        "id": "zwWETUw9Ilku"
      },
      "execution_count": null,
      "outputs": []
    },
    {
      "cell_type": "code",
      "source": [
        "transformed_data['px_height'].hist()"
      ],
      "metadata": {
        "colab": {
          "base_uri": "https://localhost:8080/",
          "height": 282
        },
        "id": "qTFnb2rhI0JW",
        "outputId": "208a2322-4b1c-4c06-c8e7-ac4818e0d55b"
      },
      "execution_count": null,
      "outputs": [
        {
          "output_type": "execute_result",
          "data": {
            "text/plain": [
              "<matplotlib.axes._subplots.AxesSubplot at 0x7ff7311c4d50>"
            ]
          },
          "metadata": {},
          "execution_count": 38
        },
        {
          "output_type": "display_data",
          "data": {
            "text/plain": [
              "<Figure size 432x288 with 1 Axes>"
            ],
            "image/png": "[encoded data removed]"
          },
          "metadata": {
            "needs_background": "light"
          }
        }
      ]
    },
    {
      "cell_type": "code",
      "source": [
        "transformed_data['sc_w'].hist()"
      ],
      "metadata": {
        "colab": {
          "base_uri": "https://localhost:8080/",
          "height": 285
        },
        "id": "Cze8a3TPJAhc",
        "outputId": "d3e4cebf-05d4-4a71-fa6a-d07de7d0914f"
      },
      "execution_count": null,
      "outputs": [
        {
          "output_type": "execute_result",
          "data": {
            "text/plain": [
              "<matplotlib.axes._subplots.AxesSubplot at 0x7ff731146810>"
            ]
          },
          "metadata": {},
          "execution_count": 39
        },
        {
          "output_type": "display_data",
          "data": {
            "text/plain": [
              "<Figure size 432x288 with 1 Axes>"
            ],
            "image/png": "[encoded data removed]"
          },
          "metadata": {
            "needs_background": "light"
          }
        }
      ]
    },
    {
      "cell_type": "code",
      "source": [
        "transformed_data['fc'].hist()"
      ],
      "metadata": {
        "colab": {
          "base_uri": "https://localhost:8080/",
          "height": 282
        },
        "id": "uANhFyqDD7xw",
        "outputId": "77cfa1ee-3510-4349-e8f3-e665e3176a67"
      },
      "execution_count": null,
      "outputs": [
        {
          "output_type": "execute_result",
          "data": {
            "text/plain": [
              "<matplotlib.axes._subplots.AxesSubplot at 0x7ff7310e7a90>"
            ]
          },
          "metadata": {},
          "execution_count": 40
        },
        {
          "output_type": "display_data",
          "data": {
            "text/plain": [
              "<Figure size 432x288 with 1 Axes>"
            ],
            "image/png": "[encoded data removed]"
          },
          "metadata": {
            "needs_background": "light"
          }
        }
      ]
    },
    {
      "cell_type": "code",
      "source": [
        "transformed_data['clock_speed'].hist()"
      ],
      "metadata": {
        "colab": {
          "base_uri": "https://localhost:8080/",
          "height": 282
        },
        "id": "ERQVR-WnAZ8W",
        "outputId": "88bfcfb2-3acb-4b45-b7d9-21f41190b3cb"
      },
      "execution_count": null,
      "outputs": [
        {
          "output_type": "execute_result",
          "data": {
            "text/plain": [
              "<matplotlib.axes._subplots.AxesSubplot at 0x7ff7310758d0>"
            ]
          },
          "metadata": {},
          "execution_count": 41
        },
        {
          "output_type": "display_data",
          "data": {
            "text/plain": [
              "<Figure size 432x288 with 1 Axes>"
            ],
            "image/png": "[encoded data removed]"
          },
          "metadata": {
            "needs_background": "light"
          }
        }
      ]
    },
    {
      "cell_type": "code",
      "source": [
        "_ = transformed_data[['battery_power','clock_speed','fc','int_memory','m_dep','mobile_wt','n_cores','pc','px_height',\n",
        "            'px_width','ram','sc_h','sc_w','talk_time',]].hist(figsize=(10,10),bins=20)\n",
        "plt.savefig('new_dist.jpg')"
      ],
      "metadata": {
        "colab": {
          "base_uri": "https://localhost:8080/",
          "height": 607
        },
        "id": "1jiHEhPsCVle",
        "outputId": "d399f216-c935-4cd0-c0ca-e726af00dfb1"
      },
      "execution_count": null,
      "outputs": [
        {
          "output_type": "display_data",
          "data": {
            "text/plain": [
              "<Figure size 720x720 with 16 Axes>"
            ],
            "image/png": "[encoded data removed]"
          },
          "metadata": {
            "needs_background": "light"
          }
        }
      ]
    },
    {
      "cell_type": "code",
      "source": [
        "from sklearn.compose import make_column_transformer\n",
        "\n",
        "transformer = make_column_transformer((QuantileTransformer(),['clock_speed','px_height','sc_w']),remainder='passthrough')\n",
        "svm = make_pipeline(transformer,SVC())\n",
        "\n",
        "data = dataset.drop('new_price',axis=1)\n",
        "target = dataset['new_price']\n",
        "\n",
        "transformed_data = data.copy()\n",
        "transformed_data['fc'] = np.log(transformed_data['fc']+1)\n",
        "\n",
        "cv_result = cross_validate(svm,transformed_data,target,cv=5,n_jobs=-1)\n",
        "mean_acc = cv_result['test_score'].mean()\n",
        "print(f'Mean accuracy of model: {mean_acc:.3f} ')"
      ],
      "metadata": {
        "colab": {
          "base_uri": "https://localhost:8080/"
        },
        "id": "TW0aCtSPA2k8",
        "outputId": "4ec06fbf-202d-4338-8ee6-1ef25c8433ec"
      },
      "execution_count": null,
      "outputs": [
        {
          "output_type": "stream",
          "name": "stdout",
          "text": [
            "Mean accuracy of model: 0.965 \n"
          ]
        }
      ]
    },
    {
      "cell_type": "markdown",
      "source": [
        "## New Feature"
      ],
      "metadata": {
        "id": "QcwKnG_mIQdv"
      }
    },
    {
      "cell_type": "code",
      "source": [
        "data = dataset.drop('new_price',axis=1)\n",
        "target = dataset['new_price']\n",
        "data['area'] = data['sc_h'] * data['sc_w']"
      ],
      "metadata": {
        "id": "H1EQt0-9DYWS"
      },
      "execution_count": null,
      "outputs": []
    },
    {
      "cell_type": "code",
      "source": [
        "svm = SVC()\n",
        "cv_result = cross_validate(svm,data,target,cv=5,n_jobs=-1)"
      ],
      "metadata": {
        "id": "K3JeoaM_IpYP"
      },
      "execution_count": null,
      "outputs": []
    },
    {
      "cell_type": "code",
      "source": [
        "mean_acc = cv_result['test_score'].mean()\n",
        "print(f'Mean accuracy of model: {mean_acc:.3f} ')"
      ],
      "metadata": {
        "colab": {
          "base_uri": "https://localhost:8080/"
        },
        "id": "6RKbEDe4JB42",
        "outputId": "9449d823-b8ec-42b1-8824-0777c465d0a1"
      },
      "execution_count": null,
      "outputs": [
        {
          "output_type": "stream",
          "name": "stdout",
          "text": [
            "Mean accuracy of model: 0.982 \n"
          ]
        }
      ]
    },
    {
      "cell_type": "markdown",
      "source": [
        "## All Feature Engineering Steps"
      ],
      "metadata": {
        "id": "rNgbJh0mKMiI"
      }
    },
    {
      "cell_type": "code",
      "source": [
        "data = dataset.drop('new_price',axis=1)\n",
        "target = dataset['new_price']\n",
        "\n",
        "data['area'] = data['sc_h'] * data['sc_w']\n",
        "\n",
        "labels = ['low','mid','high']\n",
        "bins = np.linspace(min,max,4)\n",
        "data['battery_power'] = pd.cut(data['battery_power'],bins=bins,labels=labels,include_lowest=True)\n",
        "\n",
        "onehot = pd.get_dummies(data['battery_power'],prefix = 'battery_power')\n",
        "data = pd.concat([data,onehot],axis=1)\n",
        "data.drop('battery_power',axis=1,inplace=True)\n",
        "\n",
        "data['fc'] = np.log(data['fc']+1)\n",
        "data['area'] = np.log(data['area']+1)\n",
        "# data['clock_speed'] = QuantileTransformer().fit_transform(data[['clock_speed']])\n",
        "# data['px_height'] = QuantileTransformer().fit_transform(data[['px_height']])\n",
        "# data['sc_w'] = QuantileTransformer().fit_transform(data[['sc_w']])\n"
      ],
      "metadata": {
        "id": "uZp7HHAfJFFk"
      },
      "execution_count": null,
      "outputs": []
    },
    {
      "cell_type": "code",
      "source": [
        "transformer = make_column_transformer((QuantileTransformer(),['clock_speed','px_height','sc_w']),remainder='passthrough')\n",
        "svm = make_pipeline(transformer,SVC())\n",
        "cv_result = cross_validate(svm,data,target,cv=5,n_jobs=-1)\n",
        "mean_acc = cv_result['test_score'].mean()\n",
        "print(f'Mean accuracy of model: {mean_acc:.3f} ')"
      ],
      "metadata": {
        "colab": {
          "base_uri": "https://localhost:8080/"
        },
        "id": "G9H0mEyHLJmk",
        "outputId": "542bd002-e858-4f75-c63a-2fee2e790ca6"
      },
      "execution_count": null,
      "outputs": [
        {
          "output_type": "stream",
          "name": "stdout",
          "text": [
            "Mean accuracy of model: 0.921 \n"
          ]
        }
      ]
    },
    {
      "cell_type": "markdown",
      "source": [
        "#EXTRA\n"
      ],
      "metadata": {
        "id": "mH4dqF79ud_A"
      }
    },
    {
      "cell_type": "markdown",
      "source": [
        "Backward Selection "
      ],
      "metadata": {
        "id": "x42MrOKfxDWv"
      }
    },
    {
      "cell_type": "code",
      "source": [
        "def backward_selection(data_train,target_train,data_val,target_val,n_features):\n",
        "  \"\"\"\n",
        "  Backward feature selection\n",
        "  At each step is removed a feature from features list and it is added to removed_feature\n",
        "  and computing corresponding auc score with features are remaining so far and it is added to features_scores \n",
        "\n",
        "  Parameters\n",
        "  ----------\n",
        "  data_train : pd.DataFrame\n",
        "               train dataset\n",
        "  target_train : pd.Series\n",
        "                 target of train dataset\n",
        "  data_val : pd.DataFrame\n",
        "             validation dataset\n",
        "  target_val : pd.Series\n",
        "               target of validation dataset\n",
        "  n_features : int\n",
        "               number of features we want to select\n",
        "  Returns\n",
        "  -------\n",
        "  removed_features : list\n",
        "                     list of removed features, in order of removing\n",
        "  features_scores : list\n",
        "                    list of auc scores corresponding to model with remaining features\n",
        "  \"\"\"\n",
        "  features = list(data_train.columns)\n",
        "  all_features_model = make_pipeline(StandardScaler(),LogisticRegression(max_iter=10000)).fit(data_train,target_train)\n",
        "  features_scores = [evaluate_model(all_features_model,data_val,target_val)]\n",
        "  removed_features = [' ',]\n",
        "  for _ in range(n_features):\n",
        "    scores = []\n",
        "    # model = make_pipeline(StandardScaler(),LogisticRegression(max_iter=10000))\n",
        "    for feature in data_train.columns:\n",
        "      if feature in features:\n",
        "        copy_features = features.copy()\n",
        "        copy_features.remove(feature)\n",
        "        if len(copy_features) == 0:\n",
        "          break\n",
        "        \n",
        "        model = make_pipeline(StandardScaler(),LogisticRegression(max_iter=10000))\n",
        "        model.fit(data_train[copy_features],target_train)\n",
        "        scores.append((feature,evaluate_model(model,data_val[copy_features],target_val)))\n",
        "    \n",
        "    scores.sort(key=lambda x:x[1],reverse =True)\n",
        "    # print(scores)\n",
        "    if len(copy_features) == 0:\n",
        "      break\n",
        "    features.remove(scores[0][0])\n",
        "    removed_features.append(scores[0][0])\n",
        "    features_scores.append(scores[0][1])\n",
        "    # print(removed_features)\n",
        "  removed_features.extend(features)\n",
        "  return removed_features,features_scores"
      ],
      "metadata": {
        "id": "ZCVE9kU2L4nA"
      },
      "execution_count": null,
      "outputs": []
    },
    {
      "cell_type": "code",
      "source": [
        "data = dataset.drop('new_price',axis=1)\n",
        "target = dataset['new_price']\n",
        "data_train, data_test, target_train, target_test = train_test_split(data,target,test_size=0.2,random_state=42)\n",
        "data_train, data_val, target_train, target_val = train_test_split(data_train,target_train,test_size=0.25,random_state=42)\n",
        "removed_features,scores = backward_selection(data_train,target_train,data_val,target_val,20)"
      ],
      "metadata": {
        "id": "9tfqDNmOzU44"
      },
      "execution_count": null,
      "outputs": []
    },
    {
      "cell_type": "code",
      "source": [
        "scores"
      ],
      "metadata": {
        "colab": {
          "base_uri": "https://localhost:8080/"
        },
        "id": "2BJ-GCFSzq5v",
        "outputId": "a2629e6a-b5eb-464d-ba12-4e93af49e766"
      },
      "execution_count": null,
      "outputs": [
        {
          "output_type": "execute_result",
          "data": {
            "text/plain": [
              "[0.9985653900345843,\n",
              " 0.9993595491225823,\n",
              " 0.9995901114384527,\n",
              " 0.9996925835788395,\n",
              " 0.9996925835788395,\n",
              " 0.9996925835788395,\n",
              " 0.9996925835788395,\n",
              " 0.9997950557192263,\n",
              " 0.9997950557192263,\n",
              " 0.9997694376841296,\n",
              " 0.9997438196490329,\n",
              " 0.9997694376841296,\n",
              " 0.9997182016139362,\n",
              " 0.9997182016139362,\n",
              " 0.9996157294735495,\n",
              " 0.9995644934033561,\n",
              " 0.9995132573331625,\n",
              " 0.9973101063148456,\n",
              " 0.9908031254002818,\n",
              " 0.9808633277827591]"
            ]
          },
          "metadata": {},
          "execution_count": 51
        }
      ]
    },
    {
      "cell_type": "code",
      "source": [
        "best_features = removed_features[-4:]\n",
        "best_features"
      ],
      "metadata": {
        "colab": {
          "base_uri": "https://localhost:8080/"
        },
        "id": "GmBEXyI84g9A",
        "outputId": "f0d9a862-ff93-4c04-bebc-a353d284cb4a"
      },
      "execution_count": null,
      "outputs": [
        {
          "output_type": "execute_result",
          "data": {
            "text/plain": [
              "['px_height', 'px_width', 'battery_power', 'ram']"
            ]
          },
          "metadata": {},
          "execution_count": 52
        }
      ]
    },
    {
      "cell_type": "code",
      "source": [
        "logistic_reg = make_pipeline(StandardScaler(),LogisticRegression())\n",
        "logistic_reg.fit(data_train[best_features],target_train)\n",
        "acc_backward = logistic_reg.score(data_test[best_features],target_test)\n",
        "print('accuracy of model:',acc_backward)"
      ],
      "metadata": {
        "colab": {
          "base_uri": "https://localhost:8080/"
        },
        "id": "YCbCBSxcGHSj",
        "outputId": "e6b32125-1c2f-4278-c10f-233fa5a5e9a0"
      },
      "execution_count": null,
      "outputs": [
        {
          "output_type": "stream",
          "name": "stdout",
          "text": [
            "accuracy of model: 0.9848484848484849\n"
          ]
        }
      ]
    },
    {
      "cell_type": "code",
      "source": [
        "predicted_backward = logistic_reg.predict(data_test[best_features])\n",
        "cr = classification_report(target_test,predicted_backward,target_names=['high','low'])\n",
        "print(cr)"
      ],
      "metadata": {
        "id": "69LI5b-FG03V",
        "colab": {
          "base_uri": "https://localhost:8080/"
        },
        "outputId": "76adfbee-e625-40a9-c4e9-fca3e7169dc8"
      },
      "execution_count": null,
      "outputs": [
        {
          "output_type": "stream",
          "name": "stdout",
          "text": [
            "              precision    recall  f1-score   support\n",
            "\n",
            "        high       0.99      0.97      0.98       192\n",
            "         low       0.98      1.00      0.99       204\n",
            "\n",
            "    accuracy                           0.98       396\n",
            "   macro avg       0.99      0.98      0.98       396\n",
            "weighted avg       0.99      0.98      0.98       396\n",
            "\n"
          ]
        }
      ]
    },
    {
      "cell_type": "code",
      "source": [
        ""
      ],
      "metadata": {
        "id": "_4EAad_niJkF"
      },
      "execution_count": null,
      "outputs": []
    }
  ]
}