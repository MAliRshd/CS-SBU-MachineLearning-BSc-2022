{
  "cells": [
    {
      "cell_type": "code",
      "execution_count": 188,
      "metadata": {
        "id": "UwERto9pacqq"
      },
      "outputs": [],
      "source": [
        "!pip install -q kaggle"
      ]
    },
    {
      "cell_type": "code",
      "execution_count": 189,
      "metadata": {
        "id": "mmT5kRbgUNvF",
        "colab": {
          "base_uri": "https://localhost:8080/"
        },
        "outputId": "8395ba15-f8dd-4c61-f023-6110c826f083"
      },
      "outputs": [
        {
          "output_type": "stream",
          "name": "stdout",
          "text": [
            "mkdir: cannot create directory ‘/root/.kaggle’: File exists\n"
          ]
        }
      ],
      "source": [
        "!mkdir ~/.kaggle\n",
        "!cp kaggle.json ~/.kaggle/\n",
        "!chmod 600 ~/.kaggle/kaggle.json"
      ]
    },
    {
      "cell_type": "code",
      "execution_count": 190,
      "metadata": {
        "id": "ZRb4lcQHUNvG",
        "colab": {
          "base_uri": "https://localhost:8080/"
        },
        "outputId": "6f0d392f-804a-4546-9410-deefe36014fc"
      },
      "outputs": [
        {
          "output_type": "stream",
          "name": "stdout",
          "text": [
            "apartment-rental-offers-in-germany.zip: Skipping, found more recently modified local copy (use --force to force download)\n"
          ]
        }
      ],
      "source": [
        "! kaggle datasets download -d corrieaar/apartment-rental-offers-in-germany"
      ]
    },
    {
      "cell_type": "code",
      "execution_count": 191,
      "metadata": {
        "colab": {
          "base_uri": "https://localhost:8080/"
        },
        "id": "S6w9_1AnUNvG",
        "outputId": "11c0a24d-8e44-4f6a-87ee-1269e3c76d69"
      },
      "outputs": [
        {
          "output_type": "stream",
          "name": "stdout",
          "text": [
            "Archive:  /content/apartment-rental-offers-in-germany.zip\n",
            "replace /content/immo_data.csv? [y]es, [n]o, [A]ll, [N]one, [r]ename: yes\n",
            "  inflating: /content/immo_data.csv  \n"
          ]
        }
      ],
      "source": [
        "!unzip '/content/apartment-rental-offers-in-germany.zip' -d '/content/'"
      ]
    },
    {
      "cell_type": "code",
      "execution_count": 192,
      "metadata": {
        "id": "UHb98rf1exEi",
        "colab": {
          "base_uri": "https://localhost:8080/",
          "height": 834
        },
        "outputId": "18890226-0141-45fb-d08b-702057846a4a"
      },
      "outputs": [
        {
          "output_type": "execute_result",
          "data": {
            "text/plain": [
              "                     regio1  serviceCharge                     heatingType  \\\n",
              "0       Nordrhein_Westfalen         245.00                 central_heating   \n",
              "1           Rheinland_Pfalz         134.00  self_contained_central_heating   \n",
              "2                   Sachsen         255.00                   floor_heating   \n",
              "3                   Sachsen          58.15                district_heating   \n",
              "4                    Bremen         138.00  self_contained_central_heating   \n",
              "...                     ...            ...                             ...   \n",
              "268845               Bayern          90.00                       heat_pump   \n",
              "268846               Hessen         220.00                     gas_heating   \n",
              "268847               Hessen         220.00                 central_heating   \n",
              "268848  Nordrhein_Westfalen         175.00                       heat_pump   \n",
              "268849               Hessen         315.00                 central_heating   \n",
              "\n",
              "       telekomTvOffer  telekomHybridUploadSpeed  newlyConst  balcony  \\\n",
              "0       ONE_YEAR_FREE                       NaN       False    False   \n",
              "1       ONE_YEAR_FREE                       NaN       False     True   \n",
              "2       ONE_YEAR_FREE                      10.0        True     True   \n",
              "3       ONE_YEAR_FREE                       NaN       False     True   \n",
              "4                 NaN                       NaN       False     True   \n",
              "...               ...                       ...         ...      ...   \n",
              "268845  ONE_YEAR_FREE                       NaN       False     True   \n",
              "268846            NaN                       NaN       False     True   \n",
              "268847  ONE_YEAR_FREE                       NaN       False     True   \n",
              "268848            NaN                       NaN        True     True   \n",
              "268849            NaN                       NaN       False     True   \n",
              "\n",
              "        picturecount  pricetrend  telekomUploadSpeed  ...  \\\n",
              "0                  6        4.62                10.0  ...   \n",
              "1                  8        3.47                10.0  ...   \n",
              "2                  8        2.72                 2.4  ...   \n",
              "3                  9        1.53                40.0  ...   \n",
              "4                 19        2.46                 NaN  ...   \n",
              "...              ...         ...                 ...  ...   \n",
              "268845             0        2.74                10.0  ...   \n",
              "268846            12        6.49                 NaN  ...   \n",
              "268847            21        2.90                40.0  ...   \n",
              "268848            16        4.39                 NaN  ...   \n",
              "268849             9        5.00                 NaN  ...   \n",
              "\n",
              "                         regio2                      regio3  \\\n",
              "0                      Dortmund                     Schüren   \n",
              "1             Rhein_Pfalz_Kreis              Böhl_Iggelheim   \n",
              "2                       Dresden  Äußere_Neustadt_Antonstadt   \n",
              "3           Mittelsachsen_Kreis                    Freiberg   \n",
              "4                        Bremen           Neu_Schwachhausen   \n",
              "...                         ...                         ...   \n",
              "268845  Weilheim_Schongau_Kreis                    Eberfing   \n",
              "268846         Bergstraße_Kreis                   Viernheim   \n",
              "268847   Limburg_Weilburg_Kreis         Limburg_an_der_Lahn   \n",
              "268848                     Köln                   Dellbrück   \n",
              "268849        Frankfurt_am_Main                  Sossenheim   \n",
              "\n",
              "                                              description  \\\n",
              "0       Die ebenerdig zu erreichende Erdgeschosswohnun...   \n",
              "1       Alles neu macht der Mai – so kann es auch für ...   \n",
              "2       Der Neubau entsteht im Herzen der Dresdner Neu...   \n",
              "3       Abseits von Lärm und Abgasen in Ihre neue Wohn...   \n",
              "4       Es handelt sich hier um ein saniertes Mehrfami...   \n",
              "...                                                   ...   \n",
              "268845  Diese schöne, neuwertige Wohnung im Dachgescho...   \n",
              "268846  Hier wird eine Wohnung im 2 Familienhaus angeb...   \n",
              "268847  gemütliche 4-Zimmer-Wohnung im Obergeschoss ei...   \n",
              "268848  Neubau Erstbezug, gehobener Standard, alle Ein...   \n",
              "268849  Schöne, helle, gut geschnittene und teilmöblie...   \n",
              "\n",
              "                                               facilities heatingCosts  \\\n",
              "0       Die Wohnung ist mit Laminat ausgelegt. Das Bad...          NaN   \n",
              "1                                                     NaN          NaN   \n",
              "2       * 9 m² Balkon\\n* Bad mit bodengleicher Dusche,...          NaN   \n",
              "3                                                     NaN        87.23   \n",
              "4       Diese Wohnung wurde neu saniert und ist wie fo...          NaN   \n",
              "...                                                   ...          ...   \n",
              "268845         Fliesen und Parkett. Sichtbarer Dachstuhl.          NaN   \n",
              "268846  Parkett, Kamin, Badewanne&Dusche\\nGroßer Balko...          NaN   \n",
              "268847  Böden: Wohn-/Schlafbereich = Laminat, Küche + ...          NaN   \n",
              "268848  Wände:\\nMaler­vlies, weiß gestrichen alter­nat...        40.00   \n",
              "268849  Balkon, Keller, Fahrstuhl, Vollbad, Einbauküch...          NaN   \n",
              "\n",
              "        energyEfficiencyClass lastRefurbish  electricityBasePrice  \\\n",
              "0                         NaN           NaN                   NaN   \n",
              "1                         NaN        2019.0                   NaN   \n",
              "2                         NaN           NaN                   NaN   \n",
              "3                         NaN           NaN                   NaN   \n",
              "4                         NaN           NaN                   NaN   \n",
              "...                       ...           ...                   ...   \n",
              "268845                    NaN           NaN                   NaN   \n",
              "268846                    NaN        2015.0                   NaN   \n",
              "268847                    NaN        2019.0                   NaN   \n",
              "268848         NO_INFORMATION        2019.0                   NaN   \n",
              "268849                    NaN           NaN                   NaN   \n",
              "\n",
              "        electricityKwhPrice   date  \n",
              "0                       NaN  May19  \n",
              "1                       NaN  May19  \n",
              "2                       NaN  Oct19  \n",
              "3                       NaN  May19  \n",
              "4                       NaN  Feb20  \n",
              "...                     ...    ...  \n",
              "268845                  NaN  Feb20  \n",
              "268846                  NaN  May19  \n",
              "268847                  NaN  Feb20  \n",
              "268848                  NaN  May19  \n",
              "268849                  NaN  Feb20  \n",
              "\n",
              "[268850 rows x 49 columns]"
            ],
            "text/html": [
              "\n",
              "  <div id=\"df-81a4b72a-2c1e-47c9-9884-58a10d0d593b\">\n",
              "    <div class=\"colab-df-container\">\n",
              "      <div>\n",
              "<style scoped>\n",
              "    .dataframe tbody tr th:only-of-type {\n",
              "        vertical-align: middle;\n",
              "    }\n",
              "\n",
              "    .dataframe tbody tr th {\n",
              "        vertical-align: top;\n",
              "    }\n",
              "\n",
              "    .dataframe thead th {\n",
              "        text-align: right;\n",
              "    }\n",
              "</style>\n",
              "<table border=\"1\" class=\"dataframe\">\n",
              "  <thead>\n",
              "    <tr style=\"text-align: right;\">\n",
              "      <th></th>\n",
              "      <th>regio1</th>\n",
              "      <th>serviceCharge</th>\n",
              "      <th>heatingType</th>\n",
              "      <th>telekomTvOffer</th>\n",
              "      <th>telekomHybridUploadSpeed</th>\n",
              "      <th>newlyConst</th>\n",
              "      <th>balcony</th>\n",
              "      <th>picturecount</th>\n",
              "      <th>pricetrend</th>\n",
              "      <th>telekomUploadSpeed</th>\n",
              "      <th>...</th>\n",
              "      <th>regio2</th>\n",
              "      <th>regio3</th>\n",
              "      <th>description</th>\n",
              "      <th>facilities</th>\n",
              "      <th>heatingCosts</th>\n",
              "      <th>energyEfficiencyClass</th>\n",
              "      <th>lastRefurbish</th>\n",
              "      <th>electricityBasePrice</th>\n",
              "      <th>electricityKwhPrice</th>\n",
              "      <th>date</th>\n",
              "    </tr>\n",
              "  </thead>\n",
              "  <tbody>\n",
              "    <tr>\n",
              "      <th>0</th>\n",
              "      <td>Nordrhein_Westfalen</td>\n",
              "      <td>245.00</td>\n",
              "      <td>central_heating</td>\n",
              "      <td>ONE_YEAR_FREE</td>\n",
              "      <td>NaN</td>\n",
              "      <td>False</td>\n",
              "      <td>False</td>\n",
              "      <td>6</td>\n",
              "      <td>4.62</td>\n",
              "      <td>10.0</td>\n",
              "      <td>...</td>\n",
              "      <td>Dortmund</td>\n",
              "      <td>Schüren</td>\n",
              "      <td>Die ebenerdig zu erreichende Erdgeschosswohnun...</td>\n",
              "      <td>Die Wohnung ist mit Laminat ausgelegt. Das Bad...</td>\n",
              "      <td>NaN</td>\n",
              "      <td>NaN</td>\n",
              "      <td>NaN</td>\n",
              "      <td>NaN</td>\n",
              "      <td>NaN</td>\n",
              "      <td>May19</td>\n",
              "    </tr>\n",
              "    <tr>\n",
              "      <th>1</th>\n",
              "      <td>Rheinland_Pfalz</td>\n",
              "      <td>134.00</td>\n",
              "      <td>self_contained_central_heating</td>\n",
              "      <td>ONE_YEAR_FREE</td>\n",
              "      <td>NaN</td>\n",
              "      <td>False</td>\n",
              "      <td>True</td>\n",
              "      <td>8</td>\n",
              "      <td>3.47</td>\n",
              "      <td>10.0</td>\n",
              "      <td>...</td>\n",
              "      <td>Rhein_Pfalz_Kreis</td>\n",
              "      <td>Böhl_Iggelheim</td>\n",
              "      <td>Alles neu macht der Mai – so kann es auch für ...</td>\n",
              "      <td>NaN</td>\n",
              "      <td>NaN</td>\n",
              "      <td>NaN</td>\n",
              "      <td>2019.0</td>\n",
              "      <td>NaN</td>\n",
              "      <td>NaN</td>\n",
              "      <td>May19</td>\n",
              "    </tr>\n",
              "    <tr>\n",
              "      <th>2</th>\n",
              "      <td>Sachsen</td>\n",
              "      <td>255.00</td>\n",
              "      <td>floor_heating</td>\n",
              "      <td>ONE_YEAR_FREE</td>\n",
              "      <td>10.0</td>\n",
              "      <td>True</td>\n",
              "      <td>True</td>\n",
              "      <td>8</td>\n",
              "      <td>2.72</td>\n",
              "      <td>2.4</td>\n",
              "      <td>...</td>\n",
              "      <td>Dresden</td>\n",
              "      <td>Äußere_Neustadt_Antonstadt</td>\n",
              "      <td>Der Neubau entsteht im Herzen der Dresdner Neu...</td>\n",
              "      <td>* 9 m² Balkon\\n* Bad mit bodengleicher Dusche,...</td>\n",
              "      <td>NaN</td>\n",
              "      <td>NaN</td>\n",
              "      <td>NaN</td>\n",
              "      <td>NaN</td>\n",
              "      <td>NaN</td>\n",
              "      <td>Oct19</td>\n",
              "    </tr>\n",
              "    <tr>\n",
              "      <th>3</th>\n",
              "      <td>Sachsen</td>\n",
              "      <td>58.15</td>\n",
              "      <td>district_heating</td>\n",
              "      <td>ONE_YEAR_FREE</td>\n",
              "      <td>NaN</td>\n",
              "      <td>False</td>\n",
              "      <td>True</td>\n",
              "      <td>9</td>\n",
              "      <td>1.53</td>\n",
              "      <td>40.0</td>\n",
              "      <td>...</td>\n",
              "      <td>Mittelsachsen_Kreis</td>\n",
              "      <td>Freiberg</td>\n",
              "      <td>Abseits von Lärm und Abgasen in Ihre neue Wohn...</td>\n",
              "      <td>NaN</td>\n",
              "      <td>87.23</td>\n",
              "      <td>NaN</td>\n",
              "      <td>NaN</td>\n",
              "      <td>NaN</td>\n",
              "      <td>NaN</td>\n",
              "      <td>May19</td>\n",
              "    </tr>\n",
              "    <tr>\n",
              "      <th>4</th>\n",
              "      <td>Bremen</td>\n",
              "      <td>138.00</td>\n",
              "      <td>self_contained_central_heating</td>\n",
              "      <td>NaN</td>\n",
              "      <td>NaN</td>\n",
              "      <td>False</td>\n",
              "      <td>True</td>\n",
              "      <td>19</td>\n",
              "      <td>2.46</td>\n",
              "      <td>NaN</td>\n",
              "      <td>...</td>\n",
              "      <td>Bremen</td>\n",
              "      <td>Neu_Schwachhausen</td>\n",
              "      <td>Es handelt sich hier um ein saniertes Mehrfami...</td>\n",
              "      <td>Diese Wohnung wurde neu saniert und ist wie fo...</td>\n",
              "      <td>NaN</td>\n",
              "      <td>NaN</td>\n",
              "      <td>NaN</td>\n",
              "      <td>NaN</td>\n",
              "      <td>NaN</td>\n",
              "      <td>Feb20</td>\n",
              "    </tr>\n",
              "    <tr>\n",
              "      <th>...</th>\n",
              "      <td>...</td>\n",
              "      <td>...</td>\n",
              "      <td>...</td>\n",
              "      <td>...</td>\n",
              "      <td>...</td>\n",
              "      <td>...</td>\n",
              "      <td>...</td>\n",
              "      <td>...</td>\n",
              "      <td>...</td>\n",
              "      <td>...</td>\n",
              "      <td>...</td>\n",
              "      <td>...</td>\n",
              "      <td>...</td>\n",
              "      <td>...</td>\n",
              "      <td>...</td>\n",
              "      <td>...</td>\n",
              "      <td>...</td>\n",
              "      <td>...</td>\n",
              "      <td>...</td>\n",
              "      <td>...</td>\n",
              "      <td>...</td>\n",
              "    </tr>\n",
              "    <tr>\n",
              "      <th>268845</th>\n",
              "      <td>Bayern</td>\n",
              "      <td>90.00</td>\n",
              "      <td>heat_pump</td>\n",
              "      <td>ONE_YEAR_FREE</td>\n",
              "      <td>NaN</td>\n",
              "      <td>False</td>\n",
              "      <td>True</td>\n",
              "      <td>0</td>\n",
              "      <td>2.74</td>\n",
              "      <td>10.0</td>\n",
              "      <td>...</td>\n",
              "      <td>Weilheim_Schongau_Kreis</td>\n",
              "      <td>Eberfing</td>\n",
              "      <td>Diese schöne, neuwertige Wohnung im Dachgescho...</td>\n",
              "      <td>Fliesen und Parkett. Sichtbarer Dachstuhl.</td>\n",
              "      <td>NaN</td>\n",
              "      <td>NaN</td>\n",
              "      <td>NaN</td>\n",
              "      <td>NaN</td>\n",
              "      <td>NaN</td>\n",
              "      <td>Feb20</td>\n",
              "    </tr>\n",
              "    <tr>\n",
              "      <th>268846</th>\n",
              "      <td>Hessen</td>\n",
              "      <td>220.00</td>\n",
              "      <td>gas_heating</td>\n",
              "      <td>NaN</td>\n",
              "      <td>NaN</td>\n",
              "      <td>False</td>\n",
              "      <td>True</td>\n",
              "      <td>12</td>\n",
              "      <td>6.49</td>\n",
              "      <td>NaN</td>\n",
              "      <td>...</td>\n",
              "      <td>Bergstraße_Kreis</td>\n",
              "      <td>Viernheim</td>\n",
              "      <td>Hier wird eine Wohnung im 2 Familienhaus angeb...</td>\n",
              "      <td>Parkett, Kamin, Badewanne&amp;Dusche\\nGroßer Balko...</td>\n",
              "      <td>NaN</td>\n",
              "      <td>NaN</td>\n",
              "      <td>2015.0</td>\n",
              "      <td>NaN</td>\n",
              "      <td>NaN</td>\n",
              "      <td>May19</td>\n",
              "    </tr>\n",
              "    <tr>\n",
              "      <th>268847</th>\n",
              "      <td>Hessen</td>\n",
              "      <td>220.00</td>\n",
              "      <td>central_heating</td>\n",
              "      <td>ONE_YEAR_FREE</td>\n",
              "      <td>NaN</td>\n",
              "      <td>False</td>\n",
              "      <td>True</td>\n",
              "      <td>21</td>\n",
              "      <td>2.90</td>\n",
              "      <td>40.0</td>\n",
              "      <td>...</td>\n",
              "      <td>Limburg_Weilburg_Kreis</td>\n",
              "      <td>Limburg_an_der_Lahn</td>\n",
              "      <td>gemütliche 4-Zimmer-Wohnung im Obergeschoss ei...</td>\n",
              "      <td>Böden: Wohn-/Schlafbereich = Laminat, Küche + ...</td>\n",
              "      <td>NaN</td>\n",
              "      <td>NaN</td>\n",
              "      <td>2019.0</td>\n",
              "      <td>NaN</td>\n",
              "      <td>NaN</td>\n",
              "      <td>Feb20</td>\n",
              "    </tr>\n",
              "    <tr>\n",
              "      <th>268848</th>\n",
              "      <td>Nordrhein_Westfalen</td>\n",
              "      <td>175.00</td>\n",
              "      <td>heat_pump</td>\n",
              "      <td>NaN</td>\n",
              "      <td>NaN</td>\n",
              "      <td>True</td>\n",
              "      <td>True</td>\n",
              "      <td>16</td>\n",
              "      <td>4.39</td>\n",
              "      <td>NaN</td>\n",
              "      <td>...</td>\n",
              "      <td>Köln</td>\n",
              "      <td>Dellbrück</td>\n",
              "      <td>Neubau Erstbezug, gehobener Standard, alle Ein...</td>\n",
              "      <td>Wände:\\nMaler­vlies, weiß gestrichen alter­nat...</td>\n",
              "      <td>40.00</td>\n",
              "      <td>NO_INFORMATION</td>\n",
              "      <td>2019.0</td>\n",
              "      <td>NaN</td>\n",
              "      <td>NaN</td>\n",
              "      <td>May19</td>\n",
              "    </tr>\n",
              "    <tr>\n",
              "      <th>268849</th>\n",
              "      <td>Hessen</td>\n",
              "      <td>315.00</td>\n",
              "      <td>central_heating</td>\n",
              "      <td>NaN</td>\n",
              "      <td>NaN</td>\n",
              "      <td>False</td>\n",
              "      <td>True</td>\n",
              "      <td>9</td>\n",
              "      <td>5.00</td>\n",
              "      <td>NaN</td>\n",
              "      <td>...</td>\n",
              "      <td>Frankfurt_am_Main</td>\n",
              "      <td>Sossenheim</td>\n",
              "      <td>Schöne, helle, gut geschnittene und teilmöblie...</td>\n",
              "      <td>Balkon, Keller, Fahrstuhl, Vollbad, Einbauküch...</td>\n",
              "      <td>NaN</td>\n",
              "      <td>NaN</td>\n",
              "      <td>NaN</td>\n",
              "      <td>NaN</td>\n",
              "      <td>NaN</td>\n",
              "      <td>Feb20</td>\n",
              "    </tr>\n",
              "  </tbody>\n",
              "</table>\n",
              "<p>268850 rows × 49 columns</p>\n",
              "</div>\n",
              "      <button class=\"colab-df-convert\" onclick=\"convertToInteractive('df-81a4b72a-2c1e-47c9-9884-58a10d0d593b')\"\n",
              "              title=\"Convert this dataframe to an interactive table.\"\n",
              "              style=\"display:none;\">\n",
              "        \n",
              "  <svg xmlns=\"http://www.w3.org/2000/svg\" height=\"24px\"viewBox=\"0 0 24 24\"\n",
              "       width=\"24px\">\n",
              "    <path d=\"M0 0h24v24H0V0z\" fill=\"none\"/>\n",
              "    <path d=\"M18.56 5.44l.94 2.06.94-2.06 2.06-.94-2.06-.94-.94-2.06-.94 2.06-2.06.94zm-11 1L8.5 8.5l.94-2.06 2.06-.94-2.06-.94L8.5 2.5l-.94 2.06-2.06.94zm10 10l.94 2.06.94-2.06 2.06-.94-2.06-.94-.94-2.06-.94 2.06-2.06.94z\"/><path d=\"M17.41 7.96l-1.37-1.37c-.4-.4-.92-.59-1.43-.59-.52 0-1.04.2-1.43.59L10.3 9.45l-7.72 7.72c-.78.78-.78 2.05 0 2.83L4 21.41c.39.39.9.59 1.41.59.51 0 1.02-.2 1.41-.59l7.78-7.78 2.81-2.81c.8-.78.8-2.07 0-2.86zM5.41 20L4 18.59l7.72-7.72 1.47 1.35L5.41 20z\"/>\n",
              "  </svg>\n",
              "      </button>\n",
              "      \n",
              "  <style>\n",
              "    .colab-df-container {\n",
              "      display:flex;\n",
              "      flex-wrap:wrap;\n",
              "      gap: 12px;\n",
              "    }\n",
              "\n",
              "    .colab-df-convert {\n",
              "      background-color: #E8F0FE;\n",
              "      border: none;\n",
              "      border-radius: 50%;\n",
              "      cursor: pointer;\n",
              "      display: none;\n",
              "      fill: #1967D2;\n",
              "      height: 32px;\n",
              "      padding: 0 0 0 0;\n",
              "      width: 32px;\n",
              "    }\n",
              "\n",
              "    .colab-df-convert:hover {\n",
              "      background-color: #E2EBFA;\n",
              "      box-shadow: 0px 1px 2px rgba(60, 64, 67, 0.3), 0px 1px 3px 1px rgba(60, 64, 67, 0.15);\n",
              "      fill: #174EA6;\n",
              "    }\n",
              "\n",
              "    [theme=dark] .colab-df-convert {\n",
              "      background-color: #3B4455;\n",
              "      fill: #D2E3FC;\n",
              "    }\n",
              "\n",
              "    [theme=dark] .colab-df-convert:hover {\n",
              "      background-color: #434B5C;\n",
              "      box-shadow: 0px 1px 3px 1px rgba(0, 0, 0, 0.15);\n",
              "      filter: drop-shadow(0px 1px 2px rgba(0, 0, 0, 0.3));\n",
              "      fill: #FFFFFF;\n",
              "    }\n",
              "  </style>\n",
              "\n",
              "      <script>\n",
              "        const buttonEl =\n",
              "          document.querySelector('#df-81a4b72a-2c1e-47c9-9884-58a10d0d593b button.colab-df-convert');\n",
              "        buttonEl.style.display =\n",
              "          google.colab.kernel.accessAllowed ? 'block' : 'none';\n",
              "\n",
              "        async function convertToInteractive(key) {\n",
              "          const element = document.querySelector('#df-81a4b72a-2c1e-47c9-9884-58a10d0d593b');\n",
              "          const dataTable =\n",
              "            await google.colab.kernel.invokeFunction('convertToInteractive',\n",
              "                                                     [key], {});\n",
              "          if (!dataTable) return;\n",
              "\n",
              "          const docLinkHtml = 'Like what you see? Visit the ' +\n",
              "            '<a target=\"_blank\" href=https://colab.research.google.com/notebooks/data_table.ipynb>data table notebook</a>'\n",
              "            + ' to learn more about interactive tables.';\n",
              "          element.innerHTML = '';\n",
              "          dataTable['output_type'] = 'display_data';\n",
              "          await google.colab.output.renderOutput(dataTable, element);\n",
              "          const docLink = document.createElement('div');\n",
              "          docLink.innerHTML = docLinkHtml;\n",
              "          element.appendChild(docLink);\n",
              "        }\n",
              "      </script>\n",
              "    </div>\n",
              "  </div>\n",
              "  "
            ]
          },
          "metadata": {},
          "execution_count": 192
        }
      ],
      "source": [
        "import pandas as pd\n",
        "\n",
        "df = pd.read_csv('/content/immo_data.csv')\n",
        "df"
      ]
    },
    {
      "cell_type": "code",
      "execution_count": 193,
      "metadata": {
        "id": "lmeJ0tx6fxPB",
        "colab": {
          "base_uri": "https://localhost:8080/"
        },
        "outputId": "1f7d88f3-4428-4e2b-981a-fcd944e5cc8d"
      },
      "outputs": [
        {
          "output_type": "stream",
          "name": "stdout",
          "text": [
            "<class 'pandas.core.frame.DataFrame'>\n",
            "RangeIndex: 268850 entries, 0 to 268849\n",
            "Data columns (total 49 columns):\n",
            " #   Column                    Non-Null Count   Dtype  \n",
            "---  ------                    --------------   -----  \n",
            " 0   regio1                    268850 non-null  object \n",
            " 1   serviceCharge             261941 non-null  float64\n",
            " 2   heatingType               223994 non-null  object \n",
            " 3   telekomTvOffer            236231 non-null  object \n",
            " 4   telekomHybridUploadSpeed  45020 non-null   float64\n",
            " 5   newlyConst                268850 non-null  bool   \n",
            " 6   balcony                   268850 non-null  bool   \n",
            " 7   picturecount              268850 non-null  int64  \n",
            " 8   pricetrend                267018 non-null  float64\n",
            " 9   telekomUploadSpeed        235492 non-null  float64\n",
            " 10  totalRent                 228333 non-null  float64\n",
            " 11  yearConstructed           211805 non-null  float64\n",
            " 12  scoutId                   268850 non-null  int64  \n",
            " 13  noParkSpaces              93052 non-null   float64\n",
            " 14  firingTypes               211886 non-null  object \n",
            " 15  hasKitchen                268850 non-null  bool   \n",
            " 16  geo_bln                   268850 non-null  object \n",
            " 17  cellar                    268850 non-null  bool   \n",
            " 18  yearConstructedRange      211805 non-null  float64\n",
            " 19  baseRent                  268850 non-null  float64\n",
            " 20  houseNumber               197832 non-null  object \n",
            " 21  livingSpace               268850 non-null  float64\n",
            " 22  geo_krs                   268850 non-null  object \n",
            " 23  condition                 200361 non-null  object \n",
            " 24  interiorQual              156185 non-null  object \n",
            " 25  petsAllowed               154277 non-null  object \n",
            " 26  street                    268850 non-null  object \n",
            " 27  streetPlain               197837 non-null  object \n",
            " 28  lift                      268850 non-null  bool   \n",
            " 29  baseRentRange             268850 non-null  int64  \n",
            " 30  typeOfFlat                232236 non-null  object \n",
            " 31  geo_plz                   268850 non-null  int64  \n",
            " 32  noRooms                   268850 non-null  float64\n",
            " 33  thermalChar               162344 non-null  float64\n",
            " 34  floor                     217541 non-null  float64\n",
            " 35  numberOfFloors            171118 non-null  float64\n",
            " 36  noRoomsRange              268850 non-null  int64  \n",
            " 37  garden                    268850 non-null  bool   \n",
            " 38  livingSpaceRange          268850 non-null  int64  \n",
            " 39  regio2                    268850 non-null  object \n",
            " 40  regio3                    268850 non-null  object \n",
            " 41  description               249103 non-null  object \n",
            " 42  facilities                215926 non-null  object \n",
            " 43  heatingCosts              85518 non-null   float64\n",
            " 44  energyEfficiencyClass     77787 non-null   object \n",
            " 45  lastRefurbish             80711 non-null   float64\n",
            " 46  electricityBasePrice      46846 non-null   float64\n",
            " 47  electricityKwhPrice       46846 non-null   float64\n",
            " 48  date                      268850 non-null  object \n",
            "dtypes: bool(6), float64(18), int64(6), object(19)\n",
            "memory usage: 89.7+ MB\n"
          ]
        }
      ],
      "source": [
        "df.info()"
      ]
    },
    {
      "cell_type": "code",
      "execution_count": 194,
      "metadata": {
        "id": "odIx837hUhIR"
      },
      "outputs": [],
      "source": [
        "df = df[['serviceCharge', 'heatingType', 'telekomUploadSpeed', 'totalRent']]\n"
      ]
    },
    {
      "cell_type": "code",
      "source": [
        "df = df.dropna(thresh=0.5*df.shape[0], axis=1)\n",
        "df = df.drop(df[df['totalRent'] == 0.0].index)\n",
        "df.shape"
      ],
      "metadata": {
        "id": "MKVhXH0qgmbf",
        "colab": {
          "base_uri": "https://localhost:8080/"
        },
        "outputId": "320ea18b-912e-408f-e52e-92de6ccd38d8"
      },
      "execution_count": 195,
      "outputs": [
        {
          "output_type": "execute_result",
          "data": {
            "text/plain": [
              "(268614, 4)"
            ]
          },
          "metadata": {},
          "execution_count": 195
        }
      ]
    },
    {
      "cell_type": "code",
      "source": [
        "print('Types : {}'.format(df['heatingType'].nunique()))"
      ],
      "metadata": {
        "id": "3dX6tRaRkiMU",
        "colab": {
          "base_uri": "https://localhost:8080/"
        },
        "outputId": "cfe94d45-bfe3-42d1-c9e2-ae827f71f696"
      },
      "execution_count": 196,
      "outputs": [
        {
          "output_type": "stream",
          "name": "stdout",
          "text": [
            "Types : 13\n"
          ]
        }
      ]
    },
    {
      "cell_type": "code",
      "source": [
        "for column in df.columns:\n",
        "    if df[column].dtype == float or df[column].dtype == int:\n",
        "        upper = df[column].mean() + 3 * df[column].std()\n",
        "        lower = df[column].mean() - 3 * df[column].std()\n",
        "        rows = df[(df[column] > upper) | (df[column] < lower)].index\n",
        "\n",
        "        df.drop(rows, inplace=True)\n",
        "  "
      ],
      "metadata": {
        "id": "ci77d9nDrMOs"
      },
      "execution_count": 197,
      "outputs": []
    },
    {
      "cell_type": "code",
      "source": [
        "df['heatingType'].fillna(df['heatingType'].mode()[0], inplace=True)\n",
        "df.fillna(df._get_numeric_data().mean(),inplace = True)\n"
      ],
      "metadata": {
        "id": "klZ_Ud73w8Bl"
      },
      "execution_count": 198,
      "outputs": []
    },
    {
      "cell_type": "code",
      "source": [
        "df.isna().sum()"
      ],
      "metadata": {
        "id": "oOZOIyZ2xVuL",
        "colab": {
          "base_uri": "https://localhost:8080/"
        },
        "outputId": "3a8b9d7c-d7c3-45c3-f021-ef6dae451a59"
      },
      "execution_count": 199,
      "outputs": [
        {
          "output_type": "execute_result",
          "data": {
            "text/plain": [
              "serviceCharge         0\n",
              "heatingType           0\n",
              "telekomUploadSpeed    0\n",
              "totalRent             0\n",
              "dtype: int64"
            ]
          },
          "metadata": {},
          "execution_count": 199
        }
      ]
    },
    {
      "cell_type": "code",
      "source": [
        "df['heatingType'].value_counts()"
      ],
      "metadata": {
        "id": "WWx8X5xE0hrm",
        "colab": {
          "base_uri": "https://localhost:8080/"
        },
        "outputId": "21e071bf-3ccb-4316-dc15-75fe2453b495"
      },
      "execution_count": 200,
      "outputs": [
        {
          "output_type": "execute_result",
          "data": {
            "text/plain": [
              "central_heating                   173519\n",
              "district_heating                   24767\n",
              "gas_heating                        19934\n",
              "self_contained_central_heating     19043\n",
              "floor_heating                      17658\n",
              "oil_heating                         5040\n",
              "heat_pump                           2732\n",
              "combined_heat_and_power_plant       1976\n",
              "night_storage_heater                1334\n",
              "wood_pellet_heating                  961\n",
              "electric_heating                     900\n",
              "stove_heating                        341\n",
              "solar_heating                        166\n",
              "Name: heatingType, dtype: int64"
            ]
          },
          "metadata": {},
          "execution_count": 200
        }
      ]
    },
    {
      "cell_type": "code",
      "source": [
        "def edit_heating_type(x):\n",
        "    if x in others:\n",
        "        return 'other'\n",
        "    else:\n",
        "        return x\n",
        "\n",
        "others = list(df['heatingType'].value_counts().tail(8).index)\n",
        "df['edited_heatingType'] = df['heatingType'].apply(edit_heating_type)\n",
        "df = df.drop(columns=['heatingType'])\n",
        "df['edited_heatingType'].value_counts()"
      ],
      "metadata": {
        "id": "cBvCa92V0pet",
        "colab": {
          "base_uri": "https://localhost:8080/"
        },
        "outputId": "3fcc3dc2-7e23-44cb-987f-fa5592cafe07"
      },
      "execution_count": 201,
      "outputs": [
        {
          "output_type": "execute_result",
          "data": {
            "text/plain": [
              "central_heating                   173519\n",
              "district_heating                   24767\n",
              "gas_heating                        19934\n",
              "self_contained_central_heating     19043\n",
              "floor_heating                      17658\n",
              "other                              13450\n",
              "Name: edited_heatingType, dtype: int64"
            ]
          },
          "metadata": {},
          "execution_count": 201
        }
      ]
    },
    {
      "cell_type": "code",
      "source": [
        "df.info()"
      ],
      "metadata": {
        "id": "qMVvoE--eLQb",
        "colab": {
          "base_uri": "https://localhost:8080/"
        },
        "outputId": "a3ac6e78-3ed1-41c8-ef78-ddc04c3cfd25"
      },
      "execution_count": 202,
      "outputs": [
        {
          "output_type": "stream",
          "name": "stdout",
          "text": [
            "<class 'pandas.core.frame.DataFrame'>\n",
            "Int64Index: 268371 entries, 0 to 268849\n",
            "Data columns (total 4 columns):\n",
            " #   Column              Non-Null Count   Dtype  \n",
            "---  ------              --------------   -----  \n",
            " 0   serviceCharge       268371 non-null  float64\n",
            " 1   telekomUploadSpeed  268371 non-null  float64\n",
            " 2   totalRent           268371 non-null  float64\n",
            " 3   edited_heatingType  268371 non-null  object \n",
            "dtypes: float64(3), object(1)\n",
            "memory usage: 10.2+ MB\n"
          ]
        }
      ]
    },
    {
      "cell_type": "code",
      "source": [
        "df.describe()"
      ],
      "metadata": {
        "id": "_6vLsbqF4BDb",
        "colab": {
          "base_uri": "https://localhost:8080/",
          "height": 300
        },
        "outputId": "17fa96ad-11e8-4d5b-afb0-af1d4393796f"
      },
      "execution_count": 203,
      "outputs": [
        {
          "output_type": "execute_result",
          "data": {
            "text/plain": [
              "       serviceCharge  telekomUploadSpeed      totalRent\n",
              "count  268371.000000       268371.000000  268371.000000\n",
              "mean      149.850851           28.763488     813.931950\n",
              "std        82.993521           15.206258     547.205183\n",
              "min         0.000000            1.000000       1.000000\n",
              "25%        96.000000           10.000000     495.000000\n",
              "50%       140.000000           40.000000     742.060000\n",
              "75%       185.000000           40.000000     900.000000\n",
              "max      1070.000000           40.000000   64651.000000"
            ],
            "text/html": [
              "\n",
              "  <div id=\"df-18de3151-8464-45b6-89cb-f6297b6c1c07\">\n",
              "    <div class=\"colab-df-container\">\n",
              "      <div>\n",
              "<style scoped>\n",
              "    .dataframe tbody tr th:only-of-type {\n",
              "        vertical-align: middle;\n",
              "    }\n",
              "\n",
              "    .dataframe tbody tr th {\n",
              "        vertical-align: top;\n",
              "    }\n",
              "\n",
              "    .dataframe thead th {\n",
              "        text-align: right;\n",
              "    }\n",
              "</style>\n",
              "<table border=\"1\" class=\"dataframe\">\n",
              "  <thead>\n",
              "    <tr style=\"text-align: right;\">\n",
              "      <th></th>\n",
              "      <th>serviceCharge</th>\n",
              "      <th>telekomUploadSpeed</th>\n",
              "      <th>totalRent</th>\n",
              "    </tr>\n",
              "  </thead>\n",
              "  <tbody>\n",
              "    <tr>\n",
              "      <th>count</th>\n",
              "      <td>268371.000000</td>\n",
              "      <td>268371.000000</td>\n",
              "      <td>268371.000000</td>\n",
              "    </tr>\n",
              "    <tr>\n",
              "      <th>mean</th>\n",
              "      <td>149.850851</td>\n",
              "      <td>28.763488</td>\n",
              "      <td>813.931950</td>\n",
              "    </tr>\n",
              "    <tr>\n",
              "      <th>std</th>\n",
              "      <td>82.993521</td>\n",
              "      <td>15.206258</td>\n",
              "      <td>547.205183</td>\n",
              "    </tr>\n",
              "    <tr>\n",
              "      <th>min</th>\n",
              "      <td>0.000000</td>\n",
              "      <td>1.000000</td>\n",
              "      <td>1.000000</td>\n",
              "    </tr>\n",
              "    <tr>\n",
              "      <th>25%</th>\n",
              "      <td>96.000000</td>\n",
              "      <td>10.000000</td>\n",
              "      <td>495.000000</td>\n",
              "    </tr>\n",
              "    <tr>\n",
              "      <th>50%</th>\n",
              "      <td>140.000000</td>\n",
              "      <td>40.000000</td>\n",
              "      <td>742.060000</td>\n",
              "    </tr>\n",
              "    <tr>\n",
              "      <th>75%</th>\n",
              "      <td>185.000000</td>\n",
              "      <td>40.000000</td>\n",
              "      <td>900.000000</td>\n",
              "    </tr>\n",
              "    <tr>\n",
              "      <th>max</th>\n",
              "      <td>1070.000000</td>\n",
              "      <td>40.000000</td>\n",
              "      <td>64651.000000</td>\n",
              "    </tr>\n",
              "  </tbody>\n",
              "</table>\n",
              "</div>\n",
              "      <button class=\"colab-df-convert\" onclick=\"convertToInteractive('df-18de3151-8464-45b6-89cb-f6297b6c1c07')\"\n",
              "              title=\"Convert this dataframe to an interactive table.\"\n",
              "              style=\"display:none;\">\n",
              "        \n",
              "  <svg xmlns=\"http://www.w3.org/2000/svg\" height=\"24px\"viewBox=\"0 0 24 24\"\n",
              "       width=\"24px\">\n",
              "    <path d=\"M0 0h24v24H0V0z\" fill=\"none\"/>\n",
              "    <path d=\"M18.56 5.44l.94 2.06.94-2.06 2.06-.94-2.06-.94-.94-2.06-.94 2.06-2.06.94zm-11 1L8.5 8.5l.94-2.06 2.06-.94-2.06-.94L8.5 2.5l-.94 2.06-2.06.94zm10 10l.94 2.06.94-2.06 2.06-.94-2.06-.94-.94-2.06-.94 2.06-2.06.94z\"/><path d=\"M17.41 7.96l-1.37-1.37c-.4-.4-.92-.59-1.43-.59-.52 0-1.04.2-1.43.59L10.3 9.45l-7.72 7.72c-.78.78-.78 2.05 0 2.83L4 21.41c.39.39.9.59 1.41.59.51 0 1.02-.2 1.41-.59l7.78-7.78 2.81-2.81c.8-.78.8-2.07 0-2.86zM5.41 20L4 18.59l7.72-7.72 1.47 1.35L5.41 20z\"/>\n",
              "  </svg>\n",
              "      </button>\n",
              "      \n",
              "  <style>\n",
              "    .colab-df-container {\n",
              "      display:flex;\n",
              "      flex-wrap:wrap;\n",
              "      gap: 12px;\n",
              "    }\n",
              "\n",
              "    .colab-df-convert {\n",
              "      background-color: #E8F0FE;\n",
              "      border: none;\n",
              "      border-radius: 50%;\n",
              "      cursor: pointer;\n",
              "      display: none;\n",
              "      fill: #1967D2;\n",
              "      height: 32px;\n",
              "      padding: 0 0 0 0;\n",
              "      width: 32px;\n",
              "    }\n",
              "\n",
              "    .colab-df-convert:hover {\n",
              "      background-color: #E2EBFA;\n",
              "      box-shadow: 0px 1px 2px rgba(60, 64, 67, 0.3), 0px 1px 3px 1px rgba(60, 64, 67, 0.15);\n",
              "      fill: #174EA6;\n",
              "    }\n",
              "\n",
              "    [theme=dark] .colab-df-convert {\n",
              "      background-color: #3B4455;\n",
              "      fill: #D2E3FC;\n",
              "    }\n",
              "\n",
              "    [theme=dark] .colab-df-convert:hover {\n",
              "      background-color: #434B5C;\n",
              "      box-shadow: 0px 1px 3px 1px rgba(0, 0, 0, 0.15);\n",
              "      filter: drop-shadow(0px 1px 2px rgba(0, 0, 0, 0.3));\n",
              "      fill: #FFFFFF;\n",
              "    }\n",
              "  </style>\n",
              "\n",
              "      <script>\n",
              "        const buttonEl =\n",
              "          document.querySelector('#df-18de3151-8464-45b6-89cb-f6297b6c1c07 button.colab-df-convert');\n",
              "        buttonEl.style.display =\n",
              "          google.colab.kernel.accessAllowed ? 'block' : 'none';\n",
              "\n",
              "        async function convertToInteractive(key) {\n",
              "          const element = document.querySelector('#df-18de3151-8464-45b6-89cb-f6297b6c1c07');\n",
              "          const dataTable =\n",
              "            await google.colab.kernel.invokeFunction('convertToInteractive',\n",
              "                                                     [key], {});\n",
              "          if (!dataTable) return;\n",
              "\n",
              "          const docLinkHtml = 'Like what you see? Visit the ' +\n",
              "            '<a target=\"_blank\" href=https://colab.research.google.com/notebooks/data_table.ipynb>data table notebook</a>'\n",
              "            + ' to learn more about interactive tables.';\n",
              "          element.innerHTML = '';\n",
              "          dataTable['output_type'] = 'display_data';\n",
              "          await google.colab.output.renderOutput(dataTable, element);\n",
              "          const docLink = document.createElement('div');\n",
              "          docLink.innerHTML = docLinkHtml;\n",
              "          element.appendChild(docLink);\n",
              "        }\n",
              "      </script>\n",
              "    </div>\n",
              "  </div>\n",
              "  "
            ]
          },
          "metadata": {},
          "execution_count": 203
        }
      ]
    },
    {
      "cell_type": "code",
      "source": [
        "df['edited_heatingType'].value_counts().plot(kind='barh', color=['red', 'pink', 'deeppink'])"
      ],
      "metadata": {
        "id": "NqZYR5sK4Quz",
        "colab": {
          "base_uri": "https://localhost:8080/",
          "height": 283
        },
        "outputId": "2dd02de8-1b1b-4af8-c166-646adbae27a8"
      },
      "execution_count": 204,
      "outputs": [
        {
          "output_type": "execute_result",
          "data": {
            "text/plain": [
              "<matplotlib.axes._subplots.AxesSubplot at 0x7f59a001a910>"
            ]
          },
          "metadata": {},
          "execution_count": 204
        },
        {
          "output_type": "display_data",
          "data": {
            "text/plain": [
              "<Figure size 432x288 with 1 Axes>"
            ],
            "image/png": "[encoded data removed]"
          },
          "metadata": {
            "needs_background": "light"
          }
        }
      ]
    },
    {
      "cell_type": "code",
      "source": [
        "import numpy as np\n",
        "from sklearn.model_selection import train_test_split\n"
      ],
      "metadata": {
        "id": "aHLwjEl80tMO"
      },
      "execution_count": 205,
      "outputs": []
    },
    {
      "cell_type": "code",
      "source": [
        "target = df['totalRent']\n",
        "df = df.drop('totalRent', axis=1)"
      ],
      "metadata": {
        "id": "E13rXSgj2Vu6"
      },
      "execution_count": 206,
      "outputs": []
    },
    {
      "cell_type": "code",
      "source": [
        "dummies_feature = pd.get_dummies(df['edited_heatingType'])\n",
        "df = pd.concat([df, dummies_feature], axis=1)\n",
        "df = df.drop('edited_heatingType', axis=1)\n"
      ],
      "metadata": {
        "id": "qmi_oOiV8g6H"
      },
      "execution_count": 207,
      "outputs": []
    },
    {
      "cell_type": "code",
      "source": [
        "df"
      ],
      "metadata": {
        "id": "oAQwCUFB9Bxw",
        "colab": {
          "base_uri": "https://localhost:8080/",
          "height": 487
        },
        "outputId": "1b4b5940-36a4-45d7-f624-5ceef2f73bde"
      },
      "execution_count": 208,
      "outputs": [
        {
          "output_type": "execute_result",
          "data": {
            "text/plain": [
              "        serviceCharge  telekomUploadSpeed  central_heating  district_heating  \\\n",
              "0              245.00           10.000000                1                 0   \n",
              "1              134.00           10.000000                0                 0   \n",
              "2              255.00            2.400000                0                 0   \n",
              "3               58.15           40.000000                0                 1   \n",
              "4              138.00           28.763488                0                 0   \n",
              "...               ...                 ...              ...               ...   \n",
              "268845          90.00           10.000000                0                 0   \n",
              "268846         220.00           28.763488                0                 0   \n",
              "268847         220.00           40.000000                1                 0   \n",
              "268848         175.00           28.763488                0                 0   \n",
              "268849         315.00           28.763488                1                 0   \n",
              "\n",
              "        floor_heating  gas_heating  other  self_contained_central_heating  \n",
              "0                   0            0      0                               0  \n",
              "1                   0            0      0                               1  \n",
              "2                   1            0      0                               0  \n",
              "3                   0            0      0                               0  \n",
              "4                   0            0      0                               1  \n",
              "...               ...          ...    ...                             ...  \n",
              "268845              0            0      1                               0  \n",
              "268846              0            1      0                               0  \n",
              "268847              0            0      0                               0  \n",
              "268848              0            0      1                               0  \n",
              "268849              0            0      0                               0  \n",
              "\n",
              "[268371 rows x 8 columns]"
            ],
            "text/html": [
              "\n",
              "  <div id=\"df-f9779dcb-991d-47c4-a41a-92f26cf7d184\">\n",
              "    <div class=\"colab-df-container\">\n",
              "      <div>\n",
              "<style scoped>\n",
              "    .dataframe tbody tr th:only-of-type {\n",
              "        vertical-align: middle;\n",
              "    }\n",
              "\n",
              "    .dataframe tbody tr th {\n",
              "        vertical-align: top;\n",
              "    }\n",
              "\n",
              "    .dataframe thead th {\n",
              "        text-align: right;\n",
              "    }\n",
              "</style>\n",
              "<table border=\"1\" class=\"dataframe\">\n",
              "  <thead>\n",
              "    <tr style=\"text-align: right;\">\n",
              "      <th></th>\n",
              "      <th>serviceCharge</th>\n",
              "      <th>telekomUploadSpeed</th>\n",
              "      <th>central_heating</th>\n",
              "      <th>district_heating</th>\n",
              "      <th>floor_heating</th>\n",
              "      <th>gas_heating</th>\n",
              "      <th>other</th>\n",
              "      <th>self_contained_central_heating</th>\n",
              "    </tr>\n",
              "  </thead>\n",
              "  <tbody>\n",
              "    <tr>\n",
              "      <th>0</th>\n",
              "      <td>245.00</td>\n",
              "      <td>10.000000</td>\n",
              "      <td>1</td>\n",
              "      <td>0</td>\n",
              "      <td>0</td>\n",
              "      <td>0</td>\n",
              "      <td>0</td>\n",
              "      <td>0</td>\n",
              "    </tr>\n",
              "    <tr>\n",
              "      <th>1</th>\n",
              "      <td>134.00</td>\n",
              "      <td>10.000000</td>\n",
              "      <td>0</td>\n",
              "      <td>0</td>\n",
              "      <td>0</td>\n",
              "      <td>0</td>\n",
              "      <td>0</td>\n",
              "      <td>1</td>\n",
              "    </tr>\n",
              "    <tr>\n",
              "      <th>2</th>\n",
              "      <td>255.00</td>\n",
              "      <td>2.400000</td>\n",
              "      <td>0</td>\n",
              "      <td>0</td>\n",
              "      <td>1</td>\n",
              "      <td>0</td>\n",
              "      <td>0</td>\n",
              "      <td>0</td>\n",
              "    </tr>\n",
              "    <tr>\n",
              "      <th>3</th>\n",
              "      <td>58.15</td>\n",
              "      <td>40.000000</td>\n",
              "      <td>0</td>\n",
              "      <td>1</td>\n",
              "      <td>0</td>\n",
              "      <td>0</td>\n",
              "      <td>0</td>\n",
              "      <td>0</td>\n",
              "    </tr>\n",
              "    <tr>\n",
              "      <th>4</th>\n",
              "      <td>138.00</td>\n",
              "      <td>28.763488</td>\n",
              "      <td>0</td>\n",
              "      <td>0</td>\n",
              "      <td>0</td>\n",
              "      <td>0</td>\n",
              "      <td>0</td>\n",
              "      <td>1</td>\n",
              "    </tr>\n",
              "    <tr>\n",
              "      <th>...</th>\n",
              "      <td>...</td>\n",
              "      <td>...</td>\n",
              "      <td>...</td>\n",
              "      <td>...</td>\n",
              "      <td>...</td>\n",
              "      <td>...</td>\n",
              "      <td>...</td>\n",
              "      <td>...</td>\n",
              "    </tr>\n",
              "    <tr>\n",
              "      <th>268845</th>\n",
              "      <td>90.00</td>\n",
              "      <td>10.000000</td>\n",
              "      <td>0</td>\n",
              "      <td>0</td>\n",
              "      <td>0</td>\n",
              "      <td>0</td>\n",
              "      <td>1</td>\n",
              "      <td>0</td>\n",
              "    </tr>\n",
              "    <tr>\n",
              "      <th>268846</th>\n",
              "      <td>220.00</td>\n",
              "      <td>28.763488</td>\n",
              "      <td>0</td>\n",
              "      <td>0</td>\n",
              "      <td>0</td>\n",
              "      <td>1</td>\n",
              "      <td>0</td>\n",
              "      <td>0</td>\n",
              "    </tr>\n",
              "    <tr>\n",
              "      <th>268847</th>\n",
              "      <td>220.00</td>\n",
              "      <td>40.000000</td>\n",
              "      <td>1</td>\n",
              "      <td>0</td>\n",
              "      <td>0</td>\n",
              "      <td>0</td>\n",
              "      <td>0</td>\n",
              "      <td>0</td>\n",
              "    </tr>\n",
              "    <tr>\n",
              "      <th>268848</th>\n",
              "      <td>175.00</td>\n",
              "      <td>28.763488</td>\n",
              "      <td>0</td>\n",
              "      <td>0</td>\n",
              "      <td>0</td>\n",
              "      <td>0</td>\n",
              "      <td>1</td>\n",
              "      <td>0</td>\n",
              "    </tr>\n",
              "    <tr>\n",
              "      <th>268849</th>\n",
              "      <td>315.00</td>\n",
              "      <td>28.763488</td>\n",
              "      <td>1</td>\n",
              "      <td>0</td>\n",
              "      <td>0</td>\n",
              "      <td>0</td>\n",
              "      <td>0</td>\n",
              "      <td>0</td>\n",
              "    </tr>\n",
              "  </tbody>\n",
              "</table>\n",
              "<p>268371 rows × 8 columns</p>\n",
              "</div>\n",
              "      <button class=\"colab-df-convert\" onclick=\"convertToInteractive('df-f9779dcb-991d-47c4-a41a-92f26cf7d184')\"\n",
              "              title=\"Convert this dataframe to an interactive table.\"\n",
              "              style=\"display:none;\">\n",
              "        \n",
              "  <svg xmlns=\"http://www.w3.org/2000/svg\" height=\"24px\"viewBox=\"0 0 24 24\"\n",
              "       width=\"24px\">\n",
              "    <path d=\"M0 0h24v24H0V0z\" fill=\"none\"/>\n",
              "    <path d=\"M18.56 5.44l.94 2.06.94-2.06 2.06-.94-2.06-.94-.94-2.06-.94 2.06-2.06.94zm-11 1L8.5 8.5l.94-2.06 2.06-.94-2.06-.94L8.5 2.5l-.94 2.06-2.06.94zm10 10l.94 2.06.94-2.06 2.06-.94-2.06-.94-.94-2.06-.94 2.06-2.06.94z\"/><path d=\"M17.41 7.96l-1.37-1.37c-.4-.4-.92-.59-1.43-.59-.52 0-1.04.2-1.43.59L10.3 9.45l-7.72 7.72c-.78.78-.78 2.05 0 2.83L4 21.41c.39.39.9.59 1.41.59.51 0 1.02-.2 1.41-.59l7.78-7.78 2.81-2.81c.8-.78.8-2.07 0-2.86zM5.41 20L4 18.59l7.72-7.72 1.47 1.35L5.41 20z\"/>\n",
              "  </svg>\n",
              "      </button>\n",
              "      \n",
              "  <style>\n",
              "    .colab-df-container {\n",
              "      display:flex;\n",
              "      flex-wrap:wrap;\n",
              "      gap: 12px;\n",
              "    }\n",
              "\n",
              "    .colab-df-convert {\n",
              "      background-color: #E8F0FE;\n",
              "      border: none;\n",
              "      border-radius: 50%;\n",
              "      cursor: pointer;\n",
              "      display: none;\n",
              "      fill: #1967D2;\n",
              "      height: 32px;\n",
              "      padding: 0 0 0 0;\n",
              "      width: 32px;\n",
              "    }\n",
              "\n",
              "    .colab-df-convert:hover {\n",
              "      background-color: #E2EBFA;\n",
              "      box-shadow: 0px 1px 2px rgba(60, 64, 67, 0.3), 0px 1px 3px 1px rgba(60, 64, 67, 0.15);\n",
              "      fill: #174EA6;\n",
              "    }\n",
              "\n",
              "    [theme=dark] .colab-df-convert {\n",
              "      background-color: #3B4455;\n",
              "      fill: #D2E3FC;\n",
              "    }\n",
              "\n",
              "    [theme=dark] .colab-df-convert:hover {\n",
              "      background-color: #434B5C;\n",
              "      box-shadow: 0px 1px 3px 1px rgba(0, 0, 0, 0.15);\n",
              "      filter: drop-shadow(0px 1px 2px rgba(0, 0, 0, 0.3));\n",
              "      fill: #FFFFFF;\n",
              "    }\n",
              "  </style>\n",
              "\n",
              "      <script>\n",
              "        const buttonEl =\n",
              "          document.querySelector('#df-f9779dcb-991d-47c4-a41a-92f26cf7d184 button.colab-df-convert');\n",
              "        buttonEl.style.display =\n",
              "          google.colab.kernel.accessAllowed ? 'block' : 'none';\n",
              "\n",
              "        async function convertToInteractive(key) {\n",
              "          const element = document.querySelector('#df-f9779dcb-991d-47c4-a41a-92f26cf7d184');\n",
              "          const dataTable =\n",
              "            await google.colab.kernel.invokeFunction('convertToInteractive',\n",
              "                                                     [key], {});\n",
              "          if (!dataTable) return;\n",
              "\n",
              "          const docLinkHtml = 'Like what you see? Visit the ' +\n",
              "            '<a target=\"_blank\" href=https://colab.research.google.com/notebooks/data_table.ipynb>data table notebook</a>'\n",
              "            + ' to learn more about interactive tables.';\n",
              "          element.innerHTML = '';\n",
              "          dataTable['output_type'] = 'display_data';\n",
              "          await google.colab.output.renderOutput(dataTable, element);\n",
              "          const docLink = document.createElement('div');\n",
              "          docLink.innerHTML = docLinkHtml;\n",
              "          element.appendChild(docLink);\n",
              "        }\n",
              "      </script>\n",
              "    </div>\n",
              "  </div>\n",
              "  "
            ]
          },
          "metadata": {},
          "execution_count": 208
        }
      ]
    },
    {
      "cell_type": "code",
      "source": [
        "X_train, X_test, y_train, y_test = train_test_split(df, target, test_size=0.2, random_state=43)\n",
        "\n",
        "# for col in X_train.columns:\n",
        "#     if not X_train[col].isin([0, 1]).all():\n",
        "#           X_train[col] = ((X_train[col] - X_train[col].mean())/(X_train[col].std()))\n",
        "\n",
        "# for col in X_test.columns:\n",
        "#     if not X_test[col].isin([0, 1]).all():\n",
        "#           X_test[col] = ((X_test[col] - X_train[col].mean())/(X_train[col].std()))\n"
      ],
      "metadata": {
        "id": "Y6xDR0tH166w"
      },
      "execution_count": 209,
      "outputs": []
    },
    {
      "cell_type": "code",
      "source": [
        "from sklearn.preprocessing import MinMaxScaler"
      ],
      "metadata": {
        "id": "gYEghWgZ02wt"
      },
      "execution_count": 210,
      "outputs": []
    },
    {
      "cell_type": "code",
      "source": [
        "standard = MinMaxScaler()"
      ],
      "metadata": {
        "id": "AvwNtwjH1czv"
      },
      "execution_count": 211,
      "outputs": []
    },
    {
      "cell_type": "code",
      "source": [
        "X_train = standard.fit_transform(X_train)"
      ],
      "metadata": {
        "id": "a84JFhf41Hyd"
      },
      "execution_count": 212,
      "outputs": []
    },
    {
      "cell_type": "code",
      "source": [
        "X_test = standard.transform(X_test)"
      ],
      "metadata": {
        "id": "QVLnH8M13nzB"
      },
      "execution_count": 213,
      "outputs": []
    },
    {
      "cell_type": "code",
      "source": [
        "class LiniearRegressionWithMSE() :   \n",
        "    def __init__(self, alpha=0.05 , iterations=1000):\n",
        "        self.alpha = alpha\n",
        "        self.iter = iterations \n",
        "    \n",
        "    def fit(self, X, y): \n",
        "        self.m, self.n = X.shape \n",
        "        self.W = np.random.normal(loc=0.0, scale=0.001, size=self.n)\n",
        "        self.b = 0\n",
        "\n",
        "        for i in range(self.iter) :\n",
        "            y_pred = self.predict(X)\n",
        "            error = y - y_pred\n",
        "            dW = -(2 * (X.T).dot(error)) / self.m\n",
        "            db = -2 * np.sum(error) / self.m\n",
        "            self.W = self.W - self.alpha * dW\n",
        "            self.b = self.b - self.alpha * db \n",
        "        return self\n",
        "\n",
        "    def predict(self, X) :\n",
        "        return (X.dot( self.W ) + self.b)\n",
        "    "
      ],
      "metadata": {
        "id": "z3JZGEHyzfRQ"
      },
      "execution_count": 214,
      "outputs": []
    },
    {
      "cell_type": "code",
      "source": [
        "mse_reg = LiniearRegressionWithMSE(alpha=0.1)"
      ],
      "metadata": {
        "id": "ve7ZkELj0Ggy"
      },
      "execution_count": 215,
      "outputs": []
    },
    {
      "cell_type": "code",
      "source": [
        "mse_reg.fit(X_train, y_train)"
      ],
      "metadata": {
        "id": "Sn8TcTEI0Mbz",
        "colab": {
          "base_uri": "https://localhost:8080/"
        },
        "outputId": "954b9933-8e26-4a7e-f3b7-e6df596c7df3"
      },
      "execution_count": 216,
      "outputs": [
        {
          "output_type": "execute_result",
          "data": {
            "text/plain": [
              "<__main__.LiniearRegressionWithMSE at 0x7f599da4f490>"
            ]
          },
          "metadata": {},
          "execution_count": 216
        }
      ]
    },
    {
      "cell_type": "code",
      "source": [
        "y_pre_mse = mse_reg.predict(X_test)\n"
      ],
      "metadata": {
        "id": "ODCyRrE69aM-"
      },
      "execution_count": 217,
      "outputs": []
    },
    {
      "cell_type": "code",
      "source": [
        "from sklearn import metrics\n",
        "metrics.r2_score(y_test, y_pre_mse)"
      ],
      "metadata": {
        "id": "dJKIeYiS-93H",
        "colab": {
          "base_uri": "https://localhost:8080/"
        },
        "outputId": "bf119ae2-dddd-43cc-ebad-175cda2b140a"
      },
      "execution_count": 218,
      "outputs": [
        {
          "output_type": "execute_result",
          "data": {
            "text/plain": [
              "0.38759939728490267"
            ]
          },
          "metadata": {},
          "execution_count": 218
        }
      ]
    },
    {
      "cell_type": "code",
      "source": [
        "metrics.mean_squared_error(y_test, y_pre_mse)"
      ],
      "metadata": {
        "colab": {
          "base_uri": "https://localhost:8080/"
        },
        "id": "1PgCjt7h1PpI",
        "outputId": "6b0d25ba-120b-406a-ab7d-257b4aa02ea4"
      },
      "execution_count": 219,
      "outputs": [
        {
          "output_type": "execute_result",
          "data": {
            "text/plain": [
              "156736.7871010926"
            ]
          },
          "metadata": {},
          "execution_count": 219
        }
      ]
    },
    {
      "cell_type": "markdown",
      "source": [
        "## 2. Sklearn"
      ],
      "metadata": {
        "id": "DxXAdymhGWyq"
      }
    },
    {
      "cell_type": "code",
      "source": [
        "from sklearn.linear_model import LinearRegression, Lasso, Ridge\n"
      ],
      "metadata": {
        "id": "V5dN2xJmGhZP"
      },
      "execution_count": 220,
      "outputs": []
    },
    {
      "cell_type": "code",
      "source": [
        "linearReg = LinearRegression()"
      ],
      "metadata": {
        "id": "9hZDmty4GWSt"
      },
      "execution_count": 221,
      "outputs": []
    },
    {
      "cell_type": "code",
      "source": [
        "linearReg.fit(X_train, y_train)"
      ],
      "metadata": {
        "colab": {
          "base_uri": "https://localhost:8080/"
        },
        "id": "DEOqmDRjGf7n",
        "outputId": "dc08b7ae-3b32-43e0-fdd4-8faba5cb00de"
      },
      "execution_count": 222,
      "outputs": [
        {
          "output_type": "execute_result",
          "data": {
            "text/plain": [
              "LinearRegression()"
            ]
          },
          "metadata": {},
          "execution_count": 222
        }
      ]
    },
    {
      "cell_type": "code",
      "source": [
        "y_pre_lr = linearReg.predict(X_test)"
      ],
      "metadata": {
        "id": "Dye1aSrKG_mU"
      },
      "execution_count": 223,
      "outputs": []
    },
    {
      "cell_type": "code",
      "source": [
        "metrics.r2_score(y_test, y_pre_lr)"
      ],
      "metadata": {
        "colab": {
          "base_uri": "https://localhost:8080/"
        },
        "id": "tPJnU3vFHIOh",
        "outputId": "cc349c06-6461-4511-948a-7bd8c3f08587"
      },
      "execution_count": 224,
      "outputs": [
        {
          "output_type": "execute_result",
          "data": {
            "text/plain": [
              "0.4209749490045015"
            ]
          },
          "metadata": {},
          "execution_count": 224
        }
      ]
    },
    {
      "cell_type": "code",
      "source": [
        "metrics.mean_squared_error(y_test, y_pre_lr)"
      ],
      "metadata": {
        "colab": {
          "base_uri": "https://localhost:8080/"
        },
        "id": "vsrobiVfo5VM",
        "outputId": "b950d9eb-0586-4f5a-e31c-157d1ba1596d"
      },
      "execution_count": 225,
      "outputs": [
        {
          "output_type": "execute_result",
          "data": {
            "text/plain": [
              "148194.7041556094"
            ]
          },
          "metadata": {},
          "execution_count": 225
        }
      ]
    },
    {
      "cell_type": "markdown",
      "source": [
        "## 3. Lasso and Ridgde"
      ],
      "metadata": {
        "id": "XzQ60j2dIPKF"
      }
    },
    {
      "cell_type": "markdown",
      "source": [
        "### 1. Preprocessing"
      ],
      "metadata": {
        "id": "qgdfeF8_IZs3"
      }
    },
    {
      "cell_type": "code",
      "source": [
        "import pandas as pd\n",
        "\n",
        "df = pd.read_csv('/content/immo_data.csv')\n",
        "df"
      ],
      "metadata": {
        "colab": {
          "base_uri": "https://localhost:8080/",
          "height": 0
        },
        "outputId": "74e8a25f-f748-4436-fa4f-7adcb8b482df",
        "id": "yWk7sCfIIeXN"
      },
      "execution_count": 226,
      "outputs": [
        {
          "output_type": "execute_result",
          "data": {
            "text/plain": [
              "                     regio1  serviceCharge                     heatingType  \\\n",
              "0       Nordrhein_Westfalen         245.00                 central_heating   \n",
              "1           Rheinland_Pfalz         134.00  self_contained_central_heating   \n",
              "2                   Sachsen         255.00                   floor_heating   \n",
              "3                   Sachsen          58.15                district_heating   \n",
              "4                    Bremen         138.00  self_contained_central_heating   \n",
              "...                     ...            ...                             ...   \n",
              "268845               Bayern          90.00                       heat_pump   \n",
              "268846               Hessen         220.00                     gas_heating   \n",
              "268847               Hessen         220.00                 central_heating   \n",
              "268848  Nordrhein_Westfalen         175.00                       heat_pump   \n",
              "268849               Hessen         315.00                 central_heating   \n",
              "\n",
              "       telekomTvOffer  telekomHybridUploadSpeed  newlyConst  balcony  \\\n",
              "0       ONE_YEAR_FREE                       NaN       False    False   \n",
              "1       ONE_YEAR_FREE                       NaN       False     True   \n",
              "2       ONE_YEAR_FREE                      10.0        True     True   \n",
              "3       ONE_YEAR_FREE                       NaN       False     True   \n",
              "4                 NaN                       NaN       False     True   \n",
              "...               ...                       ...         ...      ...   \n",
              "268845  ONE_YEAR_FREE                       NaN       False     True   \n",
              "268846            NaN                       NaN       False     True   \n",
              "268847  ONE_YEAR_FREE                       NaN       False     True   \n",
              "268848            NaN                       NaN        True     True   \n",
              "268849            NaN                       NaN       False     True   \n",
              "\n",
              "        picturecount  pricetrend  telekomUploadSpeed  ...  \\\n",
              "0                  6        4.62                10.0  ...   \n",
              "1                  8        3.47                10.0  ...   \n",
              "2                  8        2.72                 2.4  ...   \n",
              "3                  9        1.53                40.0  ...   \n",
              "4                 19        2.46                 NaN  ...   \n",
              "...              ...         ...                 ...  ...   \n",
              "268845             0        2.74                10.0  ...   \n",
              "268846            12        6.49                 NaN  ...   \n",
              "268847            21        2.90                40.0  ...   \n",
              "268848            16        4.39                 NaN  ...   \n",
              "268849             9        5.00                 NaN  ...   \n",
              "\n",
              "                         regio2                      regio3  \\\n",
              "0                      Dortmund                     Schüren   \n",
              "1             Rhein_Pfalz_Kreis              Böhl_Iggelheim   \n",
              "2                       Dresden  Äußere_Neustadt_Antonstadt   \n",
              "3           Mittelsachsen_Kreis                    Freiberg   \n",
              "4                        Bremen           Neu_Schwachhausen   \n",
              "...                         ...                         ...   \n",
              "268845  Weilheim_Schongau_Kreis                    Eberfing   \n",
              "268846         Bergstraße_Kreis                   Viernheim   \n",
              "268847   Limburg_Weilburg_Kreis         Limburg_an_der_Lahn   \n",
              "268848                     Köln                   Dellbrück   \n",
              "268849        Frankfurt_am_Main                  Sossenheim   \n",
              "\n",
              "                                              description  \\\n",
              "0       Die ebenerdig zu erreichende Erdgeschosswohnun...   \n",
              "1       Alles neu macht der Mai – so kann es auch für ...   \n",
              "2       Der Neubau entsteht im Herzen der Dresdner Neu...   \n",
              "3       Abseits von Lärm und Abgasen in Ihre neue Wohn...   \n",
              "4       Es handelt sich hier um ein saniertes Mehrfami...   \n",
              "...                                                   ...   \n",
              "268845  Diese schöne, neuwertige Wohnung im Dachgescho...   \n",
              "268846  Hier wird eine Wohnung im 2 Familienhaus angeb...   \n",
              "268847  gemütliche 4-Zimmer-Wohnung im Obergeschoss ei...   \n",
              "268848  Neubau Erstbezug, gehobener Standard, alle Ein...   \n",
              "268849  Schöne, helle, gut geschnittene und teilmöblie...   \n",
              "\n",
              "                                               facilities heatingCosts  \\\n",
              "0       Die Wohnung ist mit Laminat ausgelegt. Das Bad...          NaN   \n",
              "1                                                     NaN          NaN   \n",
              "2       * 9 m² Balkon\\n* Bad mit bodengleicher Dusche,...          NaN   \n",
              "3                                                     NaN        87.23   \n",
              "4       Diese Wohnung wurde neu saniert und ist wie fo...          NaN   \n",
              "...                                                   ...          ...   \n",
              "268845         Fliesen und Parkett. Sichtbarer Dachstuhl.          NaN   \n",
              "268846  Parkett, Kamin, Badewanne&Dusche\\nGroßer Balko...          NaN   \n",
              "268847  Böden: Wohn-/Schlafbereich = Laminat, Küche + ...          NaN   \n",
              "268848  Wände:\\nMaler­vlies, weiß gestrichen alter­nat...        40.00   \n",
              "268849  Balkon, Keller, Fahrstuhl, Vollbad, Einbauküch...          NaN   \n",
              "\n",
              "        energyEfficiencyClass lastRefurbish  electricityBasePrice  \\\n",
              "0                         NaN           NaN                   NaN   \n",
              "1                         NaN        2019.0                   NaN   \n",
              "2                         NaN           NaN                   NaN   \n",
              "3                         NaN           NaN                   NaN   \n",
              "4                         NaN           NaN                   NaN   \n",
              "...                       ...           ...                   ...   \n",
              "268845                    NaN           NaN                   NaN   \n",
              "268846                    NaN        2015.0                   NaN   \n",
              "268847                    NaN        2019.0                   NaN   \n",
              "268848         NO_INFORMATION        2019.0                   NaN   \n",
              "268849                    NaN           NaN                   NaN   \n",
              "\n",
              "        electricityKwhPrice   date  \n",
              "0                       NaN  May19  \n",
              "1                       NaN  May19  \n",
              "2                       NaN  Oct19  \n",
              "3                       NaN  May19  \n",
              "4                       NaN  Feb20  \n",
              "...                     ...    ...  \n",
              "268845                  NaN  Feb20  \n",
              "268846                  NaN  May19  \n",
              "268847                  NaN  Feb20  \n",
              "268848                  NaN  May19  \n",
              "268849                  NaN  Feb20  \n",
              "\n",
              "[268850 rows x 49 columns]"
            ],
            "text/html": [
              "\n",
              "  <div id=\"df-81844ab1-cae6-41d2-9a1f-691d30824171\">\n",
              "    <div class=\"colab-df-container\">\n",
              "      <div>\n",
              "<style scoped>\n",
              "    .dataframe tbody tr th:only-of-type {\n",
              "        vertical-align: middle;\n",
              "    }\n",
              "\n",
              "    .dataframe tbody tr th {\n",
              "        vertical-align: top;\n",
              "    }\n",
              "\n",
              "    .dataframe thead th {\n",
              "        text-align: right;\n",
              "    }\n",
              "</style>\n",
              "<table border=\"1\" class=\"dataframe\">\n",
              "  <thead>\n",
              "    <tr style=\"text-align: right;\">\n",
              "      <th></th>\n",
              "      <th>regio1</th>\n",
              "      <th>serviceCharge</th>\n",
              "      <th>heatingType</th>\n",
              "      <th>telekomTvOffer</th>\n",
              "      <th>telekomHybridUploadSpeed</th>\n",
              "      <th>newlyConst</th>\n",
              "      <th>balcony</th>\n",
              "      <th>picturecount</th>\n",
              "      <th>pricetrend</th>\n",
              "      <th>telekomUploadSpeed</th>\n",
              "      <th>...</th>\n",
              "      <th>regio2</th>\n",
              "      <th>regio3</th>\n",
              "      <th>description</th>\n",
              "      <th>facilities</th>\n",
              "      <th>heatingCosts</th>\n",
              "      <th>energyEfficiencyClass</th>\n",
              "      <th>lastRefurbish</th>\n",
              "      <th>electricityBasePrice</th>\n",
              "      <th>electricityKwhPrice</th>\n",
              "      <th>date</th>\n",
              "    </tr>\n",
              "  </thead>\n",
              "  <tbody>\n",
              "    <tr>\n",
              "      <th>0</th>\n",
              "      <td>Nordrhein_Westfalen</td>\n",
              "      <td>245.00</td>\n",
              "      <td>central_heating</td>\n",
              "      <td>ONE_YEAR_FREE</td>\n",
              "      <td>NaN</td>\n",
              "      <td>False</td>\n",
              "      <td>False</td>\n",
              "      <td>6</td>\n",
              "      <td>4.62</td>\n",
              "      <td>10.0</td>\n",
              "      <td>...</td>\n",
              "      <td>Dortmund</td>\n",
              "      <td>Schüren</td>\n",
              "      <td>Die ebenerdig zu erreichende Erdgeschosswohnun...</td>\n",
              "      <td>Die Wohnung ist mit Laminat ausgelegt. Das Bad...</td>\n",
              "      <td>NaN</td>\n",
              "      <td>NaN</td>\n",
              "      <td>NaN</td>\n",
              "      <td>NaN</td>\n",
              "      <td>NaN</td>\n",
              "      <td>May19</td>\n",
              "    </tr>\n",
              "    <tr>\n",
              "      <th>1</th>\n",
              "      <td>Rheinland_Pfalz</td>\n",
              "      <td>134.00</td>\n",
              "      <td>self_contained_central_heating</td>\n",
              "      <td>ONE_YEAR_FREE</td>\n",
              "      <td>NaN</td>\n",
              "      <td>False</td>\n",
              "      <td>True</td>\n",
              "      <td>8</td>\n",
              "      <td>3.47</td>\n",
              "      <td>10.0</td>\n",
              "      <td>...</td>\n",
              "      <td>Rhein_Pfalz_Kreis</td>\n",
              "      <td>Böhl_Iggelheim</td>\n",
              "      <td>Alles neu macht der Mai – so kann es auch für ...</td>\n",
              "      <td>NaN</td>\n",
              "      <td>NaN</td>\n",
              "      <td>NaN</td>\n",
              "      <td>2019.0</td>\n",
              "      <td>NaN</td>\n",
              "      <td>NaN</td>\n",
              "      <td>May19</td>\n",
              "    </tr>\n",
              "    <tr>\n",
              "      <th>2</th>\n",
              "      <td>Sachsen</td>\n",
              "      <td>255.00</td>\n",
              "      <td>floor_heating</td>\n",
              "      <td>ONE_YEAR_FREE</td>\n",
              "      <td>10.0</td>\n",
              "      <td>True</td>\n",
              "      <td>True</td>\n",
              "      <td>8</td>\n",
              "      <td>2.72</td>\n",
              "      <td>2.4</td>\n",
              "      <td>...</td>\n",
              "      <td>Dresden</td>\n",
              "      <td>Äußere_Neustadt_Antonstadt</td>\n",
              "      <td>Der Neubau entsteht im Herzen der Dresdner Neu...</td>\n",
              "      <td>* 9 m² Balkon\\n* Bad mit bodengleicher Dusche,...</td>\n",
              "      <td>NaN</td>\n",
              "      <td>NaN</td>\n",
              "      <td>NaN</td>\n",
              "      <td>NaN</td>\n",
              "      <td>NaN</td>\n",
              "      <td>Oct19</td>\n",
              "    </tr>\n",
              "    <tr>\n",
              "      <th>3</th>\n",
              "      <td>Sachsen</td>\n",
              "      <td>58.15</td>\n",
              "      <td>district_heating</td>\n",
              "      <td>ONE_YEAR_FREE</td>\n",
              "      <td>NaN</td>\n",
              "      <td>False</td>\n",
              "      <td>True</td>\n",
              "      <td>9</td>\n",
              "      <td>1.53</td>\n",
              "      <td>40.0</td>\n",
              "      <td>...</td>\n",
              "      <td>Mittelsachsen_Kreis</td>\n",
              "      <td>Freiberg</td>\n",
              "      <td>Abseits von Lärm und Abgasen in Ihre neue Wohn...</td>\n",
              "      <td>NaN</td>\n",
              "      <td>87.23</td>\n",
              "      <td>NaN</td>\n",
              "      <td>NaN</td>\n",
              "      <td>NaN</td>\n",
              "      <td>NaN</td>\n",
              "      <td>May19</td>\n",
              "    </tr>\n",
              "    <tr>\n",
              "      <th>4</th>\n",
              "      <td>Bremen</td>\n",
              "      <td>138.00</td>\n",
              "      <td>self_contained_central_heating</td>\n",
              "      <td>NaN</td>\n",
              "      <td>NaN</td>\n",
              "      <td>False</td>\n",
              "      <td>True</td>\n",
              "      <td>19</td>\n",
              "      <td>2.46</td>\n",
              "      <td>NaN</td>\n",
              "      <td>...</td>\n",
              "      <td>Bremen</td>\n",
              "      <td>Neu_Schwachhausen</td>\n",
              "      <td>Es handelt sich hier um ein saniertes Mehrfami...</td>\n",
              "      <td>Diese Wohnung wurde neu saniert und ist wie fo...</td>\n",
              "      <td>NaN</td>\n",
              "      <td>NaN</td>\n",
              "      <td>NaN</td>\n",
              "      <td>NaN</td>\n",
              "      <td>NaN</td>\n",
              "      <td>Feb20</td>\n",
              "    </tr>\n",
              "    <tr>\n",
              "      <th>...</th>\n",
              "      <td>...</td>\n",
              "      <td>...</td>\n",
              "      <td>...</td>\n",
              "      <td>...</td>\n",
              "      <td>...</td>\n",
              "      <td>...</td>\n",
              "      <td>...</td>\n",
              "      <td>...</td>\n",
              "      <td>...</td>\n",
              "      <td>...</td>\n",
              "      <td>...</td>\n",
              "      <td>...</td>\n",
              "      <td>...</td>\n",
              "      <td>...</td>\n",
              "      <td>...</td>\n",
              "      <td>...</td>\n",
              "      <td>...</td>\n",
              "      <td>...</td>\n",
              "      <td>...</td>\n",
              "      <td>...</td>\n",
              "      <td>...</td>\n",
              "    </tr>\n",
              "    <tr>\n",
              "      <th>268845</th>\n",
              "      <td>Bayern</td>\n",
              "      <td>90.00</td>\n",
              "      <td>heat_pump</td>\n",
              "      <td>ONE_YEAR_FREE</td>\n",
              "      <td>NaN</td>\n",
              "      <td>False</td>\n",
              "      <td>True</td>\n",
              "      <td>0</td>\n",
              "      <td>2.74</td>\n",
              "      <td>10.0</td>\n",
              "      <td>...</td>\n",
              "      <td>Weilheim_Schongau_Kreis</td>\n",
              "      <td>Eberfing</td>\n",
              "      <td>Diese schöne, neuwertige Wohnung im Dachgescho...</td>\n",
              "      <td>Fliesen und Parkett. Sichtbarer Dachstuhl.</td>\n",
              "      <td>NaN</td>\n",
              "      <td>NaN</td>\n",
              "      <td>NaN</td>\n",
              "      <td>NaN</td>\n",
              "      <td>NaN</td>\n",
              "      <td>Feb20</td>\n",
              "    </tr>\n",
              "    <tr>\n",
              "      <th>268846</th>\n",
              "      <td>Hessen</td>\n",
              "      <td>220.00</td>\n",
              "      <td>gas_heating</td>\n",
              "      <td>NaN</td>\n",
              "      <td>NaN</td>\n",
              "      <td>False</td>\n",
              "      <td>True</td>\n",
              "      <td>12</td>\n",
              "      <td>6.49</td>\n",
              "      <td>NaN</td>\n",
              "      <td>...</td>\n",
              "      <td>Bergstraße_Kreis</td>\n",
              "      <td>Viernheim</td>\n",
              "      <td>Hier wird eine Wohnung im 2 Familienhaus angeb...</td>\n",
              "      <td>Parkett, Kamin, Badewanne&amp;Dusche\\nGroßer Balko...</td>\n",
              "      <td>NaN</td>\n",
              "      <td>NaN</td>\n",
              "      <td>2015.0</td>\n",
              "      <td>NaN</td>\n",
              "      <td>NaN</td>\n",
              "      <td>May19</td>\n",
              "    </tr>\n",
              "    <tr>\n",
              "      <th>268847</th>\n",
              "      <td>Hessen</td>\n",
              "      <td>220.00</td>\n",
              "      <td>central_heating</td>\n",
              "      <td>ONE_YEAR_FREE</td>\n",
              "      <td>NaN</td>\n",
              "      <td>False</td>\n",
              "      <td>True</td>\n",
              "      <td>21</td>\n",
              "      <td>2.90</td>\n",
              "      <td>40.0</td>\n",
              "      <td>...</td>\n",
              "      <td>Limburg_Weilburg_Kreis</td>\n",
              "      <td>Limburg_an_der_Lahn</td>\n",
              "      <td>gemütliche 4-Zimmer-Wohnung im Obergeschoss ei...</td>\n",
              "      <td>Böden: Wohn-/Schlafbereich = Laminat, Küche + ...</td>\n",
              "      <td>NaN</td>\n",
              "      <td>NaN</td>\n",
              "      <td>2019.0</td>\n",
              "      <td>NaN</td>\n",
              "      <td>NaN</td>\n",
              "      <td>Feb20</td>\n",
              "    </tr>\n",
              "    <tr>\n",
              "      <th>268848</th>\n",
              "      <td>Nordrhein_Westfalen</td>\n",
              "      <td>175.00</td>\n",
              "      <td>heat_pump</td>\n",
              "      <td>NaN</td>\n",
              "      <td>NaN</td>\n",
              "      <td>True</td>\n",
              "      <td>True</td>\n",
              "      <td>16</td>\n",
              "      <td>4.39</td>\n",
              "      <td>NaN</td>\n",
              "      <td>...</td>\n",
              "      <td>Köln</td>\n",
              "      <td>Dellbrück</td>\n",
              "      <td>Neubau Erstbezug, gehobener Standard, alle Ein...</td>\n",
              "      <td>Wände:\\nMaler­vlies, weiß gestrichen alter­nat...</td>\n",
              "      <td>40.00</td>\n",
              "      <td>NO_INFORMATION</td>\n",
              "      <td>2019.0</td>\n",
              "      <td>NaN</td>\n",
              "      <td>NaN</td>\n",
              "      <td>May19</td>\n",
              "    </tr>\n",
              "    <tr>\n",
              "      <th>268849</th>\n",
              "      <td>Hessen</td>\n",
              "      <td>315.00</td>\n",
              "      <td>central_heating</td>\n",
              "      <td>NaN</td>\n",
              "      <td>NaN</td>\n",
              "      <td>False</td>\n",
              "      <td>True</td>\n",
              "      <td>9</td>\n",
              "      <td>5.00</td>\n",
              "      <td>NaN</td>\n",
              "      <td>...</td>\n",
              "      <td>Frankfurt_am_Main</td>\n",
              "      <td>Sossenheim</td>\n",
              "      <td>Schöne, helle, gut geschnittene und teilmöblie...</td>\n",
              "      <td>Balkon, Keller, Fahrstuhl, Vollbad, Einbauküch...</td>\n",
              "      <td>NaN</td>\n",
              "      <td>NaN</td>\n",
              "      <td>NaN</td>\n",
              "      <td>NaN</td>\n",
              "      <td>NaN</td>\n",
              "      <td>Feb20</td>\n",
              "    </tr>\n",
              "  </tbody>\n",
              "</table>\n",
              "<p>268850 rows × 49 columns</p>\n",
              "</div>\n",
              "      <button class=\"colab-df-convert\" onclick=\"convertToInteractive('df-81844ab1-cae6-41d2-9a1f-691d30824171')\"\n",
              "              title=\"Convert this dataframe to an interactive table.\"\n",
              "              style=\"display:none;\">\n",
              "        \n",
              "  <svg xmlns=\"http://www.w3.org/2000/svg\" height=\"24px\"viewBox=\"0 0 24 24\"\n",
              "       width=\"24px\">\n",
              "    <path d=\"M0 0h24v24H0V0z\" fill=\"none\"/>\n",
              "    <path d=\"M18.56 5.44l.94 2.06.94-2.06 2.06-.94-2.06-.94-.94-2.06-.94 2.06-2.06.94zm-11 1L8.5 8.5l.94-2.06 2.06-.94-2.06-.94L8.5 2.5l-.94 2.06-2.06.94zm10 10l.94 2.06.94-2.06 2.06-.94-2.06-.94-.94-2.06-.94 2.06-2.06.94z\"/><path d=\"M17.41 7.96l-1.37-1.37c-.4-.4-.92-.59-1.43-.59-.52 0-1.04.2-1.43.59L10.3 9.45l-7.72 7.72c-.78.78-.78 2.05 0 2.83L4 21.41c.39.39.9.59 1.41.59.51 0 1.02-.2 1.41-.59l7.78-7.78 2.81-2.81c.8-.78.8-2.07 0-2.86zM5.41 20L4 18.59l7.72-7.72 1.47 1.35L5.41 20z\"/>\n",
              "  </svg>\n",
              "      </button>\n",
              "      \n",
              "  <style>\n",
              "    .colab-df-container {\n",
              "      display:flex;\n",
              "      flex-wrap:wrap;\n",
              "      gap: 12px;\n",
              "    }\n",
              "\n",
              "    .colab-df-convert {\n",
              "      background-color: #E8F0FE;\n",
              "      border: none;\n",
              "      border-radius: 50%;\n",
              "      cursor: pointer;\n",
              "      display: none;\n",
              "      fill: #1967D2;\n",
              "      height: 32px;\n",
              "      padding: 0 0 0 0;\n",
              "      width: 32px;\n",
              "    }\n",
              "\n",
              "    .colab-df-convert:hover {\n",
              "      background-color: #E2EBFA;\n",
              "      box-shadow: 0px 1px 2px rgba(60, 64, 67, 0.3), 0px 1px 3px 1px rgba(60, 64, 67, 0.15);\n",
              "      fill: #174EA6;\n",
              "    }\n",
              "\n",
              "    [theme=dark] .colab-df-convert {\n",
              "      background-color: #3B4455;\n",
              "      fill: #D2E3FC;\n",
              "    }\n",
              "\n",
              "    [theme=dark] .colab-df-convert:hover {\n",
              "      background-color: #434B5C;\n",
              "      box-shadow: 0px 1px 3px 1px rgba(0, 0, 0, 0.15);\n",
              "      filter: drop-shadow(0px 1px 2px rgba(0, 0, 0, 0.3));\n",
              "      fill: #FFFFFF;\n",
              "    }\n",
              "  </style>\n",
              "\n",
              "      <script>\n",
              "        const buttonEl =\n",
              "          document.querySelector('#df-81844ab1-cae6-41d2-9a1f-691d30824171 button.colab-df-convert');\n",
              "        buttonEl.style.display =\n",
              "          google.colab.kernel.accessAllowed ? 'block' : 'none';\n",
              "\n",
              "        async function convertToInteractive(key) {\n",
              "          const element = document.querySelector('#df-81844ab1-cae6-41d2-9a1f-691d30824171');\n",
              "          const dataTable =\n",
              "            await google.colab.kernel.invokeFunction('convertToInteractive',\n",
              "                                                     [key], {});\n",
              "          if (!dataTable) return;\n",
              "\n",
              "          const docLinkHtml = 'Like what you see? Visit the ' +\n",
              "            '<a target=\"_blank\" href=https://colab.research.google.com/notebooks/data_table.ipynb>data table notebook</a>'\n",
              "            + ' to learn more about interactive tables.';\n",
              "          element.innerHTML = '';\n",
              "          dataTable['output_type'] = 'display_data';\n",
              "          await google.colab.output.renderOutput(dataTable, element);\n",
              "          const docLink = document.createElement('div');\n",
              "          docLink.innerHTML = docLinkHtml;\n",
              "          element.appendChild(docLink);\n",
              "        }\n",
              "      </script>\n",
              "    </div>\n",
              "  </div>\n",
              "  "
            ]
          },
          "metadata": {},
          "execution_count": 226
        }
      ]
    },
    {
      "cell_type": "code",
      "source": [
        "df.info()"
      ],
      "metadata": {
        "colab": {
          "base_uri": "https://localhost:8080/"
        },
        "outputId": "1e358f4b-906e-4a99-d76c-554f8d3850ad",
        "id": "FMiruV85IeXO"
      },
      "execution_count": 227,
      "outputs": [
        {
          "output_type": "stream",
          "name": "stdout",
          "text": [
            "<class 'pandas.core.frame.DataFrame'>\n",
            "RangeIndex: 268850 entries, 0 to 268849\n",
            "Data columns (total 49 columns):\n",
            " #   Column                    Non-Null Count   Dtype  \n",
            "---  ------                    --------------   -----  \n",
            " 0   regio1                    268850 non-null  object \n",
            " 1   serviceCharge             261941 non-null  float64\n",
            " 2   heatingType               223994 non-null  object \n",
            " 3   telekomTvOffer            236231 non-null  object \n",
            " 4   telekomHybridUploadSpeed  45020 non-null   float64\n",
            " 5   newlyConst                268850 non-null  bool   \n",
            " 6   balcony                   268850 non-null  bool   \n",
            " 7   picturecount              268850 non-null  int64  \n",
            " 8   pricetrend                267018 non-null  float64\n",
            " 9   telekomUploadSpeed        235492 non-null  float64\n",
            " 10  totalRent                 228333 non-null  float64\n",
            " 11  yearConstructed           211805 non-null  float64\n",
            " 12  scoutId                   268850 non-null  int64  \n",
            " 13  noParkSpaces              93052 non-null   float64\n",
            " 14  firingTypes               211886 non-null  object \n",
            " 15  hasKitchen                268850 non-null  bool   \n",
            " 16  geo_bln                   268850 non-null  object \n",
            " 17  cellar                    268850 non-null  bool   \n",
            " 18  yearConstructedRange      211805 non-null  float64\n",
            " 19  baseRent                  268850 non-null  float64\n",
            " 20  houseNumber               197832 non-null  object \n",
            " 21  livingSpace               268850 non-null  float64\n",
            " 22  geo_krs                   268850 non-null  object \n",
            " 23  condition                 200361 non-null  object \n",
            " 24  interiorQual              156185 non-null  object \n",
            " 25  petsAllowed               154277 non-null  object \n",
            " 26  street                    268850 non-null  object \n",
            " 27  streetPlain               197837 non-null  object \n",
            " 28  lift                      268850 non-null  bool   \n",
            " 29  baseRentRange             268850 non-null  int64  \n",
            " 30  typeOfFlat                232236 non-null  object \n",
            " 31  geo_plz                   268850 non-null  int64  \n",
            " 32  noRooms                   268850 non-null  float64\n",
            " 33  thermalChar               162344 non-null  float64\n",
            " 34  floor                     217541 non-null  float64\n",
            " 35  numberOfFloors            171118 non-null  float64\n",
            " 36  noRoomsRange              268850 non-null  int64  \n",
            " 37  garden                    268850 non-null  bool   \n",
            " 38  livingSpaceRange          268850 non-null  int64  \n",
            " 39  regio2                    268850 non-null  object \n",
            " 40  regio3                    268850 non-null  object \n",
            " 41  description               249103 non-null  object \n",
            " 42  facilities                215926 non-null  object \n",
            " 43  heatingCosts              85518 non-null   float64\n",
            " 44  energyEfficiencyClass     77787 non-null   object \n",
            " 45  lastRefurbish             80711 non-null   float64\n",
            " 46  electricityBasePrice      46846 non-null   float64\n",
            " 47  electricityKwhPrice       46846 non-null   float64\n",
            " 48  date                      268850 non-null  object \n",
            "dtypes: bool(6), float64(18), int64(6), object(19)\n",
            "memory usage: 89.7+ MB\n"
          ]
        }
      ]
    },
    {
      "cell_type": "code",
      "source": [
        "df.describe()"
      ],
      "metadata": {
        "id": "Dsiv__kqf0pj",
        "colab": {
          "base_uri": "https://localhost:8080/",
          "height": 0
        },
        "outputId": "8c10b00c-f91d-4574-cedf-92427a27fd95"
      },
      "execution_count": 228,
      "outputs": [
        {
          "output_type": "execute_result",
          "data": {
            "text/plain": [
              "       serviceCharge  telekomHybridUploadSpeed   picturecount     pricetrend  \\\n",
              "count  261941.000000                   45020.0  268850.000000  267018.000000   \n",
              "mean      151.206113                      10.0       9.791958       3.389001   \n",
              "std       308.295790                       0.0       6.408399       1.964874   \n",
              "min         0.000000                      10.0       0.000000     -12.330000   \n",
              "25%        95.000000                      10.0       6.000000       2.000000   \n",
              "50%       135.000000                      10.0       9.000000       3.390000   \n",
              "75%       190.000000                      10.0      13.000000       4.570000   \n",
              "max    146118.000000                      10.0     121.000000      14.920000   \n",
              "\n",
              "       telekomUploadSpeed     totalRent  yearConstructed       scoutId  \\\n",
              "count       235492.000000  2.283330e+05    211805.000000  2.688500e+05   \n",
              "mean            28.804928  9.013315e+02      1966.400590  1.069697e+08   \n",
              "std             16.337151  3.323833e+04        46.992207  1.250093e+07   \n",
              "min              1.000000  0.000000e+00      1000.000000  2.887174e+07   \n",
              "25%             10.000000  4.698000e+02      1950.000000  1.066910e+08   \n",
              "50%             40.000000  6.500000e+02      1973.000000  1.111584e+08   \n",
              "75%             40.000000  9.850000e+02      1996.000000  1.137688e+08   \n",
              "max            100.000000  1.575154e+07      2090.000000  1.157117e+08   \n",
              "\n",
              "       noParkSpaces  yearConstructedRange  ...        noRooms    thermalChar  \\\n",
              "count  93052.000000         211805.000000  ...  268850.000000  162344.000000   \n",
              "mean       1.327634              3.714544  ...       2.641261     114.749533   \n",
              "std        8.361403              2.738134  ...       2.633440      61.653663   \n",
              "min        0.000000              1.000000  ...       1.000000       0.100000   \n",
              "25%        1.000000              1.000000  ...       2.000000      79.000000   \n",
              "50%        1.000000              3.000000  ...       3.000000     107.000000   \n",
              "75%        1.000000              5.000000  ...       3.000000     140.300000   \n",
              "max     2241.000000              9.000000  ...     999.990000    1996.000000   \n",
              "\n",
              "               floor  numberOfFloors   noRoomsRange  livingSpaceRange  \\\n",
              "count  217541.000000   171118.000000  268850.000000     268850.000000   \n",
              "mean        2.122405        3.572319       2.571542          3.070790   \n",
              "std         3.634934        6.375496       0.937594          1.407127   \n",
              "min        -1.000000        0.000000       1.000000          1.000000   \n",
              "25%         1.000000        2.000000       2.000000          2.000000   \n",
              "50%         2.000000        3.000000       3.000000          3.000000   \n",
              "75%         3.000000        4.000000       3.000000          4.000000   \n",
              "max       999.000000      999.000000       5.000000          7.000000   \n",
              "\n",
              "       heatingCosts  lastRefurbish  electricityBasePrice  electricityKwhPrice  \n",
              "count  85518.000000   80711.000000          46846.000000         46846.000000  \n",
              "mean      76.990866    2013.904536             89.113612             0.199769  \n",
              "std      147.716278      10.963125              5.395805             0.009667  \n",
              "min        0.000000    1015.000000             71.430000             0.170500  \n",
              "25%       54.000000    2012.000000             90.760000             0.191500  \n",
              "50%       70.000000    2017.000000             90.760000             0.198500  \n",
              "75%       90.000000    2019.000000             90.760000             0.205500  \n",
              "max    12613.000000    2919.000000             90.760000             0.227600  \n",
              "\n",
              "[8 rows x 24 columns]"
            ],
            "text/html": [
              "\n",
              "  <div id=\"df-aacb8d16-d23a-4b77-b923-aefa40044a95\">\n",
              "    <div class=\"colab-df-container\">\n",
              "      <div>\n",
              "<style scoped>\n",
              "    .dataframe tbody tr th:only-of-type {\n",
              "        vertical-align: middle;\n",
              "    }\n",
              "\n",
              "    .dataframe tbody tr th {\n",
              "        vertical-align: top;\n",
              "    }\n",
              "\n",
              "    .dataframe thead th {\n",
              "        text-align: right;\n",
              "    }\n",
              "</style>\n",
              "<table border=\"1\" class=\"dataframe\">\n",
              "  <thead>\n",
              "    <tr style=\"text-align: right;\">\n",
              "      <th></th>\n",
              "      <th>serviceCharge</th>\n",
              "      <th>telekomHybridUploadSpeed</th>\n",
              "      <th>picturecount</th>\n",
              "      <th>pricetrend</th>\n",
              "      <th>telekomUploadSpeed</th>\n",
              "      <th>totalRent</th>\n",
              "      <th>yearConstructed</th>\n",
              "      <th>scoutId</th>\n",
              "      <th>noParkSpaces</th>\n",
              "      <th>yearConstructedRange</th>\n",
              "      <th>...</th>\n",
              "      <th>noRooms</th>\n",
              "      <th>thermalChar</th>\n",
              "      <th>floor</th>\n",
              "      <th>numberOfFloors</th>\n",
              "      <th>noRoomsRange</th>\n",
              "      <th>livingSpaceRange</th>\n",
              "      <th>heatingCosts</th>\n",
              "      <th>lastRefurbish</th>\n",
              "      <th>electricityBasePrice</th>\n",
              "      <th>electricityKwhPrice</th>\n",
              "    </tr>\n",
              "  </thead>\n",
              "  <tbody>\n",
              "    <tr>\n",
              "      <th>count</th>\n",
              "      <td>261941.000000</td>\n",
              "      <td>45020.0</td>\n",
              "      <td>268850.000000</td>\n",
              "      <td>267018.000000</td>\n",
              "      <td>235492.000000</td>\n",
              "      <td>2.283330e+05</td>\n",
              "      <td>211805.000000</td>\n",
              "      <td>2.688500e+05</td>\n",
              "      <td>93052.000000</td>\n",
              "      <td>211805.000000</td>\n",
              "      <td>...</td>\n",
              "      <td>268850.000000</td>\n",
              "      <td>162344.000000</td>\n",
              "      <td>217541.000000</td>\n",
              "      <td>171118.000000</td>\n",
              "      <td>268850.000000</td>\n",
              "      <td>268850.000000</td>\n",
              "      <td>85518.000000</td>\n",
              "      <td>80711.000000</td>\n",
              "      <td>46846.000000</td>\n",
              "      <td>46846.000000</td>\n",
              "    </tr>\n",
              "    <tr>\n",
              "      <th>mean</th>\n",
              "      <td>151.206113</td>\n",
              "      <td>10.0</td>\n",
              "      <td>9.791958</td>\n",
              "      <td>3.389001</td>\n",
              "      <td>28.804928</td>\n",
              "      <td>9.013315e+02</td>\n",
              "      <td>1966.400590</td>\n",
              "      <td>1.069697e+08</td>\n",
              "      <td>1.327634</td>\n",
              "      <td>3.714544</td>\n",
              "      <td>...</td>\n",
              "      <td>2.641261</td>\n",
              "      <td>114.749533</td>\n",
              "      <td>2.122405</td>\n",
              "      <td>3.572319</td>\n",
              "      <td>2.571542</td>\n",
              "      <td>3.070790</td>\n",
              "      <td>76.990866</td>\n",
              "      <td>2013.904536</td>\n",
              "      <td>89.113612</td>\n",
              "      <td>0.199769</td>\n",
              "    </tr>\n",
              "    <tr>\n",
              "      <th>std</th>\n",
              "      <td>308.295790</td>\n",
              "      <td>0.0</td>\n",
              "      <td>6.408399</td>\n",
              "      <td>1.964874</td>\n",
              "      <td>16.337151</td>\n",
              "      <td>3.323833e+04</td>\n",
              "      <td>46.992207</td>\n",
              "      <td>1.250093e+07</td>\n",
              "      <td>8.361403</td>\n",
              "      <td>2.738134</td>\n",
              "      <td>...</td>\n",
              "      <td>2.633440</td>\n",
              "      <td>61.653663</td>\n",
              "      <td>3.634934</td>\n",
              "      <td>6.375496</td>\n",
              "      <td>0.937594</td>\n",
              "      <td>1.407127</td>\n",
              "      <td>147.716278</td>\n",
              "      <td>10.963125</td>\n",
              "      <td>5.395805</td>\n",
              "      <td>0.009667</td>\n",
              "    </tr>\n",
              "    <tr>\n",
              "      <th>min</th>\n",
              "      <td>0.000000</td>\n",
              "      <td>10.0</td>\n",
              "      <td>0.000000</td>\n",
              "      <td>-12.330000</td>\n",
              "      <td>1.000000</td>\n",
              "      <td>0.000000e+00</td>\n",
              "      <td>1000.000000</td>\n",
              "      <td>2.887174e+07</td>\n",
              "      <td>0.000000</td>\n",
              "      <td>1.000000</td>\n",
              "      <td>...</td>\n",
              "      <td>1.000000</td>\n",
              "      <td>0.100000</td>\n",
              "      <td>-1.000000</td>\n",
              "      <td>0.000000</td>\n",
              "      <td>1.000000</td>\n",
              "      <td>1.000000</td>\n",
              "      <td>0.000000</td>\n",
              "      <td>1015.000000</td>\n",
              "      <td>71.430000</td>\n",
              "      <td>0.170500</td>\n",
              "    </tr>\n",
              "    <tr>\n",
              "      <th>25%</th>\n",
              "      <td>95.000000</td>\n",
              "      <td>10.0</td>\n",
              "      <td>6.000000</td>\n",
              "      <td>2.000000</td>\n",
              "      <td>10.000000</td>\n",
              "      <td>4.698000e+02</td>\n",
              "      <td>1950.000000</td>\n",
              "      <td>1.066910e+08</td>\n",
              "      <td>1.000000</td>\n",
              "      <td>1.000000</td>\n",
              "      <td>...</td>\n",
              "      <td>2.000000</td>\n",
              "      <td>79.000000</td>\n",
              "      <td>1.000000</td>\n",
              "      <td>2.000000</td>\n",
              "      <td>2.000000</td>\n",
              "      <td>2.000000</td>\n",
              "      <td>54.000000</td>\n",
              "      <td>2012.000000</td>\n",
              "      <td>90.760000</td>\n",
              "      <td>0.191500</td>\n",
              "    </tr>\n",
              "    <tr>\n",
              "      <th>50%</th>\n",
              "      <td>135.000000</td>\n",
              "      <td>10.0</td>\n",
              "      <td>9.000000</td>\n",
              "      <td>3.390000</td>\n",
              "      <td>40.000000</td>\n",
              "      <td>6.500000e+02</td>\n",
              "      <td>1973.000000</td>\n",
              "      <td>1.111584e+08</td>\n",
              "      <td>1.000000</td>\n",
              "      <td>3.000000</td>\n",
              "      <td>...</td>\n",
              "      <td>3.000000</td>\n",
              "      <td>107.000000</td>\n",
              "      <td>2.000000</td>\n",
              "      <td>3.000000</td>\n",
              "      <td>3.000000</td>\n",
              "      <td>3.000000</td>\n",
              "      <td>70.000000</td>\n",
              "      <td>2017.000000</td>\n",
              "      <td>90.760000</td>\n",
              "      <td>0.198500</td>\n",
              "    </tr>\n",
              "    <tr>\n",
              "      <th>75%</th>\n",
              "      <td>190.000000</td>\n",
              "      <td>10.0</td>\n",
              "      <td>13.000000</td>\n",
              "      <td>4.570000</td>\n",
              "      <td>40.000000</td>\n",
              "      <td>9.850000e+02</td>\n",
              "      <td>1996.000000</td>\n",
              "      <td>1.137688e+08</td>\n",
              "      <td>1.000000</td>\n",
              "      <td>5.000000</td>\n",
              "      <td>...</td>\n",
              "      <td>3.000000</td>\n",
              "      <td>140.300000</td>\n",
              "      <td>3.000000</td>\n",
              "      <td>4.000000</td>\n",
              "      <td>3.000000</td>\n",
              "      <td>4.000000</td>\n",
              "      <td>90.000000</td>\n",
              "      <td>2019.000000</td>\n",
              "      <td>90.760000</td>\n",
              "      <td>0.205500</td>\n",
              "    </tr>\n",
              "    <tr>\n",
              "      <th>max</th>\n",
              "      <td>146118.000000</td>\n",
              "      <td>10.0</td>\n",
              "      <td>121.000000</td>\n",
              "      <td>14.920000</td>\n",
              "      <td>100.000000</td>\n",
              "      <td>1.575154e+07</td>\n",
              "      <td>2090.000000</td>\n",
              "      <td>1.157117e+08</td>\n",
              "      <td>2241.000000</td>\n",
              "      <td>9.000000</td>\n",
              "      <td>...</td>\n",
              "      <td>999.990000</td>\n",
              "      <td>1996.000000</td>\n",
              "      <td>999.000000</td>\n",
              "      <td>999.000000</td>\n",
              "      <td>5.000000</td>\n",
              "      <td>7.000000</td>\n",
              "      <td>12613.000000</td>\n",
              "      <td>2919.000000</td>\n",
              "      <td>90.760000</td>\n",
              "      <td>0.227600</td>\n",
              "    </tr>\n",
              "  </tbody>\n",
              "</table>\n",
              "<p>8 rows × 24 columns</p>\n",
              "</div>\n",
              "      <button class=\"colab-df-convert\" onclick=\"convertToInteractive('df-aacb8d16-d23a-4b77-b923-aefa40044a95')\"\n",
              "              title=\"Convert this dataframe to an interactive table.\"\n",
              "              style=\"display:none;\">\n",
              "        \n",
              "  <svg xmlns=\"http://www.w3.org/2000/svg\" height=\"24px\"viewBox=\"0 0 24 24\"\n",
              "       width=\"24px\">\n",
              "    <path d=\"M0 0h24v24H0V0z\" fill=\"none\"/>\n",
              "    <path d=\"M18.56 5.44l.94 2.06.94-2.06 2.06-.94-2.06-.94-.94-2.06-.94 2.06-2.06.94zm-11 1L8.5 8.5l.94-2.06 2.06-.94-2.06-.94L8.5 2.5l-.94 2.06-2.06.94zm10 10l.94 2.06.94-2.06 2.06-.94-2.06-.94-.94-2.06-.94 2.06-2.06.94z\"/><path d=\"M17.41 7.96l-1.37-1.37c-.4-.4-.92-.59-1.43-.59-.52 0-1.04.2-1.43.59L10.3 9.45l-7.72 7.72c-.78.78-.78 2.05 0 2.83L4 21.41c.39.39.9.59 1.41.59.51 0 1.02-.2 1.41-.59l7.78-7.78 2.81-2.81c.8-.78.8-2.07 0-2.86zM5.41 20L4 18.59l7.72-7.72 1.47 1.35L5.41 20z\"/>\n",
              "  </svg>\n",
              "      </button>\n",
              "      \n",
              "  <style>\n",
              "    .colab-df-container {\n",
              "      display:flex;\n",
              "      flex-wrap:wrap;\n",
              "      gap: 12px;\n",
              "    }\n",
              "\n",
              "    .colab-df-convert {\n",
              "      background-color: #E8F0FE;\n",
              "      border: none;\n",
              "      border-radius: 50%;\n",
              "      cursor: pointer;\n",
              "      display: none;\n",
              "      fill: #1967D2;\n",
              "      height: 32px;\n",
              "      padding: 0 0 0 0;\n",
              "      width: 32px;\n",
              "    }\n",
              "\n",
              "    .colab-df-convert:hover {\n",
              "      background-color: #E2EBFA;\n",
              "      box-shadow: 0px 1px 2px rgba(60, 64, 67, 0.3), 0px 1px 3px 1px rgba(60, 64, 67, 0.15);\n",
              "      fill: #174EA6;\n",
              "    }\n",
              "\n",
              "    [theme=dark] .colab-df-convert {\n",
              "      background-color: #3B4455;\n",
              "      fill: #D2E3FC;\n",
              "    }\n",
              "\n",
              "    [theme=dark] .colab-df-convert:hover {\n",
              "      background-color: #434B5C;\n",
              "      box-shadow: 0px 1px 3px 1px rgba(0, 0, 0, 0.15);\n",
              "      filter: drop-shadow(0px 1px 2px rgba(0, 0, 0, 0.3));\n",
              "      fill: #FFFFFF;\n",
              "    }\n",
              "  </style>\n",
              "\n",
              "      <script>\n",
              "        const buttonEl =\n",
              "          document.querySelector('#df-aacb8d16-d23a-4b77-b923-aefa40044a95 button.colab-df-convert');\n",
              "        buttonEl.style.display =\n",
              "          google.colab.kernel.accessAllowed ? 'block' : 'none';\n",
              "\n",
              "        async function convertToInteractive(key) {\n",
              "          const element = document.querySelector('#df-aacb8d16-d23a-4b77-b923-aefa40044a95');\n",
              "          const dataTable =\n",
              "            await google.colab.kernel.invokeFunction('convertToInteractive',\n",
              "                                                     [key], {});\n",
              "          if (!dataTable) return;\n",
              "\n",
              "          const docLinkHtml = 'Like what you see? Visit the ' +\n",
              "            '<a target=\"_blank\" href=https://colab.research.google.com/notebooks/data_table.ipynb>data table notebook</a>'\n",
              "            + ' to learn more about interactive tables.';\n",
              "          element.innerHTML = '';\n",
              "          dataTable['output_type'] = 'display_data';\n",
              "          await google.colab.output.renderOutput(dataTable, element);\n",
              "          const docLink = document.createElement('div');\n",
              "          docLink.innerHTML = docLinkHtml;\n",
              "          element.appendChild(docLink);\n",
              "        }\n",
              "      </script>\n",
              "    </div>\n",
              "  </div>\n",
              "  "
            ]
          },
          "metadata": {},
          "execution_count": 228
        }
      ]
    },
    {
      "cell_type": "code",
      "source": [
        "df = df.dropna(thresh=0.5*df.shape[0], axis=1)\n",
        "df.shape"
      ],
      "metadata": {
        "colab": {
          "base_uri": "https://localhost:8080/"
        },
        "outputId": "6b39c8e7-99a1-4178-bbfa-afddbc3c8de2",
        "id": "HoiuOSezIeXP"
      },
      "execution_count": 229,
      "outputs": [
        {
          "output_type": "execute_result",
          "data": {
            "text/plain": [
              "(268850, 42)"
            ]
          },
          "metadata": {},
          "execution_count": 229
        }
      ]
    },
    {
      "cell_type": "code",
      "source": [
        "df = df.drop(df[df['totalRent'] == 0.0].index)\n",
        "df.shape"
      ],
      "metadata": {
        "id": "nXQnYurKi1jM",
        "colab": {
          "base_uri": "https://localhost:8080/"
        },
        "outputId": "dd3a78cc-af15-4293-8b52-c2541e3d9669"
      },
      "execution_count": 230,
      "outputs": [
        {
          "output_type": "execute_result",
          "data": {
            "text/plain": [
              "(268614, 42)"
            ]
          },
          "metadata": {},
          "execution_count": 230
        }
      ]
    },
    {
      "cell_type": "code",
      "source": [
        "for cols in df.columns:\n",
        "    if df[cols].dtype == 'object' or df[cols].dtype == 'bool':\n",
        "        print('cols : {} , Types : {}'.format(cols,df[cols].nunique()))"
      ],
      "metadata": {
        "colab": {
          "base_uri": "https://localhost:8080/"
        },
        "outputId": "f08efd49-c426-4d17-fcda-94c437aa6c2b",
        "id": "vwfMuZvnIeXQ"
      },
      "execution_count": 231,
      "outputs": [
        {
          "output_type": "stream",
          "name": "stdout",
          "text": [
            "cols : regio1 , Types : 16\n",
            "cols : heatingType , Types : 13\n",
            "cols : telekomTvOffer , Types : 3\n",
            "cols : newlyConst , Types : 2\n",
            "cols : balcony , Types : 2\n",
            "cols : firingTypes , Types : 132\n",
            "cols : hasKitchen , Types : 2\n",
            "cols : geo_bln , Types : 16\n",
            "cols : cellar , Types : 2\n",
            "cols : houseNumber , Types : 5510\n",
            "cols : geo_krs , Types : 419\n",
            "cols : condition , Types : 10\n",
            "cols : interiorQual , Types : 4\n",
            "cols : petsAllowed , Types : 3\n",
            "cols : street , Types : 52357\n",
            "cols : streetPlain , Types : 54468\n",
            "cols : lift , Types : 2\n",
            "cols : typeOfFlat , Types : 10\n",
            "cols : garden , Types : 2\n",
            "cols : regio2 , Types : 419\n",
            "cols : regio3 , Types : 8683\n",
            "cols : description , Types : 212402\n",
            "cols : facilities , Types : 189425\n",
            "cols : date , Types : 4\n"
          ]
        }
      ]
    },
    {
      "cell_type": "code",
      "source": [
        "df = df.drop(columns=[\n",
        "                      'facilities',\n",
        "                      'description',\n",
        "                      'streetPlain',\n",
        "                      'street',\n",
        "                      'geo_krs',\n",
        "                      'firingTypes',\n",
        "                      'houseNumber',])"
      ],
      "metadata": {
        "id": "pXhCOQTsj4xd"
      },
      "execution_count": 232,
      "outputs": []
    },
    {
      "cell_type": "code",
      "source": [
        "df.columns"
      ],
      "metadata": {
        "id": "l46oq48mo0yt",
        "colab": {
          "base_uri": "https://localhost:8080/"
        },
        "outputId": "5efc5d1d-b2c2-4883-cec5-af3060ce3db3"
      },
      "execution_count": 233,
      "outputs": [
        {
          "output_type": "execute_result",
          "data": {
            "text/plain": [
              "Index(['regio1', 'serviceCharge', 'heatingType', 'telekomTvOffer',\n",
              "       'newlyConst', 'balcony', 'picturecount', 'pricetrend',\n",
              "       'telekomUploadSpeed', 'totalRent', 'yearConstructed', 'scoutId',\n",
              "       'hasKitchen', 'geo_bln', 'cellar', 'yearConstructedRange', 'baseRent',\n",
              "       'livingSpace', 'condition', 'interiorQual', 'petsAllowed', 'lift',\n",
              "       'baseRentRange', 'typeOfFlat', 'geo_plz', 'noRooms', 'thermalChar',\n",
              "       'floor', 'numberOfFloors', 'noRoomsRange', 'garden', 'livingSpaceRange',\n",
              "       'regio2', 'regio3', 'date'],\n",
              "      dtype='object')"
            ]
          },
          "metadata": {},
          "execution_count": 233
        }
      ]
    },
    {
      "cell_type": "code",
      "source": [
        "df.drop(columns=[\n",
        "                 'livingSpaceRange',\n",
        "                 'geo_plz',\n",
        "                 'scoutId',\n",
        "                 'telekomUploadSpeed',\n",
        "                 'telekomTvOffer',\n",
        "                 'pricetrend',\n",
        "                 'noRoomsRange',\n",
        "                 'picturecount',\n",
        "                 'geo_bln',\n",
        "                 'date',\n",
        "                 'baseRentRange',\n",
        "                 'yearConstructedRange']\n",
        "        ,inplace=True)"
      ],
      "metadata": {
        "id": "7xYhlCbswnz0"
      },
      "execution_count": 234,
      "outputs": []
    },
    {
      "cell_type": "code",
      "source": [
        "df.drop_duplicates(keep=False,inplace=True)\n",
        "df.shape"
      ],
      "metadata": {
        "id": "QvnqGPUek86a",
        "colab": {
          "base_uri": "https://localhost:8080/"
        },
        "outputId": "28cf450c-4452-4b7b-c66d-79ce32850cad"
      },
      "execution_count": 235,
      "outputs": [
        {
          "output_type": "execute_result",
          "data": {
            "text/plain": [
              "(257589, 23)"
            ]
          },
          "metadata": {},
          "execution_count": 235
        }
      ]
    },
    {
      "cell_type": "code",
      "source": [
        "for column in df.columns:\n",
        "  print(df[column].dtype)"
      ],
      "metadata": {
        "id": "fvDfQHY0q_n8",
        "colab": {
          "base_uri": "https://localhost:8080/"
        },
        "outputId": "0d4413c7-2863-4977-ff93-535110f2e4e1"
      },
      "execution_count": 236,
      "outputs": [
        {
          "output_type": "stream",
          "name": "stdout",
          "text": [
            "object\n",
            "float64\n",
            "object\n",
            "bool\n",
            "bool\n",
            "float64\n",
            "float64\n",
            "bool\n",
            "bool\n",
            "float64\n",
            "float64\n",
            "object\n",
            "object\n",
            "object\n",
            "bool\n",
            "object\n",
            "float64\n",
            "float64\n",
            "float64\n",
            "float64\n",
            "bool\n",
            "object\n",
            "object\n"
          ]
        }
      ]
    },
    {
      "cell_type": "code",
      "source": [
        "for column in df.columns:\n",
        "    if df[column].dtype == float or df[column].dtype == int:\n",
        "        upper = df[column].mean() + 3 * df[column].std()\n",
        "        lower = df[column].mean() - 3 * df[column].std()\n",
        "        rows = df[(df[column] > upper) | (df[column] < lower)].index\n",
        "\n",
        "        df.drop(rows, inplace=True)\n",
        "  "
      ],
      "metadata": {
        "id": "VfNYWLAtIeXR"
      },
      "execution_count": 237,
      "outputs": []
    },
    {
      "cell_type": "code",
      "source": [
        "df.isna().sum()"
      ],
      "metadata": {
        "id": "6qklf16vmLSH",
        "colab": {
          "base_uri": "https://localhost:8080/"
        },
        "outputId": "d60de6f2-a96e-4401-fb5b-89c1d21ef467"
      },
      "execution_count": 238,
      "outputs": [
        {
          "output_type": "execute_result",
          "data": {
            "text/plain": [
              "regio1                  0\n",
              "serviceCharge        6628\n",
              "heatingType         42238\n",
              "newlyConst              0\n",
              "balcony                 0\n",
              "totalRent           38399\n",
              "yearConstructed     54653\n",
              "hasKitchen              0\n",
              "cellar                  0\n",
              "baseRent                0\n",
              "livingSpace             0\n",
              "condition           64634\n",
              "interiorQual       106010\n",
              "petsAllowed        107883\n",
              "lift                    0\n",
              "typeOfFlat          34314\n",
              "noRooms                 0\n",
              "thermalChar        101782\n",
              "floor               48502\n",
              "numberOfFloors      91846\n",
              "garden                  0\n",
              "regio2                  0\n",
              "regio3                  0\n",
              "dtype: int64"
            ]
          },
          "metadata": {},
          "execution_count": 238
        }
      ]
    },
    {
      "cell_type": "code",
      "source": [
        "df.fillna(df._get_numeric_data().mean(),inplace = True)\n",
        "df['heatingType'].fillna(df['heatingType'].mode()[0], inplace=True)\n",
        "df['condition'].fillna(df['condition'].mode()[0], inplace=True)\n",
        "df['interiorQual'].fillna(df['interiorQual'].mode()[0], inplace=True)\n",
        "df['petsAllowed'].fillna(df['petsAllowed'].mode()[0], inplace=True)\n",
        "df['typeOfFlat'].fillna(df['typeOfFlat'].mode()[0], inplace=True)\n"
      ],
      "metadata": {
        "id": "S8eWTxj3sc_x"
      },
      "execution_count": 239,
      "outputs": []
    },
    {
      "cell_type": "code",
      "source": [
        "df.isna().sum()"
      ],
      "metadata": {
        "id": "8iz6rPjpsfEK",
        "colab": {
          "base_uri": "https://localhost:8080/"
        },
        "outputId": "759d6216-0070-44f7-c1ec-fd6971a320f0"
      },
      "execution_count": 240,
      "outputs": [
        {
          "output_type": "execute_result",
          "data": {
            "text/plain": [
              "regio1             0\n",
              "serviceCharge      0\n",
              "heatingType        0\n",
              "newlyConst         0\n",
              "balcony            0\n",
              "totalRent          0\n",
              "yearConstructed    0\n",
              "hasKitchen         0\n",
              "cellar             0\n",
              "baseRent           0\n",
              "livingSpace        0\n",
              "condition          0\n",
              "interiorQual       0\n",
              "petsAllowed        0\n",
              "lift               0\n",
              "typeOfFlat         0\n",
              "noRooms            0\n",
              "thermalChar        0\n",
              "floor              0\n",
              "numberOfFloors     0\n",
              "garden             0\n",
              "regio2             0\n",
              "regio3             0\n",
              "dtype: int64"
            ]
          },
          "metadata": {},
          "execution_count": 240
        }
      ]
    },
    {
      "cell_type": "code",
      "source": [
        "for cols in df.columns:\n",
        "    if df[cols].dtype == 'object' or df[cols].dtype == 'bool':\n",
        "        print('cols : {} , Types : {}'.format(cols,df[cols].nunique()))"
      ],
      "metadata": {
        "id": "V3OrxtbNyYUU",
        "colab": {
          "base_uri": "https://localhost:8080/"
        },
        "outputId": "07d5370b-7d72-44ca-cb74-acbefc36e8c9"
      },
      "execution_count": 241,
      "outputs": [
        {
          "output_type": "stream",
          "name": "stdout",
          "text": [
            "cols : regio1 , Types : 16\n",
            "cols : heatingType , Types : 13\n",
            "cols : newlyConst , Types : 2\n",
            "cols : balcony , Types : 2\n",
            "cols : hasKitchen , Types : 2\n",
            "cols : cellar , Types : 2\n",
            "cols : condition , Types : 10\n",
            "cols : interiorQual , Types : 4\n",
            "cols : petsAllowed , Types : 3\n",
            "cols : lift , Types : 2\n",
            "cols : typeOfFlat , Types : 10\n",
            "cols : garden , Types : 2\n",
            "cols : regio2 , Types : 419\n",
            "cols : regio3 , Types : 8638\n"
          ]
        }
      ]
    },
    {
      "cell_type": "code",
      "source": [
        "df['regio1'].value_counts()"
      ],
      "metadata": {
        "id": "w0SI_1fVz5U_",
        "colab": {
          "base_uri": "https://localhost:8080/"
        },
        "outputId": "0c8c01fc-e47e-4a91-a5f0-fe58ce5b3b1f"
      },
      "execution_count": 242,
      "outputs": [
        {
          "output_type": "execute_result",
          "data": {
            "text/plain": [
              "Nordrhein_Westfalen       60273\n",
              "Sachsen                   53522\n",
              "Bayern                    20924\n",
              "Sachsen_Anhalt            18728\n",
              "Hessen                    16918\n",
              "Niedersachsen             16021\n",
              "Baden_Württemberg         15484\n",
              "Berlin                     9815\n",
              "Rheinland_Pfalz            8006\n",
              "Thüringen                  7936\n",
              "Brandenburg                6587\n",
              "Schleswig_Holstein         6420\n",
              "Mecklenburg_Vorpommern     6324\n",
              "Hamburg                    3603\n",
              "Bremen                     2851\n",
              "Saarland                   1378\n",
              "Name: regio1, dtype: int64"
            ]
          },
          "metadata": {},
          "execution_count": 242
        }
      ]
    },
    {
      "cell_type": "code",
      "source": [
        "others = list(df['regio1'].value_counts().tail(6).index)\n",
        "\n",
        "def edit_condition(x):\n",
        "    if x in others:\n",
        "        return 'other'\n",
        "    else:\n",
        "        return x\n",
        "    \n",
        "df['edited_regio1'] = df['regio1'].apply(edit_condition)\n",
        "df = df.drop(columns=['regio1'])\n",
        "df['edited_regio1'].value_counts()"
      ],
      "metadata": {
        "id": "3tl_FaJ8z0f0",
        "colab": {
          "base_uri": "https://localhost:8080/"
        },
        "outputId": "47617804-57f2-4a68-b329-91bfacea115a"
      },
      "execution_count": 243,
      "outputs": [
        {
          "output_type": "execute_result",
          "data": {
            "text/plain": [
              "Nordrhein_Westfalen    60273\n",
              "Sachsen                53522\n",
              "other                  27163\n",
              "Bayern                 20924\n",
              "Sachsen_Anhalt         18728\n",
              "Hessen                 16918\n",
              "Niedersachsen          16021\n",
              "Baden_Württemberg      15484\n",
              "Berlin                  9815\n",
              "Rheinland_Pfalz         8006\n",
              "Thüringen               7936\n",
              "Name: edited_regio1, dtype: int64"
            ]
          },
          "metadata": {},
          "execution_count": 243
        }
      ]
    },
    {
      "cell_type": "code",
      "source": [
        "df['regio2'].value_counts()"
      ],
      "metadata": {
        "id": "FY0OlEoe_Gbk",
        "colab": {
          "base_uri": "https://localhost:8080/"
        },
        "outputId": "37b44452-4477-410a-f6a7-2305e4e30ae3"
      },
      "execution_count": 244,
      "outputs": [
        {
          "output_type": "execute_result",
          "data": {
            "text/plain": [
              "Leipzig                         12809\n",
              "Chemnitz                        11393\n",
              "Berlin                           9815\n",
              "Dresden                          7055\n",
              "Magdeburg                        4547\n",
              "                                ...  \n",
              "Freyung_Grafenau_Kreis             26\n",
              "Schweinfurt_Kreis                  26\n",
              "Haßberge_Kreis                     23\n",
              "Neustadt_a.d._Waldnaab_Kreis       16\n",
              "Kronach_Kreis                      12\n",
              "Name: regio2, Length: 419, dtype: int64"
            ]
          },
          "metadata": {},
          "execution_count": 244
        }
      ]
    },
    {
      "cell_type": "code",
      "source": [
        "others = list(df['regio2'].value_counts().tail(409).index)\n",
        "\n",
        "    \n",
        "df['edited_regio2'] = df['regio2'].apply(edit_condition)\n",
        "df = df.drop(columns=['regio2'])\n",
        "df['edited_regio2'].value_counts()"
      ],
      "metadata": {
        "id": "-cc5OPoe_TUP",
        "colab": {
          "base_uri": "https://localhost:8080/"
        },
        "outputId": "00fb30e8-57d5-423f-a521-f4d2803a9f0a"
      },
      "execution_count": 245,
      "outputs": [
        {
          "output_type": "execute_result",
          "data": {
            "text/plain": [
              "other                189082\n",
              "Leipzig               12809\n",
              "Chemnitz              11393\n",
              "Berlin                 9815\n",
              "Dresden                7055\n",
              "Magdeburg              4547\n",
              "München                4261\n",
              "Halle_Saale            4175\n",
              "Essen                  4140\n",
              "Frankfurt_am_Main      3910\n",
              "Hamburg                3603\n",
              "Name: edited_regio2, dtype: int64"
            ]
          },
          "metadata": {},
          "execution_count": 245
        }
      ]
    },
    {
      "cell_type": "code",
      "source": [
        "df['regio3'].value_counts()"
      ],
      "metadata": {
        "id": "7arU54xD_91T",
        "colab": {
          "base_uri": "https://localhost:8080/"
        },
        "outputId": "747da89c-71a7-4c6a-d305-338567c33f54"
      },
      "execution_count": 246,
      "outputs": [
        {
          "output_type": "execute_result",
          "data": {
            "text/plain": [
              "Innenstadt       4515\n",
              "Stadtmitte       2583\n",
              "Altstadt         2197\n",
              "Sonnenberg       1748\n",
              "Kaßberg          1554\n",
              "                 ... \n",
              "Ludwigswinkel       1\n",
              "Kirchenlamitz       1\n",
              "Pellingen           1\n",
              "Schönecken          1\n",
              "Eberfing            1\n",
              "Name: regio3, Length: 8638, dtype: int64"
            ]
          },
          "metadata": {},
          "execution_count": 246
        }
      ]
    },
    {
      "cell_type": "code",
      "source": [
        "others = list(df['regio3'].value_counts().tail(8620).index)\n",
        "\n",
        "    \n",
        "df['edited_regio3'] = df['regio3'].apply(edit_condition)\n",
        "df = df.drop(columns=['regio3'])\n",
        "df['edited_regio3'].value_counts()"
      ],
      "metadata": {
        "id": "7TIsU4WPAG9v",
        "colab": {
          "base_uri": "https://localhost:8080/"
        },
        "outputId": "e971a800-1878-4fd7-e53e-3259317fd8df"
      },
      "execution_count": 247,
      "outputs": [
        {
          "output_type": "execute_result",
          "data": {
            "text/plain": [
              "other             230289\n",
              "Innenstadt          4515\n",
              "Stadtmitte          2583\n",
              "Altstadt            2197\n",
              "Sonnenberg          1748\n",
              "Kaßberg             1554\n",
              "Mitte               1507\n",
              "Schloßchemnitz      1195\n",
              "Hilbersdorf         1045\n",
              "Südstadt            1022\n",
              "Zentrum             1014\n",
              "Merseburg            808\n",
              "Freiberg             796\n",
              "Stadtfeld_Ost        795\n",
              "Bernsdorf            770\n",
              "Gablenz              762\n",
              "Mitte_Mitte          757\n",
              "Lutherviertel        731\n",
              "Halberstadt          702\n",
              "Name: edited_regio3, dtype: int64"
            ]
          },
          "metadata": {},
          "execution_count": 247
        }
      ]
    },
    {
      "cell_type": "code",
      "source": [
        "df['heatingType'].value_counts()"
      ],
      "metadata": {
        "colab": {
          "base_uri": "https://localhost:8080/"
        },
        "outputId": "d54de945-9d47-48ca-c692-f09465aafdf1",
        "id": "Xdjy9pIdI7mT"
      },
      "execution_count": 248,
      "outputs": [
        {
          "output_type": "execute_result",
          "data": {
            "text/plain": [
              "central_heating                   164333\n",
              "district_heating                   23114\n",
              "gas_heating                        19194\n",
              "self_contained_central_heating     18170\n",
              "floor_heating                      16912\n",
              "oil_heating                         4935\n",
              "heat_pump                           2659\n",
              "combined_heat_and_power_plant       1925\n",
              "night_storage_heater                1269\n",
              "wood_pellet_heating                  944\n",
              "electric_heating                     862\n",
              "stove_heating                        309\n",
              "solar_heating                        164\n",
              "Name: heatingType, dtype: int64"
            ]
          },
          "metadata": {},
          "execution_count": 248
        }
      ]
    },
    {
      "cell_type": "code",
      "source": [
        "others = list(df['heatingType'].value_counts().tail(8).index)\n",
        "\n",
        "   \n",
        "df['edited_heatingType'] = df['heatingType'].apply(edit_condition)\n",
        "df = df.drop(columns=['heatingType'])\n",
        "df['edited_heatingType'].value_counts()"
      ],
      "metadata": {
        "colab": {
          "base_uri": "https://localhost:8080/"
        },
        "outputId": "c9ec97c5-e2f4-437b-bfae-5d19e24dad6c",
        "id": "fHD3t5qfI7mT"
      },
      "execution_count": 249,
      "outputs": [
        {
          "output_type": "execute_result",
          "data": {
            "text/plain": [
              "central_heating                   164333\n",
              "district_heating                   23114\n",
              "gas_heating                        19194\n",
              "self_contained_central_heating     18170\n",
              "floor_heating                      16912\n",
              "other                              13067\n",
              "Name: edited_heatingType, dtype: int64"
            ]
          },
          "metadata": {},
          "execution_count": 249
        }
      ]
    },
    {
      "cell_type": "code",
      "source": [
        "df['condition'].value_counts()"
      ],
      "metadata": {
        "id": "hXW8DNg5zKbz",
        "colab": {
          "base_uri": "https://localhost:8080/"
        },
        "outputId": "e22ef7eb-1ecb-411c-b6f2-e71c95b0ff94"
      },
      "execution_count": 250,
      "outputs": [
        {
          "output_type": "execute_result",
          "data": {
            "text/plain": [
              "well_kept                             128282\n",
              "refurbished                            25117\n",
              "fully_renovated                        25026\n",
              "mint_condition                         21107\n",
              "first_time_use                         20626\n",
              "modernized                             16450\n",
              "first_time_use_after_refurbishment     14805\n",
              "negotiable                              2053\n",
              "need_of_renovation                      1320\n",
              "ripe_for_demolition                        4\n",
              "Name: condition, dtype: int64"
            ]
          },
          "metadata": {},
          "execution_count": 250
        }
      ]
    },
    {
      "cell_type": "code",
      "source": [
        "others = list(df['condition'].value_counts().tail(5).index)\n",
        "\n",
        "df['edited_condition'] = df['condition'].apply(edit_condition)\n",
        "df = df.drop(columns=['condition'])\n",
        "df['edited_condition'].value_counts()"
      ],
      "metadata": {
        "id": "jRhdFv-Cytcp",
        "colab": {
          "base_uri": "https://localhost:8080/"
        },
        "outputId": "06e01fca-f8fa-4ab2-e8d0-d595ae164be1"
      },
      "execution_count": 251,
      "outputs": [
        {
          "output_type": "execute_result",
          "data": {
            "text/plain": [
              "well_kept          128282\n",
              "other               34632\n",
              "refurbished         25117\n",
              "fully_renovated     25026\n",
              "mint_condition      21107\n",
              "first_time_use      20626\n",
              "Name: edited_condition, dtype: int64"
            ]
          },
          "metadata": {},
          "execution_count": 251
        }
      ]
    },
    {
      "cell_type": "code",
      "source": [
        "df['typeOfFlat'].value_counts()"
      ],
      "metadata": {
        "id": "au0m2b1s07l-",
        "colab": {
          "base_uri": "https://localhost:8080/"
        },
        "outputId": "e6a1d4d5-bd1c-4190-9fd9-c4631064bdf4"
      },
      "execution_count": 252,
      "outputs": [
        {
          "output_type": "execute_result",
          "data": {
            "text/plain": [
              "apartment              158408\n",
              "roof_storey             33332\n",
              "ground_floor            30120\n",
              "other                    9122\n",
              "maisonette               8879\n",
              "raised_ground_floor      5392\n",
              "penthouse                3385\n",
              "terraced_flat            3270\n",
              "half_basement            1973\n",
              "loft                      909\n",
              "Name: typeOfFlat, dtype: int64"
            ]
          },
          "metadata": {},
          "execution_count": 252
        }
      ]
    },
    {
      "cell_type": "code",
      "source": [
        "others = list(df['typeOfFlat'].value_counts().tail(5).index)\n",
        "\n",
        "df['edited_typeOfFlat'] = df['typeOfFlat'].apply(edit_condition)\n",
        "df = df.drop(columns=['typeOfFlat'])\n",
        "df['edited_typeOfFlat'].value_counts()"
      ],
      "metadata": {
        "id": "9imaQShU1Kso",
        "colab": {
          "base_uri": "https://localhost:8080/"
        },
        "outputId": "3fbd6a96-5968-4ccf-99f7-da780f356c59"
      },
      "execution_count": 253,
      "outputs": [
        {
          "output_type": "execute_result",
          "data": {
            "text/plain": [
              "apartment       158408\n",
              "roof_storey      33332\n",
              "ground_floor     30120\n",
              "other            24051\n",
              "maisonette        8879\n",
              "Name: edited_typeOfFlat, dtype: int64"
            ]
          },
          "metadata": {},
          "execution_count": 253
        }
      ]
    },
    {
      "cell_type": "code",
      "source": [
        "columns = []\n",
        "for col in df.columns:\n",
        "    if df[col].dtype == 'object' or df[col].dtype == 'bool':\n",
        "        columns.append(col)\n",
        "        \n",
        "dummies_feature = pd.get_dummies(df[columns])\n",
        "df = pd.concat([df, dummies_feature], axis=1)\n",
        "\n",
        "df = df.drop(columns=columns)\n",
        "\n",
        "target = df['totalRent']\n",
        "df = df.drop('totalRent', axis=1)\n",
        "\n",
        "X_train, X_test, y_train, y_test = train_test_split(df, target, test_size=0.3, random_state=43)\n",
        "\n",
        "for col in X_train.columns:\n",
        "    if (X_train[col].dtype == 'int64' or X_train[col].dtype == 'float64') and not X_train[col].isin([0, 1]).all():\n",
        "          X_train[col] = ((X_train[col] - X_train[col].mean())/(X_train[col].std()))\n",
        "\n",
        "for col in X_test.columns:\n",
        "    if (X_test[col].dtype == 'int64' or X_test[col].dtype == 'float64') and not X_test[col].isin([0, 1]).all():\n",
        "          X_test[col] = ((X_test[col] - X_test[col].mean())/(X_test[col].std()))\n"
      ],
      "metadata": {
        "id": "uQuhhdMYI_Ab"
      },
      "execution_count": 254,
      "outputs": []
    },
    {
      "cell_type": "markdown",
      "source": [
        "### 2. Train"
      ],
      "metadata": {
        "id": "qVVs3jlXJMDW"
      }
    },
    {
      "cell_type": "markdown",
      "source": [
        "#### a) Ridge"
      ],
      "metadata": {
        "id": "Nb9gpr8dJpLo"
      }
    },
    {
      "cell_type": "code",
      "source": [
        "ridge = Ridge(alpha=1)\n",
        "ridge.fit(X_train, y_train)\n",
        "y_pre_ri = ridge.predict(X_test)\n"
      ],
      "metadata": {
        "id": "HjVPYJcJJLet"
      },
      "execution_count": 255,
      "outputs": []
    },
    {
      "cell_type": "code",
      "source": [
        "metrics.r2_score(y_test, y_pre_ri)"
      ],
      "metadata": {
        "colab": {
          "base_uri": "https://localhost:8080/"
        },
        "id": "JsxP6Pt1Jdgy",
        "outputId": "5e212a0d-8b6e-45ff-b41b-efbba2bb796b"
      },
      "execution_count": 256,
      "outputs": [
        {
          "output_type": "execute_result",
          "data": {
            "text/plain": [
              "0.5535044428178639"
            ]
          },
          "metadata": {},
          "execution_count": 256
        }
      ]
    },
    {
      "cell_type": "markdown",
      "source": [
        "#### b) Lasso"
      ],
      "metadata": {
        "id": "yx3ym1xEJsK9"
      }
    },
    {
      "cell_type": "code",
      "source": [
        "lasso = Lasso(alpha=0.1)\n",
        "lasso.fit(X_train, y_train)\n",
        "y_pre_la = lasso.predict(X_test)"
      ],
      "metadata": {
        "id": "TJOCphOlJvo3"
      },
      "execution_count": 257,
      "outputs": []
    },
    {
      "cell_type": "code",
      "source": [
        "metrics.r2_score(y_test, y_pre_la)"
      ],
      "metadata": {
        "colab": {
          "base_uri": "https://localhost:8080/"
        },
        "id": "xKjs3eRYJ8M-",
        "outputId": "03528e28-3e65-4ccf-d27b-93a029aa715c"
      },
      "execution_count": 258,
      "outputs": [
        {
          "output_type": "execute_result",
          "data": {
            "text/plain": [
              "0.5537851596018275"
            ]
          },
          "metadata": {},
          "execution_count": 258
        }
      ]
    }
  ],
  "metadata": {
    "colab": {
      "name": "Apartment_rental.ipynb",
      "provenance": [],
      "collapsed_sections": [
        "XzQ60j2dIPKF",
        "qgdfeF8_IZs3",
        "Nb9gpr8dJpLo",
        "yx3ym1xEJsK9"
      ]
    },
    "kernelspec": {
      "display_name": "Python 3",
      "name": "python3"
    },
    "language_info": {
      "name": "python"
    }
  },
  "nbformat": 4,
  "nbformat_minor": 0
}